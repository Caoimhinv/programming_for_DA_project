{
 "cells": [
  {
   "cell_type": "markdown",
   "id": "2112132a-f23b-4122-a7b2-4d954e99ae8d",
   "metadata": {},
   "source": [
    "# Programming for Data Analysis Project\n",
    "\n",
    "---"
   ]
  },
  {
   "cell_type": "markdown",
   "id": "f8039991-6dc3-4f8c-9235-b70b31f239f5",
   "metadata": {},
   "source": [
    "### Autumn/Winter 2021\n",
    "---"
   ]
  },
  {
   "cell_type": "markdown",
   "id": "0b62b085-e4e3-403d-b1c2-35fdcfa03937",
   "metadata": {},
   "source": [
    "<br>\n",
    "\n",
    "## The Session"
   ]
  },
  {
   "cell_type": "markdown",
   "id": "35addd14-a8e0-4bf9-9cc0-08cc6aef8093",
   "metadata": {},
   "source": [
    "<br>\n",
    "\n",
    "___\n",
    "#### Introduction  \n",
    "The project brief stipulated that we *\"create a data set by simulating a real-world phenomenon\"*. It was further suggested we pick something that is of interest to us in our personal or professional life. I've decided to do something on music sessions and try to simulate a dataset based on the attendees at sessions in a given month in a particular pub in Cork city!\n",
    "I'll try to work out all of the variables, examine their properties, potential data types, and how they relate to each other. I'll then try and work out code to simulate a random dataset based on that information."
   ]
  },
  {
   "cell_type": "markdown",
   "id": "b83e47f7-6e19-4ce6-82d7-c951a863e812",
   "metadata": {},
   "source": [
    "![session1](images/session1.jpg)"
   ]
  },
  {
   "cell_type": "markdown",
   "id": "2680e759-83b0-4c26-a4e9-1df62066bca2",
   "metadata": {},
   "source": [
    "<br>\n",
    "\n",
    "#### The variables\n",
    "\n",
    "The first challenge was to come up with a lost of variables, that were both appropriate and possible to simulate. The list below changed quite a few times after I discovered problems with some, and thought of others as the project progressed. A field trip helped! 😁"
   ]
  },
  {
   "cell_type": "markdown",
   "id": "11c9ecc9-c476-4145-a002-743c746de6fc",
   "metadata": {},
   "source": [
    "1. The players  \n",
    "There can be anywhere between 3 and sometimes more than 10 musicians on any given night, and this particular pub (pre-covid!) would usually have 7 sessions a week. So that's a monthly range of between 84 and 280+. The brief asks for \"at least one-hundred data points across at least four different variables\" - I'm presuming it's unlikely my simulation will return a number below 100.\n",
    "3 is always the minimum number of musicians, as they would be the paid hosts of the session. The norm would be around 5 or 6 musicians, but sometimes there might be more than 10 for a party or special occasion."
   ]
  },
  {
   "cell_type": "markdown",
   "id": "7ef49461-f220-44ec-8c20-016cdb4cf4ec",
   "metadata": {},
   "source": [
    "2. The instruments  \n",
    "The range of instruments played includes fiddle, accordion, guitar, flute, uilleann pipes, bodhrán, bouzouki, banjo, concertina, mandolin, bass, and drums. Some of the instruments are particualar to a musical genre, while some would be found at all of the different sessions. Within that some instruments are more popular than others, with at least 1 guitar being found at every single session."
   ]
  },
  {
   "cell_type": "markdown",
   "id": "424d4d95-cc20-4f9e-b1ca-66d4e3af908c",
   "metadata": {},
   "source": [
    "3. Genre  \n",
    "While the pub mostly has Irish traditional music (ITM), there are also sessions of bluegrass, old-time, and blues music. The weekly breakdown is 4 ITM and 1 each of the other three."
   ]
  },
  {
   "cell_type": "markdown",
   "id": "64eacd94-c869-4f81-96d4-0c3c07946833",
   "metadata": {},
   "source": [
    "4. Ability  \n",
    "All of the musicians would be of differing ability levels. The hosts would normally be the most able. The guests can range from beginners just joining in, to experienced professional musicians passing through town. The pub in question is quite famous so there would be more of the latter. "
   ]
  },
  {
   "cell_type": "markdown",
   "id": "056a3aee-6c54-4ff4-a666-5dc437ccd64c",
   "metadata": {},
   "source": [
    "5. Age  \n",
    "The pub in question is over 21s only and is regarded as an 'old man's pub'! The age range would be from 21 up to 80 I'd say, which would be equally spread out I think with possible spikes at either end of the spectrum. Age isn't necessarily connected to ability but can be! Generally the blugrass players tend to be older, while a lot of the ITM players would be younger."
   ]
  },
  {
   "cell_type": "markdown",
   "id": "1a1cb13d-9521-4122-ac3b-a9c926d046f9",
   "metadata": {},
   "source": [
    "6. Repertoire  \n",
    "A top ITM musician would have a reportoire of hundreds if not thousands of tunes. However a top younger musicians mightn't have learnt that many tunes yet. Equally an intermediate older musician may have amassed a huge amount of tunes but not be great at playing them! Blues players would typically have a much smaller repertoire, while the blugrass/old-time musicians would be somewhere in between."
   ]
  },
  {
   "cell_type": "markdown",
   "id": "ca795996-771e-40da-8297-6433e60cf490",
   "metadata": {},
   "source": [
    "7. Paid  \n",
    "The session would always have at least 3 hosts who would be paid. It's most common for these to be the best ability-wise, biggest repertoire, and older (but not always!). The typical instruments for ITM hosts would be accordion, fiddle and guitar. Whereas there may be more of a mix in the other genres, and more musicians sharing the fee."
   ]
  },
  {
   "cell_type": "markdown",
   "id": "25e71cdd-0a39-42d3-ada4-2404bb7eb471",
   "metadata": {},
   "source": [
    "8. Drink  \n",
    "Just putting this in for the craic! The typical drinks might be Beamish, Guinness, Murphys, various lagers on tap, craft beers, red wine, spirits, water/soft drinks. The older hosts and musicians tend to drink Beamish and red wine! The younger craft beers and non-alcoholic drinks? Sweeping generalisations will abound here!"
   ]
  },
  {
   "cell_type": "markdown",
   "id": "4b123e3f-7377-4fbd-b09f-d1b55f0801df",
   "metadata": {
    "tags": []
   },
   "source": [
    "9. Quantity of drink  \n",
    "I'm guessing most musicians would have around 4/5 drinks a night, whether that's alcoholic drinks or not. Some will certainly have more and some much less."
   ]
  },
  {
   "cell_type": "markdown",
   "id": "39977c63-5bb4-4c00-9f58-ea8c36b15943",
   "metadata": {},
   "source": [
    "10. Night of the week  \n",
    "The midweek nights have less musicians - sometime just the hosts - while the weekends are always busier. The age profile would always be older during the week (retirees!) while the weekend would have a bigger range. There would also be more drinking at the weekend!"
   ]
  },
  {
   "cell_type": "markdown",
   "id": "466f22bf-9ba3-4df7-ba6c-cb73191c9ef1",
   "metadata": {},
   "source": [
    "11. Gender  \n",
    "Men would certainly be in the majority at all sessions here! Blues and bluegrass sessions would nearly be entirely male, while there would be more women in the ITM sessions."
   ]
  },
  {
   "cell_type": "markdown",
   "id": "dc87de04-69da-48c8-926c-cc529130f7c1",
   "metadata": {},
   "source": [
    "<br>\n",
    "\n",
    "I need to examine each of these variables in much more detail and try and work out code to simulate them. I guess one of the ultimate goals in this will be whether myself or one of my colleagues could recognise ourselves in the results!"
   ]
  },
  {
   "cell_type": "markdown",
   "id": "82396392-a31f-40f8-8d87-6bb1f41df29d",
   "metadata": {},
   "source": [
    "<br>\n",
    "\n",
    "___\n",
    "#### Examining the variables in detail and attempted coding"
   ]
  },
  {
   "cell_type": "markdown",
   "id": "9229d155-7a3e-49ba-8893-7c304ce728bb",
   "metadata": {},
   "source": [
    "We begin by importing the necessary python packages."
   ]
  },
  {
   "cell_type": "code",
   "execution_count": 1,
   "id": "6cb937d9-f05e-49b3-9362-8b3f8c2cbae1",
   "metadata": {},
   "outputs": [],
   "source": [
    "# numerical arrays\n",
    "import numpy as np\n",
    "\n",
    "# dataframes\n",
    "import pandas as pd\n",
    "\n",
    "# plotting\n",
    "import matplotlib.pyplot as plt\n",
    "\n",
    "# # nicer plotting\n",
    "# import seaborn as sns\n",
    "\n",
    "# module for choosing from a list\n",
    "from secrets import choice\n",
    "\n",
    "# python standard random library\n",
    "import random"
   ]
  },
  {
   "cell_type": "code",
   "execution_count": 2,
   "id": "fa6f568e-51f1-4d47-b2fc-d35cfdd1ff32",
   "metadata": {},
   "outputs": [],
   "source": [
    "# # set global style for seaborn plots\n",
    "# sns.set_style(\"darkgrid\")\n",
    "\n",
    "# set global figure size\n",
    "plt.rcParams[\"figure.figsize\"] = (15,10)"
   ]
  },
  {
   "cell_type": "markdown",
   "id": "577573ff-0ce0-4acd-91ca-1d84823423c5",
   "metadata": {},
   "source": [
    "<br>\n",
    "\n",
    "1. **The players**  \n",
    "\n",
    "We'll decide that the month is January* so that's 30 days (not including New Year's Day 😁) so 30 sessions. The range for the amount of musicians at any particular session is 3-10. The datatype would obviously have to be integer. This value could also serve as the index as each attendee (or more correctly attendence as in reality a lot of people will atend on multiple occasions) will be unique.\n",
    "\n",
    "I'm going to create an array of 30 values between 3 and 10 and then add them up**. We're using numpy.random to create a random number generator and then create the array of integers. I'm giving the random number generator a seed so the results will remain the same each time.*** This is a way of also ensuring I get over 100 variables!\n",
    "\n",
    "\\* an option later might be to give the user a option to choose a month?  \n",
    "\\** I could also create another dataset giving the breakdown in each session? I.e. 30 entries with a few of the same variables - gender, instruments, etc.\n",
    "\\*** I could also change give an option to change or remove the seed to give a different result each time?\n"
   ]
  },
  {
   "cell_type": "code",
   "execution_count": 3,
   "id": "c16098b0-11ac-4a33-9b6a-244a00c62047",
   "metadata": {},
   "outputs": [
    {
     "data": {
      "text/plain": [
       "array([ 3,  9,  8,  6,  6,  9,  3,  8,  4,  3,  7, 10,  8,  9,  8,  9,  7,\n",
       "        4,  9,  6,  7,  5,  4, 10,  9,  8,  6,  9,  7,  6])"
      ]
     },
     "execution_count": 3,
     "metadata": {},
     "output_type": "execute_result"
    }
   ],
   "source": [
    "# create a random number generator with seed\n",
    "rng = np.random.default_rng(42)\n",
    "\n",
    "# create an array of 30 numbers between 3 and 11 (non-inclusive)\n",
    "x = rng.integers(3, 11, 30)\n",
    "x"
   ]
  },
  {
   "cell_type": "markdown",
   "id": "3497a9da-d8aa-431a-9efb-9de00403de3c",
   "metadata": {},
   "source": [
    "It's hard to judge anything from that but we can create a `barplot` with `seaborn` to get a better idea."
   ]
  },
  {
   "cell_type": "code",
   "execution_count": 4,
   "id": "b771d16b-0383-4b5c-a2ea-702e40c4588a",
   "metadata": {},
   "outputs": [],
   "source": [
    "# add up the frequency of each unique value\n",
    "unique, counts = np.unique(x, return_counts=True)\n",
    "\n",
    "# # plots the results\n",
    "# sns.barplot(x = unique, y = counts)"
   ]
  },
  {
   "cell_type": "markdown",
   "id": "c57e9aa2-0752-47a7-be37-ff1d09e19e5c",
   "metadata": {},
   "source": [
    "This doesn't reallty work as I want the average to be around 5/6 and there certainly aren't going to be that many sessions with 9 people. I need to find a normal distribution with a mean around 5. And with integers! And with no values below 3! The following is adapted from https://www.py4u.net/discuss/18951 and https://stackoverflow.com/questions/55806118/remove-elements-from-numpy-array-smaller-than-1."
   ]
  },
  {
   "cell_type": "code",
   "execution_count": 5,
   "id": "c0a8dab5-6129-45b7-9f6c-f7cfb56c8658",
   "metadata": {},
   "outputs": [
    {
     "name": "stdout",
     "output_type": "stream",
     "text": [
      "The total number of attendances in January is 152\n"
     ]
    },
    {
     "data": {
      "text/plain": [
       "152"
      ]
     },
     "execution_count": 5,
     "metadata": {},
     "output_type": "execute_result"
    }
   ],
   "source": [
    "# sets mean, standard deviation and size of array\n",
    "muso = rng.normal(loc=5, scale=3, size=30)\n",
    "\n",
    "# rounds the values\n",
    "musoInt = np.round(muso)\n",
    "\n",
    "# removes values lower than 3\n",
    "musoInt1 = musoInt[(musoInt > 2)]\n",
    "\n",
    "# convert to integers\n",
    "musoInt1 = musoInt1.astype(int)\n",
    "# print(musoInt1)\n",
    "\n",
    "# add up the frequency of each unique value\n",
    "unique, counts = np.unique(musoInt1, return_counts=True)\n",
    "\n",
    "# # plots the results\n",
    "# sns.barplot(x = unique, y = counts)\n",
    "\n",
    "# adds up the results and converts to an int\n",
    "y = int(musoInt1.sum())\n",
    "\n",
    "print(f'The total number of attendances in January is {y}')\n",
    "y"
   ]
  },
  {
   "cell_type": "markdown",
   "id": "37d208ca-b391-4fac-9aa1-d6835214a56c",
   "metadata": {},
   "source": [
    "This looks like a lot better representation of what the breakdown of attendences might be. We now need to turn the total into the first column of the dataframe. We create an array using `numpy` with the total as the upper limit. This is then converted into a `pandas` dataframe and the first column titled muso."
   ]
  },
  {
   "cell_type": "code",
   "execution_count": 6,
   "id": "9d284538-79d4-4616-a05d-66807451477a",
   "metadata": {},
   "outputs": [
    {
     "data": {
      "text/html": [
       "<div>\n",
       "<style scoped>\n",
       "    .dataframe tbody tr th:only-of-type {\n",
       "        vertical-align: middle;\n",
       "    }\n",
       "\n",
       "    .dataframe tbody tr th {\n",
       "        vertical-align: top;\n",
       "    }\n",
       "\n",
       "    .dataframe thead th {\n",
       "        text-align: right;\n",
       "    }\n",
       "</style>\n",
       "<table border=\"1\" class=\"dataframe\">\n",
       "  <thead>\n",
       "    <tr style=\"text-align: right;\">\n",
       "      <th></th>\n",
       "      <th>muso</th>\n",
       "    </tr>\n",
       "  </thead>\n",
       "  <tbody>\n",
       "    <tr>\n",
       "      <th>0</th>\n",
       "      <td>0</td>\n",
       "    </tr>\n",
       "    <tr>\n",
       "      <th>1</th>\n",
       "      <td>1</td>\n",
       "    </tr>\n",
       "    <tr>\n",
       "      <th>2</th>\n",
       "      <td>2</td>\n",
       "    </tr>\n",
       "    <tr>\n",
       "      <th>3</th>\n",
       "      <td>3</td>\n",
       "    </tr>\n",
       "    <tr>\n",
       "      <th>4</th>\n",
       "      <td>4</td>\n",
       "    </tr>\n",
       "  </tbody>\n",
       "</table>\n",
       "</div>"
      ],
      "text/plain": [
       "   muso\n",
       "0     0\n",
       "1     1\n",
       "2     2\n",
       "3     3\n",
       "4     4"
      ]
     },
     "execution_count": 6,
     "metadata": {},
     "output_type": "execute_result"
    }
   ],
   "source": [
    "# create numPy array using x as upper limit\n",
    "data = np.arange(y)\n",
    "\n",
    "# turn it into a dataframe\n",
    "df = pd.DataFrame(data, columns = ['muso'])\n",
    "\n",
    "# have a look\n",
    "df.head()"
   ]
  },
  {
   "cell_type": "markdown",
   "id": "1d5eeca1-63f8-43e2-81e0-9d7580e9922f",
   "metadata": {},
   "source": [
    "<br>\n",
    "\n",
    "2. **The instruments**  \n",
    "We need to create a list of the instuments first - datatype is obviously going to be a string. We then use `numpy.random.choice` to create another array the same size as the first column 'muso'. I weighted the percentage chance of returning each instrument (`p=[0.15, etc]`) so that guitar will be the most likely instrument to returned followed by fiddle and accordion. This variable doesn't need to be related to anything yet so we assign the instruments randomly as a new column. "
   ]
  },
  {
   "cell_type": "code",
   "execution_count": 7,
   "id": "1060f001-8e4e-4d92-bb5c-637111398e8c",
   "metadata": {},
   "outputs": [],
   "source": [
    "# create a list of instruments\n",
    "instrs = ['guitar', 'fiddle', 'accordion', 'flute', 'uilleann_pipes', 'concertina', 'bodhrán',\n",
    "        'mandolin', 'bass', 'banjo', 'drums', 'keyboard']"
   ]
  },
  {
   "cell_type": "code",
   "execution_count": 8,
   "id": "03e1c863-0cd0-4cb2-93de-d5a441e3cb24",
   "metadata": {
    "scrolled": true,
    "tags": []
   },
   "outputs": [],
   "source": [
    "# we can pass in the probability for each item favoring one over the others\n",
    "instrs = rng.choice(instrs, p=[0.3, 0.25, 0.15, 0.04, 0.03, 0.01, 0.025, 0.05, \n",
    "                               0.05, 0.045, 0.03, 0.02], size=y)"
   ]
  },
  {
   "cell_type": "code",
   "execution_count": 9,
   "id": "d787e8c2-ee48-46cc-9875-9bd8962d59d9",
   "metadata": {},
   "outputs": [
    {
     "data": {
      "text/html": [
       "<div>\n",
       "<style scoped>\n",
       "    .dataframe tbody tr th:only-of-type {\n",
       "        vertical-align: middle;\n",
       "    }\n",
       "\n",
       "    .dataframe tbody tr th {\n",
       "        vertical-align: top;\n",
       "    }\n",
       "\n",
       "    .dataframe thead th {\n",
       "        text-align: right;\n",
       "    }\n",
       "</style>\n",
       "<table border=\"1\" class=\"dataframe\">\n",
       "  <thead>\n",
       "    <tr style=\"text-align: right;\">\n",
       "      <th></th>\n",
       "      <th>muso</th>\n",
       "      <th>instrument</th>\n",
       "    </tr>\n",
       "  </thead>\n",
       "  <tbody>\n",
       "    <tr>\n",
       "      <th>0</th>\n",
       "      <td>0</td>\n",
       "      <td>guitar</td>\n",
       "    </tr>\n",
       "    <tr>\n",
       "      <th>1</th>\n",
       "      <td>1</td>\n",
       "      <td>accordion</td>\n",
       "    </tr>\n",
       "    <tr>\n",
       "      <th>2</th>\n",
       "      <td>2</td>\n",
       "      <td>guitar</td>\n",
       "    </tr>\n",
       "    <tr>\n",
       "      <th>3</th>\n",
       "      <td>3</td>\n",
       "      <td>guitar</td>\n",
       "    </tr>\n",
       "    <tr>\n",
       "      <th>4</th>\n",
       "      <td>4</td>\n",
       "      <td>guitar</td>\n",
       "    </tr>\n",
       "  </tbody>\n",
       "</table>\n",
       "</div>"
      ],
      "text/plain": [
       "   muso instrument\n",
       "0     0     guitar\n",
       "1     1  accordion\n",
       "2     2     guitar\n",
       "3     3     guitar\n",
       "4     4     guitar"
      ]
     },
     "execution_count": 9,
     "metadata": {},
     "output_type": "execute_result"
    }
   ],
   "source": [
    "# adds this list as a column to the dataframe\n",
    "df['instrument'] = instrs.tolist()\n",
    "\n",
    "# have a look\n",
    "df.head()"
   ]
  },
  {
   "cell_type": "code",
   "execution_count": 10,
   "id": "9a754c86-0a34-4143-934a-2eed1c0c9028",
   "metadata": {},
   "outputs": [
    {
     "name": "stdout",
     "output_type": "stream",
     "text": [
      "<class 'pandas.core.frame.DataFrame'>\n",
      "RangeIndex: 152 entries, 0 to 151\n",
      "Data columns (total 2 columns):\n",
      " #   Column      Non-Null Count  Dtype \n",
      "---  ------      --------------  ----- \n",
      " 0   muso        152 non-null    int64 \n",
      " 1   instrument  152 non-null    object\n",
      "dtypes: int64(1), object(1)\n",
      "memory usage: 2.5+ KB\n"
     ]
    }
   ],
   "source": [
    "# prints out some info so far\n",
    "df.info()"
   ]
  },
  {
   "cell_type": "markdown",
   "id": "9e5c854b-0d8d-47ee-a081-25f105b04362",
   "metadata": {},
   "source": [
    "I'm now going to set muso to be the index."
   ]
  },
  {
   "cell_type": "code",
   "execution_count": 11,
   "id": "bb3ef3e5-329d-4ac3-8068-9174e357ca4a",
   "metadata": {},
   "outputs": [
    {
     "data": {
      "text/html": [
       "<div>\n",
       "<style scoped>\n",
       "    .dataframe tbody tr th:only-of-type {\n",
       "        vertical-align: middle;\n",
       "    }\n",
       "\n",
       "    .dataframe tbody tr th {\n",
       "        vertical-align: top;\n",
       "    }\n",
       "\n",
       "    .dataframe thead th {\n",
       "        text-align: right;\n",
       "    }\n",
       "</style>\n",
       "<table border=\"1\" class=\"dataframe\">\n",
       "  <thead>\n",
       "    <tr style=\"text-align: right;\">\n",
       "      <th></th>\n",
       "      <th>instrument</th>\n",
       "    </tr>\n",
       "    <tr>\n",
       "      <th>muso</th>\n",
       "      <th></th>\n",
       "    </tr>\n",
       "  </thead>\n",
       "  <tbody>\n",
       "    <tr>\n",
       "      <th>0</th>\n",
       "      <td>guitar</td>\n",
       "    </tr>\n",
       "    <tr>\n",
       "      <th>1</th>\n",
       "      <td>accordion</td>\n",
       "    </tr>\n",
       "    <tr>\n",
       "      <th>2</th>\n",
       "      <td>guitar</td>\n",
       "    </tr>\n",
       "    <tr>\n",
       "      <th>3</th>\n",
       "      <td>guitar</td>\n",
       "    </tr>\n",
       "    <tr>\n",
       "      <th>4</th>\n",
       "      <td>guitar</td>\n",
       "    </tr>\n",
       "  </tbody>\n",
       "</table>\n",
       "</div>"
      ],
      "text/plain": [
       "     instrument\n",
       "muso           \n",
       "0        guitar\n",
       "1     accordion\n",
       "2        guitar\n",
       "3        guitar\n",
       "4        guitar"
      ]
     },
     "execution_count": 11,
     "metadata": {},
     "output_type": "execute_result"
    }
   ],
   "source": [
    "# set index\n",
    "df.set_index(\"muso\", inplace = True)\n",
    "\n",
    "# have a look\n",
    "df.head()"
   ]
  },
  {
   "cell_type": "markdown",
   "id": "de178a06-e897-4096-ba2e-6a5f7c867618",
   "metadata": {},
   "source": [
    "<br>\n",
    "\n",
    "3. **The genre**  \n",
    "\n",
    "This is where things get a little more interesting! There are 4 main genres represented in the sessions - ITM, bluegrass, old-time American, and blues. The ITM sessions are 4 nights a week while the other genres have 1 night each. Some instruments are played at all sessions (guitar), while some are particular to a genre (accordion and ITM).\n",
    "\n",
    "After a lot of research and experimentation I came up with the following solution!  \n",
    "Matching the genre to instrument for some instruments was easy in that all the accordions and uilleann pipers played in the ITM sessions. The following code sorts that:\n",
    "```\n",
    "df.loc[df['instrument'] == 'accordion', 'genre'] = 'ITM'  \n",
    "```\n",
    "The guitar and the fiddle were a bit more tricky in that they played in sessions of different genres.  I first of all saved the count for each instrument that played in multiple genres. I used the `pandas.count` method and converted the result to integer using `astype(int)`"
   ]
  },
  {
   "cell_type": "code",
   "execution_count": 12,
   "id": "acc4ff6d-bd2a-4112-874d-0976aa130c22",
   "metadata": {},
   "outputs": [],
   "source": [
    "# isolate guitar in 'instrument column'\n",
    "noGuitars = df[df['instrument']=='guitar']\n",
    "\n",
    "# count and convert to int\n",
    "noGuitars = noGuitars.count().astype(int)\n",
    "\n",
    "noFiddles = df[df['instrument']=='fiddle']\n",
    "noFiddles = noFiddles.count().astype(int)\n",
    "\n",
    "noBanjos = df[df['instrument']=='banjo']\n",
    "noBanjos = noBanjos.count().astype(int)\n",
    "\n",
    "noMandolins = df[df['instrument']=='mandolin']\n",
    "noMandolins = noMandolins.count().astype(int)\n",
    "\n",
    "noBasses = df[df['instrument']=='bass']\n",
    "noBasses = noBasses.count().astype(int)"
   ]
  },
  {
   "cell_type": "markdown",
   "id": "9a23d3a6-3013-414f-a16b-accef4232ed0",
   "metadata": {},
   "source": [
    "I then needed to create variables of lists for each genre based on a particular instrument the number of each instrument, i,e, mandolin only plays bluegrass and old-time."
   ]
  },
  {
   "cell_type": "code",
   "execution_count": 13,
   "id": "b47613a0-fe4e-4eb8-881d-a3956bc5fe3d",
   "metadata": {
    "tags": []
   },
   "outputs": [],
   "source": [
    "# guitar\n",
    "genre1 = ['bluegrass', 'ITM', 'old-time', 'blues']\n",
    "\n",
    "# bass\n",
    "genre2 = ['bluegrass', 'old-time', 'blues']\n",
    "\n",
    "# banjo\n",
    "genre3 = ['bluegrass', 'ITM', 'old-time']\n",
    "\n",
    "# mandolin\n",
    "genre4 = ['bluegrass', 'old-time']\n",
    "\n",
    "# fiddle\n",
    "genre5 = ['ITM', 'bluegrass', 'old-time']"
   ]
  },
  {
   "cell_type": "markdown",
   "id": "d77b3e56-b79b-4fb0-af6b-83cfd2fc90f8",
   "metadata": {},
   "source": [
    "This is where I spent the most time!!! I used `random.choices` and `pandas.Series` to create arrays for each of the problematic instruments. I weighted the output to reflect what I though was appropriate and I had to specify the length of the array. I couldn't give a simple integer here (as the number will change if the code is run again without a seed), so I had to convert the `noGuitars` variable to an integer. This `pandas` series is then converted to a numpy array ready to be added to the dataframe."
   ]
  },
  {
   "cell_type": "code",
   "execution_count": 14,
   "id": "f6a5c9cd-5ec0-42e0-a3e8-e9b6e0a92ff9",
   "metadata": {
    "scrolled": true,
    "tags": []
   },
   "outputs": [],
   "source": [
    "# create a random pandas series for guitar\n",
    "guitar = pd.Series(random.choices(genre1, weights=[1, 1, 1, 2], k=int(noGuitars)))\n",
    "# converts to numpy array\n",
    "guitar1 = guitar.to_numpy()\n",
    "\n",
    "bass = pd.Series(random.choices(genre2, weights=[1, 1, 1], k=int(noBasses)))\n",
    "bass1 = bass.to_numpy()\n",
    "\n",
    "banjo = pd.Series(random.choices(genre3, weights=[2, 1, 2], k=int(noBanjos)))\n",
    "banjo1 = banjo.to_numpy()\n",
    "\n",
    "mandolin = pd.Series(random.choices(genre4, weights=[1, 1], k=int(noMandolins)))\n",
    "mandolin1 = mandolin.to_numpy()\n",
    "\n",
    "fiddle = pd.Series(random.choices(genre5, weights=[2, 1, 1], k=int(noFiddles)))\n",
    "fiddle1 = fiddle.to_numpy()"
   ]
  },
  {
   "cell_type": "markdown",
   "id": "a3f3600b-9684-4c42-a302-bebef73294da",
   "metadata": {},
   "source": [
    "The following code creates a new column entitled 'genre' and specifies what genre each muso plays based on their instrument."
   ]
  },
  {
   "cell_type": "code",
   "execution_count": 15,
   "id": "18adb2df-41d5-4dff-82a7-889c0ed70a9a",
   "metadata": {},
   "outputs": [
    {
     "data": {
      "text/html": [
       "<div>\n",
       "<style scoped>\n",
       "    .dataframe tbody tr th:only-of-type {\n",
       "        vertical-align: middle;\n",
       "    }\n",
       "\n",
       "    .dataframe tbody tr th {\n",
       "        vertical-align: top;\n",
       "    }\n",
       "\n",
       "    .dataframe thead th {\n",
       "        text-align: right;\n",
       "    }\n",
       "</style>\n",
       "<table border=\"1\" class=\"dataframe\">\n",
       "  <thead>\n",
       "    <tr style=\"text-align: right;\">\n",
       "      <th></th>\n",
       "      <th>instrument</th>\n",
       "      <th>genre</th>\n",
       "    </tr>\n",
       "    <tr>\n",
       "      <th>muso</th>\n",
       "      <th></th>\n",
       "      <th></th>\n",
       "    </tr>\n",
       "  </thead>\n",
       "  <tbody>\n",
       "    <tr>\n",
       "      <th>0</th>\n",
       "      <td>guitar</td>\n",
       "      <td>blues</td>\n",
       "    </tr>\n",
       "    <tr>\n",
       "      <th>1</th>\n",
       "      <td>accordion</td>\n",
       "      <td>ITM</td>\n",
       "    </tr>\n",
       "    <tr>\n",
       "      <th>2</th>\n",
       "      <td>guitar</td>\n",
       "      <td>bluegrass</td>\n",
       "    </tr>\n",
       "    <tr>\n",
       "      <th>3</th>\n",
       "      <td>guitar</td>\n",
       "      <td>bluegrass</td>\n",
       "    </tr>\n",
       "    <tr>\n",
       "      <th>4</th>\n",
       "      <td>guitar</td>\n",
       "      <td>blues</td>\n",
       "    </tr>\n",
       "    <tr>\n",
       "      <th>5</th>\n",
       "      <td>bodhrán</td>\n",
       "      <td>ITM</td>\n",
       "    </tr>\n",
       "    <tr>\n",
       "      <th>6</th>\n",
       "      <td>accordion</td>\n",
       "      <td>ITM</td>\n",
       "    </tr>\n",
       "    <tr>\n",
       "      <th>7</th>\n",
       "      <td>flute</td>\n",
       "      <td>ITM</td>\n",
       "    </tr>\n",
       "    <tr>\n",
       "      <th>8</th>\n",
       "      <td>bodhrán</td>\n",
       "      <td>ITM</td>\n",
       "    </tr>\n",
       "    <tr>\n",
       "      <th>9</th>\n",
       "      <td>fiddle</td>\n",
       "      <td>old-time</td>\n",
       "    </tr>\n",
       "    <tr>\n",
       "      <th>10</th>\n",
       "      <td>accordion</td>\n",
       "      <td>ITM</td>\n",
       "    </tr>\n",
       "    <tr>\n",
       "      <th>11</th>\n",
       "      <td>guitar</td>\n",
       "      <td>blues</td>\n",
       "    </tr>\n",
       "    <tr>\n",
       "      <th>12</th>\n",
       "      <td>guitar</td>\n",
       "      <td>ITM</td>\n",
       "    </tr>\n",
       "    <tr>\n",
       "      <th>13</th>\n",
       "      <td>accordion</td>\n",
       "      <td>ITM</td>\n",
       "    </tr>\n",
       "    <tr>\n",
       "      <th>14</th>\n",
       "      <td>fiddle</td>\n",
       "      <td>ITM</td>\n",
       "    </tr>\n",
       "    <tr>\n",
       "      <th>15</th>\n",
       "      <td>accordion</td>\n",
       "      <td>ITM</td>\n",
       "    </tr>\n",
       "    <tr>\n",
       "      <th>16</th>\n",
       "      <td>uilleann_pipes</td>\n",
       "      <td>ITM</td>\n",
       "    </tr>\n",
       "    <tr>\n",
       "      <th>17</th>\n",
       "      <td>accordion</td>\n",
       "      <td>ITM</td>\n",
       "    </tr>\n",
       "    <tr>\n",
       "      <th>18</th>\n",
       "      <td>accordion</td>\n",
       "      <td>ITM</td>\n",
       "    </tr>\n",
       "    <tr>\n",
       "      <th>19</th>\n",
       "      <td>accordion</td>\n",
       "      <td>ITM</td>\n",
       "    </tr>\n",
       "  </tbody>\n",
       "</table>\n",
       "</div>"
      ],
      "text/plain": [
       "          instrument      genre\n",
       "muso                           \n",
       "0             guitar      blues\n",
       "1          accordion        ITM\n",
       "2             guitar  bluegrass\n",
       "3             guitar  bluegrass\n",
       "4             guitar      blues\n",
       "5            bodhrán        ITM\n",
       "6          accordion        ITM\n",
       "7              flute        ITM\n",
       "8            bodhrán        ITM\n",
       "9             fiddle   old-time\n",
       "10         accordion        ITM\n",
       "11            guitar      blues\n",
       "12            guitar        ITM\n",
       "13         accordion        ITM\n",
       "14            fiddle        ITM\n",
       "15         accordion        ITM\n",
       "16    uilleann_pipes        ITM\n",
       "17         accordion        ITM\n",
       "18         accordion        ITM\n",
       "19         accordion        ITM"
      ]
     },
     "execution_count": 15,
     "metadata": {},
     "output_type": "execute_result"
    }
   ],
   "source": [
    "# where instrument equals accordion, genre equals ITM, etc\n",
    "df.loc[df['instrument'] == 'accordion', 'genre'] = 'ITM'  \n",
    "df.loc[df['instrument'] == 'concertina', 'genre'] = 'ITM'  \n",
    "df.loc[df['instrument'] == 'guitar', 'genre'] = guitar1\n",
    "df.loc[df['instrument'] == 'bass', 'genre'] = bass1  \n",
    "df.loc[df['instrument'] == 'mandolin', 'genre'] = mandolin1  \n",
    "df.loc[df['instrument'] == 'banjo', 'genre'] = banjo1\n",
    "df.loc[df['instrument'] == 'uilleann_pipes', 'genre'] = 'ITM'  \n",
    "df.loc[df['instrument'] == 'flute', 'genre'] = 'ITM'  \n",
    "df.loc[df['instrument'] == 'bodhrán', 'genre'] = 'ITM'\n",
    "df.loc[df['instrument'] == 'keyboard', 'genre'] = 'blues'\n",
    "df.loc[df['instrument'] == 'drums', 'genre'] = 'blues'\n",
    "df.loc[df['instrument'] == 'fiddle', 'genre'] = fiddle1\n",
    "\n",
    "# have a look\n",
    "df.head(20)"
   ]
  },
  {
   "cell_type": "markdown",
   "id": "29d03275-402a-4de7-ab75-8c8d20a69662",
   "metadata": {},
   "source": [
    "Seems fine!"
   ]
  },
  {
   "cell_type": "code",
   "execution_count": 16,
   "id": "16ca3946-ab51-4d77-bece-4c903b48f25c",
   "metadata": {},
   "outputs": [],
   "source": [
    "# # adds a new column with conditions\n",
    "# df['genre'] = np.where((df['instrument'] == 'accordion') | (df['instrument']== 'concertina') | \n",
    "#                        (df['instrument'] == 'uilleann_pipes') | (df['instrument']== 'flute') |\n",
    "#                        (df['instrument'] == 'bodhrán'), 'ITM', '')\n",
    "\n",
    "# df.head()"
   ]
  },
  {
   "cell_type": "code",
   "execution_count": 17,
   "id": "5049a9e7-3de8-43d3-b5b2-b4a6a814ee86",
   "metadata": {},
   "outputs": [],
   "source": [
    "# df['genre1'] = np.where((df['instrument'] == 'guitar'), guitar1, '')\n",
    "# df.head(20)"
   ]
  },
  {
   "cell_type": "code",
   "execution_count": 18,
   "id": "09fcb192-cfcf-461c-be7e-6665eb871453",
   "metadata": {},
   "outputs": [],
   "source": [
    "# conditions = [\n",
    "#     (df['instrument'] == 'accordion') | (df['instrument'] == 'concertina') | \n",
    "#     (df['instrument'] == 'uilleann_pipes') | (df['instrument']== 'flute') |\n",
    "#     (df['instrument'] == 'bodhrán'), (df['instrument'] == 'drums') | \n",
    "#     (df['instrument'] == 'keyboard'), (df['instrument'] == 'mandolin'), \n",
    "#     (df['instrument'] == 'guitar'), (df['instrument'] == 'bass'), (df['instrument'] == 'banjo'), \n",
    "#     (df['instrument'] == 'mandolin')\n",
    "# ]\n",
    "\n",
    "# # create a list of the values we want to assign for each condition\n",
    "# values = ['ITM', 'blues', 'old-time' [guitar1], [bass1], [banjo1], [mandolin1]]\n",
    "\n",
    "# # create a new column and use np.select to assign values to it using our lists as arguments\n",
    "# df['genre'] = np.select(conditions, values)\n",
    "# df.head(20)"
   ]
  },
  {
   "cell_type": "code",
   "execution_count": 19,
   "id": "099bb12d-d5a6-4433-85d0-216de014a1b0",
   "metadata": {},
   "outputs": [],
   "source": [
    "# for i in df['instrument']:\n",
    "#     if 'instrument' == 'guitar':\n",
    "# #         df['genre'] = rng2.choice(genre)\n",
    "#         np.where(['instrument'] == 'guitar', guitar, '')\n",
    "# #         df['Birth'] = df1.apply(lambda x: random.randrange(1905,1995, len(df1)),axis=1)\n",
    "# #         df['genre'] = df.apply(lambda x: rng2.choice(genre), len(df),axis=1)\n",
    "    \n",
    "# df.head(20)"
   ]
  },
  {
   "cell_type": "code",
   "execution_count": 20,
   "id": "c55aa08d-c5ad-43c2-be16-52cb87855005",
   "metadata": {},
   "outputs": [],
   "source": [
    "# guitar = pd.Series(random.choices(genre, weights=[1, 1, 1, 1], k=8))\n",
    "# # pd.Series(random.choices(['yes','no'], weights=[1, 1], k=len(df), index=df.index)\n",
    "# guitar"
   ]
  },
  {
   "cell_type": "code",
   "execution_count": 21,
   "id": "cb1b0de9-f704-4f73-9dec-a5bfcfe56398",
   "metadata": {},
   "outputs": [],
   "source": [
    "# rng2.choice(genre)"
   ]
  },
  {
   "cell_type": "code",
   "execution_count": 22,
   "id": "1d4079e6-41eb-42ee-b505-44eef9491e34",
   "metadata": {},
   "outputs": [],
   "source": [
    "# for i in df['instrument']:\n",
    "#     if 'instrument' == 'guitar':\n",
    "#         df['genre'] = rng2.choice(genre)\n",
    "# df.head(20)"
   ]
  },
  {
   "cell_type": "markdown",
   "id": "51d663b6-c259-4097-a8f7-d71559f4511c",
   "metadata": {},
   "source": [
    "<br>\n",
    "\n",
    "4. **Ability**  \n",
    "\n",
    "For the minute I'm going to go with a binary approach - intermediate or advanced. In reality there are no beginners at these sessions but there would be a big range of abilities so I may revisit. Ability isn't dependent on anything else - there are good and bad in all genres and each genre is performed to a similar level.  \n",
    "We're using a similar method to above with `random.choice` and `pandas.Series`. We're assuming that half of the musicians are 'decent' and the other half are 'legends'!\n",
    "\n",
    "I may create further ability categories here? Or do it on a 1-10 scale?"
   ]
  },
  {
   "cell_type": "code",
   "execution_count": 23,
   "id": "92514733-be3b-4a11-a6ef-1c4fc947b3f1",
   "metadata": {},
   "outputs": [],
   "source": [
    "ability = pd.Series(random.choices(['decent','legend'], weights=[1, 1], k=len(df)))"
   ]
  },
  {
   "cell_type": "code",
   "execution_count": 24,
   "id": "b7f6a2ee-73b6-4c1f-ae86-6df4ea752aed",
   "metadata": {},
   "outputs": [
    {
     "data": {
      "text/html": [
       "<div>\n",
       "<style scoped>\n",
       "    .dataframe tbody tr th:only-of-type {\n",
       "        vertical-align: middle;\n",
       "    }\n",
       "\n",
       "    .dataframe tbody tr th {\n",
       "        vertical-align: top;\n",
       "    }\n",
       "\n",
       "    .dataframe thead th {\n",
       "        text-align: right;\n",
       "    }\n",
       "</style>\n",
       "<table border=\"1\" class=\"dataframe\">\n",
       "  <thead>\n",
       "    <tr style=\"text-align: right;\">\n",
       "      <th></th>\n",
       "      <th>instrument</th>\n",
       "      <th>genre</th>\n",
       "      <th>ability</th>\n",
       "    </tr>\n",
       "    <tr>\n",
       "      <th>muso</th>\n",
       "      <th></th>\n",
       "      <th></th>\n",
       "      <th></th>\n",
       "    </tr>\n",
       "  </thead>\n",
       "  <tbody>\n",
       "    <tr>\n",
       "      <th>0</th>\n",
       "      <td>guitar</td>\n",
       "      <td>blues</td>\n",
       "      <td>decent</td>\n",
       "    </tr>\n",
       "    <tr>\n",
       "      <th>1</th>\n",
       "      <td>accordion</td>\n",
       "      <td>ITM</td>\n",
       "      <td>legend</td>\n",
       "    </tr>\n",
       "    <tr>\n",
       "      <th>2</th>\n",
       "      <td>guitar</td>\n",
       "      <td>bluegrass</td>\n",
       "      <td>decent</td>\n",
       "    </tr>\n",
       "    <tr>\n",
       "      <th>3</th>\n",
       "      <td>guitar</td>\n",
       "      <td>bluegrass</td>\n",
       "      <td>legend</td>\n",
       "    </tr>\n",
       "    <tr>\n",
       "      <th>4</th>\n",
       "      <td>guitar</td>\n",
       "      <td>blues</td>\n",
       "      <td>decent</td>\n",
       "    </tr>\n",
       "    <tr>\n",
       "      <th>5</th>\n",
       "      <td>bodhrán</td>\n",
       "      <td>ITM</td>\n",
       "      <td>legend</td>\n",
       "    </tr>\n",
       "    <tr>\n",
       "      <th>6</th>\n",
       "      <td>accordion</td>\n",
       "      <td>ITM</td>\n",
       "      <td>decent</td>\n",
       "    </tr>\n",
       "    <tr>\n",
       "      <th>7</th>\n",
       "      <td>flute</td>\n",
       "      <td>ITM</td>\n",
       "      <td>legend</td>\n",
       "    </tr>\n",
       "    <tr>\n",
       "      <th>8</th>\n",
       "      <td>bodhrán</td>\n",
       "      <td>ITM</td>\n",
       "      <td>decent</td>\n",
       "    </tr>\n",
       "    <tr>\n",
       "      <th>9</th>\n",
       "      <td>fiddle</td>\n",
       "      <td>old-time</td>\n",
       "      <td>legend</td>\n",
       "    </tr>\n",
       "    <tr>\n",
       "      <th>10</th>\n",
       "      <td>accordion</td>\n",
       "      <td>ITM</td>\n",
       "      <td>decent</td>\n",
       "    </tr>\n",
       "    <tr>\n",
       "      <th>11</th>\n",
       "      <td>guitar</td>\n",
       "      <td>blues</td>\n",
       "      <td>decent</td>\n",
       "    </tr>\n",
       "    <tr>\n",
       "      <th>12</th>\n",
       "      <td>guitar</td>\n",
       "      <td>ITM</td>\n",
       "      <td>decent</td>\n",
       "    </tr>\n",
       "    <tr>\n",
       "      <th>13</th>\n",
       "      <td>accordion</td>\n",
       "      <td>ITM</td>\n",
       "      <td>decent</td>\n",
       "    </tr>\n",
       "    <tr>\n",
       "      <th>14</th>\n",
       "      <td>fiddle</td>\n",
       "      <td>ITM</td>\n",
       "      <td>decent</td>\n",
       "    </tr>\n",
       "    <tr>\n",
       "      <th>15</th>\n",
       "      <td>accordion</td>\n",
       "      <td>ITM</td>\n",
       "      <td>legend</td>\n",
       "    </tr>\n",
       "    <tr>\n",
       "      <th>16</th>\n",
       "      <td>uilleann_pipes</td>\n",
       "      <td>ITM</td>\n",
       "      <td>decent</td>\n",
       "    </tr>\n",
       "    <tr>\n",
       "      <th>17</th>\n",
       "      <td>accordion</td>\n",
       "      <td>ITM</td>\n",
       "      <td>decent</td>\n",
       "    </tr>\n",
       "    <tr>\n",
       "      <th>18</th>\n",
       "      <td>accordion</td>\n",
       "      <td>ITM</td>\n",
       "      <td>legend</td>\n",
       "    </tr>\n",
       "    <tr>\n",
       "      <th>19</th>\n",
       "      <td>accordion</td>\n",
       "      <td>ITM</td>\n",
       "      <td>legend</td>\n",
       "    </tr>\n",
       "  </tbody>\n",
       "</table>\n",
       "</div>"
      ],
      "text/plain": [
       "          instrument      genre ability\n",
       "muso                                   \n",
       "0             guitar      blues  decent\n",
       "1          accordion        ITM  legend\n",
       "2             guitar  bluegrass  decent\n",
       "3             guitar  bluegrass  legend\n",
       "4             guitar      blues  decent\n",
       "5            bodhrán        ITM  legend\n",
       "6          accordion        ITM  decent\n",
       "7              flute        ITM  legend\n",
       "8            bodhrán        ITM  decent\n",
       "9             fiddle   old-time  legend\n",
       "10         accordion        ITM  decent\n",
       "11            guitar      blues  decent\n",
       "12            guitar        ITM  decent\n",
       "13         accordion        ITM  decent\n",
       "14            fiddle        ITM  decent\n",
       "15         accordion        ITM  legend\n",
       "16    uilleann_pipes        ITM  decent\n",
       "17         accordion        ITM  decent\n",
       "18         accordion        ITM  legend\n",
       "19         accordion        ITM  legend"
      ]
     },
     "execution_count": 24,
     "metadata": {},
     "output_type": "execute_result"
    }
   ],
   "source": [
    "# add new column to table\n",
    "df['ability'] = ability.tolist()\n",
    "\n",
    "# have a look\n",
    "df.head(20)"
   ]
  },
  {
   "cell_type": "code",
   "execution_count": 25,
   "id": "aee80164-ec56-4bf8-84fe-44f5f4685555",
   "metadata": {},
   "outputs": [],
   "source": [
    "# # creates an array of booleans\n",
    "# ability = rng.binomial(n=1, p=0.5, size=x)\n",
    "# ability\n",
    "\n",
    "# We get a big list of booleans! Can I convert this back to strings? In the meantime I'll just add to the dataframe as is."
   ]
  },
  {
   "cell_type": "code",
   "execution_count": 26,
   "id": "82c46a6e-19c3-4a32-8347-e1a28ed985be",
   "metadata": {},
   "outputs": [],
   "source": [
    "# conditions = [\n",
    "#     (df['ability'] == TRUE), (df['ability'] == FALSE)\n",
    "# ]\n",
    "\n",
    "# # create a list of the values we want to assign for each condition\n",
    "# values = ['decent', 'wizz']\n",
    "\n",
    "# # create a new column and use np.select to assign values to it using our lists as arguments\n",
    "# df['ability'] = np.select(conditions, values)\n",
    "# df.head(20)"
   ]
  },
  {
   "cell_type": "code",
   "execution_count": 27,
   "id": "ff934b7e-8548-455d-9068-9ab79ef25fd1",
   "metadata": {},
   "outputs": [],
   "source": [
    "# for i in ability:\n",
    "#     if True:\n",
    "#         ability.append('whizz')\n",
    "#     else:\n",
    "#         ability.append('handy_enough')"
   ]
  },
  {
   "cell_type": "markdown",
   "id": "1ad8d7c7-27e5-409b-9e0a-08e57fcaddea",
   "metadata": {},
   "source": [
    "<br>\n",
    "\n",
    "5. **Age**  \n",
    "\n",
    "For now we're going to have 3 age-groups - college kids, grown-ups, old heads. The breakdown is going to be skewed towards the outer 2 ranges. Data type will be string. \n",
    "\n",
    "*Could also be age ranges? In which case it would be a list - maybe college kids, grown-ups, old heads! Or age ranges?*"
   ]
  },
  {
   "cell_type": "code",
   "execution_count": 28,
   "id": "69a76964-011b-49fd-b42a-ce7b1a851acf",
   "metadata": {},
   "outputs": [],
   "source": [
    "# create the age_group variable\n",
    "age_group = ['college_kid', 'so_called_grown-up', 'old-head']"
   ]
  },
  {
   "cell_type": "code",
   "execution_count": 29,
   "id": "08519b51-7b6c-47ad-ae5e-e4f8a11275e5",
   "metadata": {},
   "outputs": [],
   "source": [
    "# create new list\n",
    "age_group = rng.choice(age_group, p=[0.4, 0.2, 0.4], size=y)"
   ]
  },
  {
   "cell_type": "code",
   "execution_count": 30,
   "id": "0bd5c66c-8665-472b-a853-74b3f3dbc092",
   "metadata": {},
   "outputs": [
    {
     "data": {
      "text/html": [
       "<div>\n",
       "<style scoped>\n",
       "    .dataframe tbody tr th:only-of-type {\n",
       "        vertical-align: middle;\n",
       "    }\n",
       "\n",
       "    .dataframe tbody tr th {\n",
       "        vertical-align: top;\n",
       "    }\n",
       "\n",
       "    .dataframe thead th {\n",
       "        text-align: right;\n",
       "    }\n",
       "</style>\n",
       "<table border=\"1\" class=\"dataframe\">\n",
       "  <thead>\n",
       "    <tr style=\"text-align: right;\">\n",
       "      <th></th>\n",
       "      <th>instrument</th>\n",
       "      <th>genre</th>\n",
       "      <th>ability</th>\n",
       "      <th>age_group</th>\n",
       "    </tr>\n",
       "    <tr>\n",
       "      <th>muso</th>\n",
       "      <th></th>\n",
       "      <th></th>\n",
       "      <th></th>\n",
       "      <th></th>\n",
       "    </tr>\n",
       "  </thead>\n",
       "  <tbody>\n",
       "    <tr>\n",
       "      <th>0</th>\n",
       "      <td>guitar</td>\n",
       "      <td>blues</td>\n",
       "      <td>decent</td>\n",
       "      <td>college_kid</td>\n",
       "    </tr>\n",
       "    <tr>\n",
       "      <th>1</th>\n",
       "      <td>accordion</td>\n",
       "      <td>ITM</td>\n",
       "      <td>legend</td>\n",
       "      <td>old-head</td>\n",
       "    </tr>\n",
       "    <tr>\n",
       "      <th>2</th>\n",
       "      <td>guitar</td>\n",
       "      <td>bluegrass</td>\n",
       "      <td>decent</td>\n",
       "      <td>old-head</td>\n",
       "    </tr>\n",
       "    <tr>\n",
       "      <th>3</th>\n",
       "      <td>guitar</td>\n",
       "      <td>bluegrass</td>\n",
       "      <td>legend</td>\n",
       "      <td>so_called_grown-up</td>\n",
       "    </tr>\n",
       "    <tr>\n",
       "      <th>4</th>\n",
       "      <td>guitar</td>\n",
       "      <td>blues</td>\n",
       "      <td>decent</td>\n",
       "      <td>college_kid</td>\n",
       "    </tr>\n",
       "    <tr>\n",
       "      <th>...</th>\n",
       "      <td>...</td>\n",
       "      <td>...</td>\n",
       "      <td>...</td>\n",
       "      <td>...</td>\n",
       "    </tr>\n",
       "    <tr>\n",
       "      <th>147</th>\n",
       "      <td>guitar</td>\n",
       "      <td>bluegrass</td>\n",
       "      <td>decent</td>\n",
       "      <td>old-head</td>\n",
       "    </tr>\n",
       "    <tr>\n",
       "      <th>148</th>\n",
       "      <td>guitar</td>\n",
       "      <td>blues</td>\n",
       "      <td>legend</td>\n",
       "      <td>college_kid</td>\n",
       "    </tr>\n",
       "    <tr>\n",
       "      <th>149</th>\n",
       "      <td>accordion</td>\n",
       "      <td>ITM</td>\n",
       "      <td>decent</td>\n",
       "      <td>so_called_grown-up</td>\n",
       "    </tr>\n",
       "    <tr>\n",
       "      <th>150</th>\n",
       "      <td>bass</td>\n",
       "      <td>blues</td>\n",
       "      <td>decent</td>\n",
       "      <td>college_kid</td>\n",
       "    </tr>\n",
       "    <tr>\n",
       "      <th>151</th>\n",
       "      <td>guitar</td>\n",
       "      <td>blues</td>\n",
       "      <td>legend</td>\n",
       "      <td>old-head</td>\n",
       "    </tr>\n",
       "  </tbody>\n",
       "</table>\n",
       "<p>152 rows × 4 columns</p>\n",
       "</div>"
      ],
      "text/plain": [
       "     instrument      genre ability           age_group\n",
       "muso                                                  \n",
       "0        guitar      blues  decent         college_kid\n",
       "1     accordion        ITM  legend            old-head\n",
       "2        guitar  bluegrass  decent            old-head\n",
       "3        guitar  bluegrass  legend  so_called_grown-up\n",
       "4        guitar      blues  decent         college_kid\n",
       "...         ...        ...     ...                 ...\n",
       "147      guitar  bluegrass  decent            old-head\n",
       "148      guitar      blues  legend         college_kid\n",
       "149   accordion        ITM  decent  so_called_grown-up\n",
       "150        bass      blues  decent         college_kid\n",
       "151      guitar      blues  legend            old-head\n",
       "\n",
       "[152 rows x 4 columns]"
      ]
     },
     "execution_count": 30,
     "metadata": {},
     "output_type": "execute_result"
    }
   ],
   "source": [
    "# add new column to dataframe\n",
    "df['age_group'] = age_group.tolist()\n",
    "\n",
    "# have a look\n",
    "df"
   ]
  },
  {
   "cell_type": "markdown",
   "id": "ff1acd04-f40b-4673-a811-64f035e606bf",
   "metadata": {},
   "source": [
    "<br>\n",
    "\n",
    "6. **Paid**  \n",
    "There are at least 3 musicians getting paid each night, one of whom is always a guitar player. There are 30 sessions and 152 musicians. Do I pick 90 at random? I need to make sure there are at least 30 guitar players? There are only going to be 30 paid guitar players in total, so I'll extract a random sample of 30 of those. The age and ability don't really factor here.\n",
    "Only the 'wizz' musos would typically be paid. Need to work that out? In the meantime I'll leave it that 20% of all musos get paid"
   ]
  },
  {
   "cell_type": "code",
   "execution_count": 31,
   "id": "48d165f5-c876-4774-9309-5bd29d4cee36",
   "metadata": {},
   "outputs": [
    {
     "data": {
      "text/plain": [
       "152"
      ]
     },
     "execution_count": 31,
     "metadata": {},
     "output_type": "execute_result"
    }
   ],
   "source": [
    "y"
   ]
  },
  {
   "cell_type": "code",
   "execution_count": 32,
   "id": "b9a29092-1e4f-4895-9332-48a4142344ed",
   "metadata": {},
   "outputs": [
    {
     "data": {
      "text/plain": [
       "instrument    50\n",
       "genre         50\n",
       "ability       50\n",
       "age_group     50\n",
       "dtype: int64"
      ]
     },
     "execution_count": 32,
     "metadata": {},
     "output_type": "execute_result"
    }
   ],
   "source": [
    "# how many guitar players\n",
    "df[df['instrument']=='guitar'].count()"
   ]
  },
  {
   "cell_type": "markdown",
   "id": "bd409d5d-ee60-4d61-a52b-687ba0ea0881",
   "metadata": {},
   "source": [
    "So we have 50 guitar players"
   ]
  },
  {
   "cell_type": "code",
   "execution_count": 33,
   "id": "f6279ad8-1886-4c0a-b641-f81297f73f7d",
   "metadata": {},
   "outputs": [],
   "source": [
    "# # where instrument equals accordion, genre equals ITM, etc\n",
    "# df.loc[df['instrument'] == 'accordion', 'genre'] = 'ITM'  \n",
    "# df.loc[df['instrument'] == 'concertina', 'genre'] = 'ITM'  \n",
    "# df.loc[df['instrument'] == 'guitar', 'genre'] = guitar1\n",
    "# df.loc[df['instrument'] == 'bass', 'genre'] = bass1  \n",
    "# df.loc[df['instrument'] == 'mandolin', 'genre'] = mandolin1  \n",
    "# df.loc[df['instrument'] == 'banjo', 'genre'] = banjo1\n",
    "# df.loc[df['instrument'] == 'uilleann_pipes', 'genre'] = 'ITM'  \n",
    "# df.loc[df['instrument'] == 'flute', 'genre'] = 'ITM'  \n",
    "# df.loc[df['instrument'] == 'bodhrán', 'genre'] = 'ITM'\n",
    "# df.loc[df['instrument'] == 'keyboard', 'genre'] = 'blues'\n",
    "# df.loc[df['instrument'] == 'drums', 'genre'] = 'blues'\n",
    "# df.loc[df['instrument'] == 'fiddle', 'genre'] = fiddle1"
   ]
  },
  {
   "cell_type": "code",
   "execution_count": 34,
   "id": "81a8881a-c842-4b28-b8ec-3910e47d082f",
   "metadata": {},
   "outputs": [],
   "source": [
    "# df[df['instrument'] == 'guitar'].sample(n = 30)['paid'] = 'yes'  \n",
    "# df"
   ]
  },
  {
   "cell_type": "code",
   "execution_count": 35,
   "id": "3836895c-f60e-4978-a3d2-9740b16c1665",
   "metadata": {},
   "outputs": [],
   "source": [
    "# df[df['instrument']=='guitar']\n",
    "# df[df['instrument']=='guitar'].sample(n = 30)"
   ]
  },
  {
   "cell_type": "code",
   "execution_count": 36,
   "id": "b239aee1-ca62-43ad-ad03-3482843e6402",
   "metadata": {
    "tags": []
   },
   "outputs": [],
   "source": [
    "# create random sample of 30 guitar players\n",
    "df[df['instrument']=='guitar'].sample(n = 30)['paid'] = 'yes'\n",
    "\n",
    "# create random sample of 60 non-guitar players\n",
    "df[df['instrument']!='guitar'].sample(n = 60)['paid'] = 'yes'\n",
    "\n",
    "if 'paid' not in df:\n",
    "    df['paid'] = 'no'\n",
    "else:\n",
    "    df['paid'].fillna('no', inplace=True)"
   ]
  },
  {
   "cell_type": "code",
   "execution_count": 37,
   "id": "4c8cb125-2071-48ae-8909-e8aeb5cce1a7",
   "metadata": {},
   "outputs": [
    {
     "data": {
      "text/html": [
       "<div>\n",
       "<style scoped>\n",
       "    .dataframe tbody tr th:only-of-type {\n",
       "        vertical-align: middle;\n",
       "    }\n",
       "\n",
       "    .dataframe tbody tr th {\n",
       "        vertical-align: top;\n",
       "    }\n",
       "\n",
       "    .dataframe thead th {\n",
       "        text-align: right;\n",
       "    }\n",
       "</style>\n",
       "<table border=\"1\" class=\"dataframe\">\n",
       "  <thead>\n",
       "    <tr style=\"text-align: right;\">\n",
       "      <th></th>\n",
       "      <th>instrument</th>\n",
       "      <th>genre</th>\n",
       "      <th>ability</th>\n",
       "      <th>age_group</th>\n",
       "      <th>paid</th>\n",
       "    </tr>\n",
       "    <tr>\n",
       "      <th>muso</th>\n",
       "      <th></th>\n",
       "      <th></th>\n",
       "      <th></th>\n",
       "      <th></th>\n",
       "      <th></th>\n",
       "    </tr>\n",
       "  </thead>\n",
       "  <tbody>\n",
       "    <tr>\n",
       "      <th>0</th>\n",
       "      <td>guitar</td>\n",
       "      <td>blues</td>\n",
       "      <td>decent</td>\n",
       "      <td>college_kid</td>\n",
       "      <td>no</td>\n",
       "    </tr>\n",
       "    <tr>\n",
       "      <th>1</th>\n",
       "      <td>accordion</td>\n",
       "      <td>ITM</td>\n",
       "      <td>legend</td>\n",
       "      <td>old-head</td>\n",
       "      <td>no</td>\n",
       "    </tr>\n",
       "    <tr>\n",
       "      <th>2</th>\n",
       "      <td>guitar</td>\n",
       "      <td>bluegrass</td>\n",
       "      <td>decent</td>\n",
       "      <td>old-head</td>\n",
       "      <td>no</td>\n",
       "    </tr>\n",
       "    <tr>\n",
       "      <th>3</th>\n",
       "      <td>guitar</td>\n",
       "      <td>bluegrass</td>\n",
       "      <td>legend</td>\n",
       "      <td>so_called_grown-up</td>\n",
       "      <td>no</td>\n",
       "    </tr>\n",
       "    <tr>\n",
       "      <th>4</th>\n",
       "      <td>guitar</td>\n",
       "      <td>blues</td>\n",
       "      <td>decent</td>\n",
       "      <td>college_kid</td>\n",
       "      <td>no</td>\n",
       "    </tr>\n",
       "    <tr>\n",
       "      <th>5</th>\n",
       "      <td>bodhrán</td>\n",
       "      <td>ITM</td>\n",
       "      <td>legend</td>\n",
       "      <td>college_kid</td>\n",
       "      <td>no</td>\n",
       "    </tr>\n",
       "    <tr>\n",
       "      <th>6</th>\n",
       "      <td>accordion</td>\n",
       "      <td>ITM</td>\n",
       "      <td>decent</td>\n",
       "      <td>college_kid</td>\n",
       "      <td>no</td>\n",
       "    </tr>\n",
       "    <tr>\n",
       "      <th>7</th>\n",
       "      <td>flute</td>\n",
       "      <td>ITM</td>\n",
       "      <td>legend</td>\n",
       "      <td>college_kid</td>\n",
       "      <td>no</td>\n",
       "    </tr>\n",
       "    <tr>\n",
       "      <th>8</th>\n",
       "      <td>bodhrán</td>\n",
       "      <td>ITM</td>\n",
       "      <td>decent</td>\n",
       "      <td>old-head</td>\n",
       "      <td>no</td>\n",
       "    </tr>\n",
       "    <tr>\n",
       "      <th>9</th>\n",
       "      <td>fiddle</td>\n",
       "      <td>old-time</td>\n",
       "      <td>legend</td>\n",
       "      <td>college_kid</td>\n",
       "      <td>no</td>\n",
       "    </tr>\n",
       "    <tr>\n",
       "      <th>10</th>\n",
       "      <td>accordion</td>\n",
       "      <td>ITM</td>\n",
       "      <td>decent</td>\n",
       "      <td>so_called_grown-up</td>\n",
       "      <td>no</td>\n",
       "    </tr>\n",
       "    <tr>\n",
       "      <th>11</th>\n",
       "      <td>guitar</td>\n",
       "      <td>blues</td>\n",
       "      <td>decent</td>\n",
       "      <td>old-head</td>\n",
       "      <td>no</td>\n",
       "    </tr>\n",
       "    <tr>\n",
       "      <th>12</th>\n",
       "      <td>guitar</td>\n",
       "      <td>ITM</td>\n",
       "      <td>decent</td>\n",
       "      <td>so_called_grown-up</td>\n",
       "      <td>no</td>\n",
       "    </tr>\n",
       "    <tr>\n",
       "      <th>13</th>\n",
       "      <td>accordion</td>\n",
       "      <td>ITM</td>\n",
       "      <td>decent</td>\n",
       "      <td>college_kid</td>\n",
       "      <td>no</td>\n",
       "    </tr>\n",
       "    <tr>\n",
       "      <th>14</th>\n",
       "      <td>fiddle</td>\n",
       "      <td>ITM</td>\n",
       "      <td>decent</td>\n",
       "      <td>old-head</td>\n",
       "      <td>no</td>\n",
       "    </tr>\n",
       "    <tr>\n",
       "      <th>15</th>\n",
       "      <td>accordion</td>\n",
       "      <td>ITM</td>\n",
       "      <td>legend</td>\n",
       "      <td>old-head</td>\n",
       "      <td>no</td>\n",
       "    </tr>\n",
       "    <tr>\n",
       "      <th>16</th>\n",
       "      <td>uilleann_pipes</td>\n",
       "      <td>ITM</td>\n",
       "      <td>decent</td>\n",
       "      <td>old-head</td>\n",
       "      <td>no</td>\n",
       "    </tr>\n",
       "    <tr>\n",
       "      <th>17</th>\n",
       "      <td>accordion</td>\n",
       "      <td>ITM</td>\n",
       "      <td>decent</td>\n",
       "      <td>college_kid</td>\n",
       "      <td>no</td>\n",
       "    </tr>\n",
       "    <tr>\n",
       "      <th>18</th>\n",
       "      <td>accordion</td>\n",
       "      <td>ITM</td>\n",
       "      <td>legend</td>\n",
       "      <td>college_kid</td>\n",
       "      <td>no</td>\n",
       "    </tr>\n",
       "    <tr>\n",
       "      <th>19</th>\n",
       "      <td>accordion</td>\n",
       "      <td>ITM</td>\n",
       "      <td>legend</td>\n",
       "      <td>old-head</td>\n",
       "      <td>no</td>\n",
       "    </tr>\n",
       "  </tbody>\n",
       "</table>\n",
       "</div>"
      ],
      "text/plain": [
       "          instrument      genre ability           age_group paid\n",
       "muso                                                            \n",
       "0             guitar      blues  decent         college_kid   no\n",
       "1          accordion        ITM  legend            old-head   no\n",
       "2             guitar  bluegrass  decent            old-head   no\n",
       "3             guitar  bluegrass  legend  so_called_grown-up   no\n",
       "4             guitar      blues  decent         college_kid   no\n",
       "5            bodhrán        ITM  legend         college_kid   no\n",
       "6          accordion        ITM  decent         college_kid   no\n",
       "7              flute        ITM  legend         college_kid   no\n",
       "8            bodhrán        ITM  decent            old-head   no\n",
       "9             fiddle   old-time  legend         college_kid   no\n",
       "10         accordion        ITM  decent  so_called_grown-up   no\n",
       "11            guitar      blues  decent            old-head   no\n",
       "12            guitar        ITM  decent  so_called_grown-up   no\n",
       "13         accordion        ITM  decent         college_kid   no\n",
       "14            fiddle        ITM  decent            old-head   no\n",
       "15         accordion        ITM  legend            old-head   no\n",
       "16    uilleann_pipes        ITM  decent            old-head   no\n",
       "17         accordion        ITM  decent         college_kid   no\n",
       "18         accordion        ITM  legend         college_kid   no\n",
       "19         accordion        ITM  legend            old-head   no"
      ]
     },
     "execution_count": 37,
     "metadata": {},
     "output_type": "execute_result"
    }
   ],
   "source": [
    "df.head(20)"
   ]
  },
  {
   "cell_type": "code",
   "execution_count": 38,
   "id": "af0ba0c2-5ea0-424a-bae4-9ffc016471b2",
   "metadata": {},
   "outputs": [],
   "source": [
    "c = df[df['instrument']=='guitar'].sample(n = 30)\n",
    "d = df[df['instrument']!='guitar'].sample(n = 60)"
   ]
  },
  {
   "cell_type": "markdown",
   "id": "a61c4991-7125-4bde-993b-e0d3fe38cc35",
   "metadata": {},
   "source": [
    "So I need a random sample of 60 other musicians now."
   ]
  },
  {
   "cell_type": "code",
   "execution_count": 39,
   "id": "dba45d63-5f39-4f38-81f6-316c9995dbe0",
   "metadata": {},
   "outputs": [],
   "source": [
    "if 'type' not in df:\n",
    "    df['type'] = \"A1\"\n",
    "else:\n",
    "    df['type'].fillna('A1', inplace=True)"
   ]
  },
  {
   "cell_type": "code",
   "execution_count": null,
   "id": "7333934c-5811-4158-b87d-d0bfaa91d55e",
   "metadata": {},
   "outputs": [],
   "source": []
  },
  {
   "cell_type": "markdown",
   "id": "cce39be4-f1b9-4769-8f3a-8c68cf5a4f5e",
   "metadata": {},
   "source": [
    "And then all others are not paid!"
   ]
  },
  {
   "cell_type": "code",
   "execution_count": 40,
   "id": "3ef484ca-994e-4ae0-afbd-028d340c6f7c",
   "metadata": {},
   "outputs": [],
   "source": [
    "# notPaid = "
   ]
  },
  {
   "cell_type": "code",
   "execution_count": 41,
   "id": "931cda34-dfff-46ba-8f75-061bdfe08414",
   "metadata": {},
   "outputs": [
    {
     "ename": "NameError",
     "evalue": "name 'proGui' is not defined",
     "output_type": "error",
     "traceback": [
      "\u001b[0;31m---------------------------------------------------------------------------\u001b[0m",
      "\u001b[0;31mNameError\u001b[0m                                 Traceback (most recent call last)",
      "\u001b[0;32m/var/folders/x7/mgf0rb1x3z52yr77g_9d0t6w0000gn/T/ipykernel_7572/2593290431.py\u001b[0m in \u001b[0;36m<module>\u001b[0;34m\u001b[0m\n\u001b[0;32m----> 1\u001b[0;31m \u001b[0mdf\u001b[0m\u001b[0;34m[\u001b[0m\u001b[0mproGui\u001b[0m\u001b[0;34m[\u001b[0m\u001b[0;34m'paid'\u001b[0m\u001b[0;34m]\u001b[0m\u001b[0;34m]\u001b[0m \u001b[0;34m=\u001b[0m \u001b[0;34m'yes'\u001b[0m\u001b[0;34m\u001b[0m\u001b[0;34m\u001b[0m\u001b[0m\n\u001b[0m\u001b[1;32m      2\u001b[0m \u001b[0mdf\u001b[0m\u001b[0;34m[\u001b[0m\u001b[0mproOth\u001b[0m\u001b[0;34m[\u001b[0m\u001b[0;34m'paid'\u001b[0m\u001b[0;34m]\u001b[0m\u001b[0;34m]\u001b[0m \u001b[0;34m=\u001b[0m \u001b[0;34m'yes'\u001b[0m\u001b[0;34m\u001b[0m\u001b[0;34m\u001b[0m\u001b[0m\n\u001b[1;32m      3\u001b[0m \u001b[0;34m\u001b[0m\u001b[0m\n",
      "\u001b[0;31mNameError\u001b[0m: name 'proGui' is not defined"
     ]
    }
   ],
   "source": [
    "df[proGui['paid']] = 'yes'\n",
    "df[proOth['paid']] = 'yes'\n",
    "\n"
   ]
  },
  {
   "cell_type": "code",
   "execution_count": null,
   "id": "a6b04e85-2c89-4594-be8c-1a1fed662c20",
   "metadata": {},
   "outputs": [],
   "source": [
    "proGui"
   ]
  },
  {
   "cell_type": "code",
   "execution_count": null,
   "id": "0349c07f-552c-4763-bc83-8f1826af178d",
   "metadata": {},
   "outputs": [],
   "source": []
  },
  {
   "cell_type": "code",
   "execution_count": null,
   "id": "6da861a4-413b-489b-a22d-8ade1137ccb7",
   "metadata": {},
   "outputs": [],
   "source": []
  },
  {
   "cell_type": "code",
   "execution_count": null,
   "id": "91e200fd-5fbd-4558-b4b7-8d98e8426229",
   "metadata": {},
   "outputs": [],
   "source": [
    "paid = rng.binomial(n=1, p=0.2, size=x)"
   ]
  },
  {
   "cell_type": "code",
   "execution_count": null,
   "id": "7f13e1a8-bceb-4d24-aea3-5d63a64e8b7a",
   "metadata": {},
   "outputs": [],
   "source": [
    "df['paid'] = paid.tolist()\n",
    "# df"
   ]
  },
  {
   "cell_type": "markdown",
   "id": "6a45d75f-65d5-4d99-8887-58158141f7b4",
   "metadata": {},
   "source": [
    "8. **Drink**  \n",
    "Here we'll create a list of the common drinks and for now divide them up randomly for now. A bit of thought needs to go into this though. Older ITM and bluegrass musicians may favour Beamish. Younger college kids maybe craft beer or non-alcoholic stuff."
   ]
  },
  {
   "cell_type": "code",
   "execution_count": null,
   "id": "5a547368-39d4-4755-a177-97d25e9fa5d8",
   "metadata": {},
   "outputs": [],
   "source": [
    "drinks = ['beamish', 'guinness', 'murphys', 'other_draft', 'craft_beers', 'red_wine', 'spirits', 'water/soft drinks']"
   ]
  },
  {
   "cell_type": "code",
   "execution_count": null,
   "id": "cc69350e-5221-478f-8bfb-7b619878e1d0",
   "metadata": {},
   "outputs": [],
   "source": [
    "drinks = rng.choice(drinks, size=x)"
   ]
  },
  {
   "cell_type": "code",
   "execution_count": null,
   "id": "6cbafaf5-afed-4550-bfda-e7b20c9dec07",
   "metadata": {},
   "outputs": [],
   "source": [
    "df['drinks'] = drinks.tolist()\n",
    "# df"
   ]
  },
  {
   "cell_type": "markdown",
   "id": "c1c04bb3-7976-4ec8-ba6b-0fdd13de047c",
   "metadata": {},
   "source": [
    "9. **Night of the week**  \n",
    "We create a list of the days plus an option for 'more than one'. I skew it in favour of the weekend nights maybe. I will revisit this as the blues, bluegrass and old-time are each on a particular night! Maybe weekend, midweek, or both would be more appropriate?"
   ]
  },
  {
   "cell_type": "code",
   "execution_count": null,
   "id": "b5b058b3-a383-4b64-a8b4-143f21a8e2a8",
   "metadata": {},
   "outputs": [],
   "source": [
    "night = ['midweek', 'weekend', 'both']\n",
    "night = rng.choice(night, p=[0.4, 0.5, 0.1], size=len(df))"
   ]
  },
  {
   "cell_type": "code",
   "execution_count": null,
   "id": "56371642-7fdd-482d-bdbc-9af5b268de05",
   "metadata": {},
   "outputs": [],
   "source": [
    "df['night'] = night.tolist()\n",
    "# df"
   ]
  },
  {
   "cell_type": "markdown",
   "id": "3bce4549-c240-4a82-bb50-c1d227943659",
   "metadata": {},
   "source": [
    "10. **Gender**  \n",
    "Unfortunately the gender is way off the charts in this place! Maybe 20% women max! I can use the same code as for ability above and just skew it towards men."
   ]
  },
  {
   "cell_type": "code",
   "execution_count": null,
   "id": "20a9e473-4fef-4db5-ba6e-8399a655477d",
   "metadata": {},
   "outputs": [],
   "source": [
    "gender = pd.Series(random.choices(['male','female'], weights=[5, 1], k=len(df)))"
   ]
  },
  {
   "cell_type": "code",
   "execution_count": null,
   "id": "f5f97bbb-1d84-43f6-9cff-4e7f3330c592",
   "metadata": {},
   "outputs": [],
   "source": [
    "df['gender'] = gender.tolist()\n",
    "# df"
   ]
  },
  {
   "cell_type": "code",
   "execution_count": null,
   "id": "198e4da4-f3b0-4641-9836-03280e55996b",
   "metadata": {},
   "outputs": [],
   "source": [
    "# save to csv\n",
    "df.to_csv('data/the_session.csv')"
   ]
  },
  {
   "cell_type": "markdown",
   "id": "5241c618-ad34-4d8d-8266-52c9935d51cf",
   "metadata": {},
   "source": [
    "<br>\n",
    "\n",
    "---\n",
    "So far this is all completely random - just in case anyone is looking this far back!! 🤣\n",
    "\n",
    "Now I have a try and come up with some code to create and simulate the relationships between values."
   ]
  },
  {
   "cell_type": "markdown",
   "id": "88330b45-f8a6-4fe9-9207-c19fdcee1dcb",
   "metadata": {},
   "source": [
    "<br>\n",
    "---\n",
    "\n",
    "## References\n",
    "\n",
    "https://www.geeksforgeeks.org/different-ways-to-create-pandas-dataframe/\n",
    "\n",
    "https://www.statology.org/add-numpy-array-to-pandas-dataframe/\n",
    "\n",
    "https://www.py4u.net/discuss/18951\n",
    "\n",
    "https://stackabuse.com/seaborn-bar-plot-tutorial-and-examples/\n",
    "\n",
    "http://seaborn.pydata.org/tutorial/categorical.html?highlight=bar%20plot\n",
    "\n",
    "https://stackoverflow.com/questions/10741346/numpy-most-efficient-frequency-counts-for-unique-values-in-an-array\n",
    "\n",
    "https://www.dataquest.io/blog/tutorial-add-column-pandas-dataframe-based-on-if-else-condition/\n",
    "\n",
    "https://stackoverflow.com/questions/65982695/insert-a-new-column-in-pandas-with-random-string-values\n",
    "\n",
    "https://pandas.pydata.org/pandas-docs/version/0.24.0rc1/api/generated/pandas.Series.to_numpy.html\n",
    "\n",
    "https://www.w3schools.com/python/ref_random_choices.asp\n",
    "\n",
    "https://www.kite.com/python/answers/how-to-convert-a-list-into-a-pandas-dataframe-in-python\n",
    "\n",
    "https://stackoverflow.com/questions/65762166/np-where-with-strings-and-multiple-conditions-to-create-a-new-column-in-excel\n",
    "\n",
    "https://datatofish.com/if-condition-in-pandas-dataframe/\n",
    "\n",
    "https://stackoverflow.com/questions/306400/how-can-i-randomly-select-an-item-from-a-list"
   ]
  },
  {
   "cell_type": "markdown",
   "id": "c79f4c2d-4338-4892-a9d0-ae570d640091",
   "metadata": {},
   "source": [
    "<br>\n",
    "\n",
    "---\n",
    "# END"
   ]
  },
  {
   "cell_type": "code",
   "execution_count": null,
   "id": "4a96c030-c5d6-416d-9a6e-aa3efbb7b76d",
   "metadata": {},
   "outputs": [],
   "source": []
  }
 ],
 "metadata": {
  "kernelspec": {
   "display_name": "Python 3 (ipykernel)",
   "language": "python",
   "name": "python3"
  },
  "language_info": {
   "codemirror_mode": {
    "name": "ipython",
    "version": 3
   },
   "file_extension": ".py",
   "mimetype": "text/x-python",
   "name": "python",
   "nbconvert_exporter": "python",
   "pygments_lexer": "ipython3",
   "version": "3.8.12"
  }
 },
 "nbformat": 4,
 "nbformat_minor": 5
}
