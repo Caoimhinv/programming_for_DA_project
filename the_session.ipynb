{
 "cells": [
  {
   "cell_type": "markdown",
   "id": "2112132a-f23b-4122-a7b2-4d954e99ae8d",
   "metadata": {},
   "source": [
    "<h1><center>Programming for Data Analysis</center></h1>\n",
    "<h3><center>Autumn/Winter 2021 Project</center></h3>\n",
    "\n",
    "---"
   ]
  },
  {
   "cell_type": "markdown",
   "id": "0b62b085-e4e3-403d-b1c2-35fdcfa03937",
   "metadata": {},
   "source": [
    "<br>\n",
    "\n",
    "<h1><center>\"The Session\"</center></h1>\n",
    "\n",
    "![symbol](images/symbols.jpeg)"
   ]
  },
  {
   "cell_type": "markdown",
   "id": "35addd14-a8e0-4bf9-9cc0-08cc6aef8093",
   "metadata": {},
   "source": [
    "<br>\n",
    "\n",
    "___\n",
    "#### Introduction  \n",
    "\n",
    "The brief for the project stipulated that we *\"create a data set by simulating a real-world phenomenon\"*. It was further suggested we pick something that is of interest to us in our personal or professional life. I've decided to do something on music sessions and try to simulate a dataset based on the attendees at sessions in a given month in a particular pub in Cork city! \n",
    "\n",
    "I'll try to work out all of the variables, examine their properties, potential data types, and how they relate to each other. I'll then try and work out code to simulate a random dataset based on that information. "
   ]
  },
  {
   "cell_type": "markdown",
   "id": "b83e47f7-6e19-4ce6-82d7-c951a863e812",
   "metadata": {},
   "source": [
    "![session1](images/session1.jpg)"
   ]
  },
  {
   "cell_type": "markdown",
   "id": "2680e759-83b0-4c26-a4e9-1df62066bca2",
   "metadata": {},
   "source": [
    "<br>\n",
    "\n",
    "#### The variables\n",
    "\n",
    "The first challenge was to come up with a lost of variables, that were both appropriate and possible to simulate. The list below changed quite a few times after I discovered problems with some, and thought of others as the project progressed. A field trip helped! 😁"
   ]
  },
  {
   "cell_type": "markdown",
   "id": "11c9ecc9-c476-4145-a002-743c746de6fc",
   "metadata": {},
   "source": [
    "1. The players  \n",
    "There can be anywhere between 3 and sometimes more than 10 musicians on any given night, and this particular pub (pre-covid!) would usually have 7 sessions a week. So that's a monthly range of between 84 and 280+ musicians. The brief asks for \"at least one-hundred data points across at least four different variables\", so I need to ensure my simulation returns at least that.\n",
    "3 is always the minimum number of musicians each night, as they would be the paid hosts of the session. The norm would be around 5 or 6 musicians, but sometimes there might be more than 10 for a party or special occasion."
   ]
  },
  {
   "cell_type": "markdown",
   "id": "7ef49461-f220-44ec-8c20-016cdb4cf4ec",
   "metadata": {},
   "source": [
    "2. The instruments  \n",
    "The range of instruments played includes fiddle, accordion, guitar, flute, uilleann pipes, bodhrán, bouzouki, banjo, concertina, mandolin, bass, and drums. Some of the instruments are particualar to a musical genre, while some would be found at all of the different sessions. Within that some instruments are more popular than others, with at least 1 guitar being found at every single session."
   ]
  },
  {
   "cell_type": "markdown",
   "id": "424d4d95-cc20-4f9e-b1ca-66d4e3af908c",
   "metadata": {},
   "source": [
    "3. Genre  \n",
    "While the pub mostly has Irish traditional music (ITM), there are also sessions of bluegrass, old-time, and blues music. The weekly breakdown of sessions is 4 ITM and 1 each of the other three."
   ]
  },
  {
   "cell_type": "markdown",
   "id": "64eacd94-c869-4f81-96d4-0c3c07946833",
   "metadata": {},
   "source": [
    "4. Ability  \n",
    "All of the musicians would be of differing ability levels. The hosts would normally be the most able. The guests can range from beginners just joining in, to experienced professional musicians passing through town. The pub in question is quite famous so there would be a lot more highly competent players than beginners. "
   ]
  },
  {
   "cell_type": "markdown",
   "id": "056a3aee-6c54-4ff4-a666-5dc437ccd64c",
   "metadata": {},
   "source": [
    "5. Age  \n",
    "The pub in question is over 21s only and is regarded as an 'old man's pub'! The total age range would be from 21 up to 80 I'd say, which would be equally spread out I think with possible spikes at either end of the spectrum. Age isn't necessarily connected to ability but can be! Generally the blugrass players tend to be older, while a lot of the ITM players would be younger."
   ]
  },
  {
   "cell_type": "markdown",
   "id": "ca795996-771e-40da-8297-6433e60cf490",
   "metadata": {},
   "source": [
    "6. Paid  \n",
    "The session would always have at least 3 hosts who would be paid. It's most common for these to be the best ability-wise, biggest repertoire, and older (but not always!). The typical instruments for ITM hosts would be accordion, fiddle and guitar. Whereas there may be more of a mix in the other genres, and more musicians sharing the fee."
   ]
  },
  {
   "cell_type": "markdown",
   "id": "466f22bf-9ba3-4df7-ba6c-cb73191c9ef1",
   "metadata": {},
   "source": [
    "7. Gender  \n",
    "Men would certainly be in the majority at all sessions here! Blues and bluegrass sessions would nearly be entirely male, while there would be more women in the ITM sessions."
   ]
  },
  {
   "cell_type": "markdown",
   "id": "25e71cdd-0a39-42d3-ada4-2404bb7eb471",
   "metadata": {},
   "source": [
    "8. Drink  \n",
    "Just putting this in for the craic! The typical drinks might be Beamish, Guinness, Murphys, various lagers on tap, craft beers, red wine, spirits, water/soft drinks. The older hosts and musicians tend to drink Beamish and red wine! The younger craft beers and non-alcoholic drinks? Sweeping generalisations will abound here!"
   ]
  },
  {
   "cell_type": "markdown",
   "id": "dc87de04-69da-48c8-926c-cc529130f7c1",
   "metadata": {},
   "source": [
    "<br>\n",
    "\n",
    "I need to examine each of these variables in much more detail and try and work out code to simulate them. I guess one of the ultimate goals in this will be whether myself or one of my colleagues could recognise ourselves in the results!"
   ]
  },
  {
   "cell_type": "markdown",
   "id": "82396392-a31f-40f8-8d87-6bb1f41df29d",
   "metadata": {},
   "source": [
    "<br>\n",
    "\n",
    "___\n",
    "#### Examining the variables in detail and attempted coding"
   ]
  },
  {
   "cell_type": "markdown",
   "id": "9229d155-7a3e-49ba-8893-7c304ce728bb",
   "metadata": {},
   "source": [
    "We begin by importing the necessary python packages."
   ]
  },
  {
   "cell_type": "code",
   "execution_count": 1,
   "id": "6cb937d9-f05e-49b3-9362-8b3f8c2cbae1",
   "metadata": {},
   "outputs": [],
   "source": [
    "# numerical arrays\n",
    "import numpy as np\n",
    "\n",
    "# dataframes\n",
    "import pandas as pd\n",
    "\n",
    "# plotting\n",
    "import matplotlib.pyplot as plt\n",
    "\n",
    "# nicer plotting\n",
    "import seaborn as sns\n",
    "\n",
    "# module for choosing from a list\n",
    "from secrets import choice\n",
    "\n",
    "# python standard random library\n",
    "import random"
   ]
  },
  {
   "cell_type": "code",
   "execution_count": 2,
   "id": "fa6f568e-51f1-4d47-b2fc-d35cfdd1ff32",
   "metadata": {},
   "outputs": [],
   "source": [
    "# # set global style for seaborn plots\n",
    "sns.set_style(\"darkgrid\")\n",
    "\n",
    "# set global figure size\n",
    "plt.rcParams[\"figure.figsize\"] = (15,10)"
   ]
  },
  {
   "cell_type": "markdown",
   "id": "b9da4518-d2e8-453d-936f-e6ddb31011d4",
   "metadata": {},
   "source": [
    "To begin I'm going to create a simple table populated with quickly generated random data just to get a feel for the size and shape of the potential final outcome, and also to choose appropriate datatypes."
   ]
  },
  {
   "cell_type": "markdown",
   "id": "178e5570-8628-4fb5-87ab-c90ef992402f",
   "metadata": {},
   "source": [
    "1. Musicians  \n",
    "\n",
    "We'll create an array of 100 numbers and use that as the first column to represent 100 musicians."
   ]
  },
  {
   "cell_type": "code",
   "execution_count": 3,
   "id": "30998df8-bdfc-4845-81a9-a324fd80766a",
   "metadata": {},
   "outputs": [],
   "source": [
    "# create numPy array using x as upper limit\n",
    "data = np.arange(100)\n",
    "\n",
    "# turn it into a dataframe\n",
    "proto = pd.DataFrame(data, columns = ['muso'])"
   ]
  },
  {
   "cell_type": "markdown",
   "id": "ac55219f-ba00-4fa1-9068-4e65510f34d9",
   "metadata": {},
   "source": [
    "2. Instruments  \n",
    "\n",
    "We create a list of the potential instruments and use `numpy.random.choice` to choose 100 at random and use those to populate the second column of the dataframe. To use numpy.random we need to first create a new random number generator."
   ]
  },
  {
   "cell_type": "code",
   "execution_count": 4,
   "id": "c39c7ec8-df45-41d7-8888-c9b9dc426aa1",
   "metadata": {},
   "outputs": [],
   "source": [
    "# create a random number generator with seed\n",
    "rng = np.random.default_rng()\n",
    "\n",
    "# create a list of instruments\n",
    "instrs = ['guitar', 'fiddle', 'accordion', 'flute', 'uilleann_pipes', 'concertina', 'bodhrán',\n",
    "        'mandolin', 'bass', 'banjo', 'drums', 'keyboard']\n",
    "\n",
    "# choose 100 at random\n",
    "instrs = rng.choice(instrs, size=100)\n",
    "\n",
    "# create column with randomly chosen instruments\n",
    "proto['instrument'] = instrs.tolist()"
   ]
  },
  {
   "cell_type": "markdown",
   "id": "cfef06ba-bc99-4124-8d3c-f7fed084738a",
   "metadata": {},
   "source": [
    "3. Genre  \n",
    "\n",
    "We create a list of potential genres and choose a random selection to be added as the third column"
   ]
  },
  {
   "cell_type": "code",
   "execution_count": 5,
   "id": "337bc60a-a4d6-46e9-afc5-1c5bb550b4bd",
   "metadata": {},
   "outputs": [],
   "source": [
    "genres = ['ITM', 'old_time', 'bluegrass', 'blues']\n",
    "genres = rng.choice(genres, size=100)\n",
    "proto['genre'] = genres.tolist()"
   ]
  },
  {
   "cell_type": "markdown",
   "id": "3c4195aa-470a-4e13-bb3a-d34f4e0a4649",
   "metadata": {},
   "source": [
    "4. Ability  \n",
    "\n",
    "Same as above"
   ]
  },
  {
   "cell_type": "code",
   "execution_count": 6,
   "id": "b529dcb4-b03c-4cfd-9785-1aced87a037c",
   "metadata": {},
   "outputs": [],
   "source": [
    "ability = ['good', 'really_good']\n",
    "ability = rng.choice(ability, size=100)\n",
    "proto['ability'] = ability.tolist()"
   ]
  },
  {
   "cell_type": "markdown",
   "id": "68b0219b-737f-4856-83db-47859ec6c072",
   "metadata": {},
   "source": [
    "5. Age  \n",
    "\n",
    "Same as above"
   ]
  },
  {
   "cell_type": "code",
   "execution_count": 7,
   "id": "977ba824-e5c2-4197-a8f8-a9225a213fa3",
   "metadata": {},
   "outputs": [],
   "source": [
    "age = ['young', 'middle-aged', 'older']\n",
    "age = rng.choice(age, size=100)\n",
    "proto['age'] = age.tolist()"
   ]
  },
  {
   "cell_type": "markdown",
   "id": "df46c60a-8751-41fc-9ba2-5233b3aa2518",
   "metadata": {},
   "source": [
    "6. Paid  \n",
    "\n",
    "Same as above"
   ]
  },
  {
   "cell_type": "code",
   "execution_count": 8,
   "id": "c8d03103-6f41-4c3f-a27c-099a61e9f5f5",
   "metadata": {},
   "outputs": [],
   "source": [
    "paid = ['yes', 'no']\n",
    "paid = rng.choice(paid, size=100)\n",
    "proto['paid'] = paid.tolist()"
   ]
  },
  {
   "cell_type": "markdown",
   "id": "5c738da4-ea78-4004-a574-5175eaadd9b1",
   "metadata": {},
   "source": [
    "7. Gender  \n",
    "\n",
    "Same as above"
   ]
  },
  {
   "cell_type": "code",
   "execution_count": 9,
   "id": "8d8be626-07ff-44be-9048-27bb51d45d9e",
   "metadata": {
    "tags": []
   },
   "outputs": [],
   "source": [
    "genders = ['male', 'female']\n",
    "gender = rng.choice(genders, size=100)\n",
    "proto['gender'] = gender.tolist()"
   ]
  },
  {
   "cell_type": "markdown",
   "id": "d7689bf5-f5f0-4bc4-a330-df01c2aea75c",
   "metadata": {},
   "source": [
    "8. Drink  \n",
    "\n",
    "Same as above"
   ]
  },
  {
   "cell_type": "code",
   "execution_count": 10,
   "id": "9342b920-0494-496d-b1c7-b8e561790a0f",
   "metadata": {},
   "outputs": [],
   "source": [
    "# create a list of drinks\n",
    "drinks = ['beamish', 'guinness', 'murphys', 'other_draft', 'craft_beers', 'red_wine', 'spirits', \n",
    "          'cider', 'non-alco']\n",
    "drinks = rng.choice(drinks, size=100)\n",
    "proto['drink'] = drinks.tolist()"
   ]
  },
  {
   "cell_type": "markdown",
   "id": "d2b87d92-7615-4207-a1b8-0a67f0447207",
   "metadata": {},
   "source": [
    "<br>\n",
    "\n",
    "So let's have a look!"
   ]
  },
  {
   "cell_type": "code",
   "execution_count": 11,
   "id": "a68739c3-c72b-4869-acea-be4cbfd3cc90",
   "metadata": {},
   "outputs": [
    {
     "data": {
      "text/html": [
       "<div>\n",
       "<style scoped>\n",
       "    .dataframe tbody tr th:only-of-type {\n",
       "        vertical-align: middle;\n",
       "    }\n",
       "\n",
       "    .dataframe tbody tr th {\n",
       "        vertical-align: top;\n",
       "    }\n",
       "\n",
       "    .dataframe thead th {\n",
       "        text-align: right;\n",
       "    }\n",
       "</style>\n",
       "<table border=\"1\" class=\"dataframe\">\n",
       "  <thead>\n",
       "    <tr style=\"text-align: right;\">\n",
       "      <th></th>\n",
       "      <th>muso</th>\n",
       "      <th>instrument</th>\n",
       "      <th>genre</th>\n",
       "      <th>ability</th>\n",
       "      <th>age</th>\n",
       "      <th>paid</th>\n",
       "      <th>gender</th>\n",
       "      <th>drink</th>\n",
       "    </tr>\n",
       "  </thead>\n",
       "  <tbody>\n",
       "    <tr>\n",
       "      <th>0</th>\n",
       "      <td>0</td>\n",
       "      <td>drums</td>\n",
       "      <td>blues</td>\n",
       "      <td>really_good</td>\n",
       "      <td>middle-aged</td>\n",
       "      <td>no</td>\n",
       "      <td>male</td>\n",
       "      <td>red_wine</td>\n",
       "    </tr>\n",
       "    <tr>\n",
       "      <th>1</th>\n",
       "      <td>1</td>\n",
       "      <td>uilleann_pipes</td>\n",
       "      <td>bluegrass</td>\n",
       "      <td>really_good</td>\n",
       "      <td>older</td>\n",
       "      <td>yes</td>\n",
       "      <td>male</td>\n",
       "      <td>guinness</td>\n",
       "    </tr>\n",
       "    <tr>\n",
       "      <th>2</th>\n",
       "      <td>2</td>\n",
       "      <td>flute</td>\n",
       "      <td>old_time</td>\n",
       "      <td>good</td>\n",
       "      <td>young</td>\n",
       "      <td>yes</td>\n",
       "      <td>female</td>\n",
       "      <td>red_wine</td>\n",
       "    </tr>\n",
       "    <tr>\n",
       "      <th>3</th>\n",
       "      <td>3</td>\n",
       "      <td>flute</td>\n",
       "      <td>ITM</td>\n",
       "      <td>good</td>\n",
       "      <td>older</td>\n",
       "      <td>no</td>\n",
       "      <td>male</td>\n",
       "      <td>cider</td>\n",
       "    </tr>\n",
       "    <tr>\n",
       "      <th>4</th>\n",
       "      <td>4</td>\n",
       "      <td>bodhrán</td>\n",
       "      <td>old_time</td>\n",
       "      <td>really_good</td>\n",
       "      <td>middle-aged</td>\n",
       "      <td>yes</td>\n",
       "      <td>female</td>\n",
       "      <td>other_draft</td>\n",
       "    </tr>\n",
       "  </tbody>\n",
       "</table>\n",
       "</div>"
      ],
      "text/plain": [
       "   muso      instrument      genre      ability          age paid  gender  \\\n",
       "0     0           drums      blues  really_good  middle-aged   no    male   \n",
       "1     1  uilleann_pipes  bluegrass  really_good        older  yes    male   \n",
       "2     2           flute   old_time         good        young  yes  female   \n",
       "3     3           flute        ITM         good        older   no    male   \n",
       "4     4         bodhrán   old_time  really_good  middle-aged  yes  female   \n",
       "\n",
       "         drink  \n",
       "0     red_wine  \n",
       "1     guinness  \n",
       "2     red_wine  \n",
       "3        cider  \n",
       "4  other_draft  "
      ]
     },
     "execution_count": 11,
     "metadata": {},
     "output_type": "execute_result"
    }
   ],
   "source": [
    "proto.head()"
   ]
  },
  {
   "cell_type": "markdown",
   "id": "83159535-d540-4363-8094-ef92759abd43",
   "metadata": {},
   "source": [
    "And print the dataframe to file just to compare to later!"
   ]
  },
  {
   "cell_type": "code",
   "execution_count": 12,
   "id": "821ae129-f3ac-4214-a0a1-986413e7c28e",
   "metadata": {},
   "outputs": [],
   "source": [
    "# save to csv\n",
    "proto.to_csv('data/the_session_prototype.csv')"
   ]
  },
  {
   "cell_type": "markdown",
   "id": "6bf17452-25a3-44d2-afcd-56ef0bc486c9",
   "metadata": {},
   "source": [
    "<br>\n",
    "\n",
    "Now we'll look at each of the variables in a bit more detail and find ways of simulating more accurate data."
   ]
  },
  {
   "cell_type": "markdown",
   "id": "577573ff-0ce0-4acd-91ca-1d84823423c5",
   "metadata": {},
   "source": [
    "<br>\n",
    "\n",
    "1. **The players**  \n",
    "\n",
    "We'll decide that the month is January* so that's 30 days (not including New Year's Day 😁) so 30 sessions. The range for the amount of musicians at any particular session is 3-10. The datatype would obviously have to be integer. This value could also serve as the index as each attendee (or more correctly attendence as in reality a lot of people will atend on multiple occasions) will be unique.\n",
    "\n",
    "I'm going to create an array of 30 values between 3 and 10 and then add them up. We're using numpy.random to create a random number generator and then create the array of integers. I'm giving the random number generator a seed so the results will remain the same each time.** This is a way of also ensuring I get over 100 variables!\n",
    "\n",
    "\\* this can be changed by the viewer to create a new dataset for a different month or a longer period of time\n",
    "\\** the viewer can change or remove the seed to give a different result each time"
   ]
  },
  {
   "cell_type": "code",
   "execution_count": 13,
   "id": "c16098b0-11ac-4a33-9b6a-244a00c62047",
   "metadata": {},
   "outputs": [
    {
     "data": {
      "text/plain": [
       "array([ 3,  9,  8,  6,  6,  9,  3,  8,  4,  3,  7, 10,  8,  9,  8,  9,  7,\n",
       "        4,  9,  6,  7,  5,  4, 10,  9,  8,  6,  9,  7,  6])"
      ]
     },
     "execution_count": 13,
     "metadata": {},
     "output_type": "execute_result"
    }
   ],
   "source": [
    "# create random number generator\n",
    "rng = np.random.default_rng(42)\n",
    "\n",
    "# create an array of 30 numbers between 3 and 11 (non-inclusive)\n",
    "x = rng.integers(3, 11, 30)\n",
    "x"
   ]
  },
  {
   "cell_type": "markdown",
   "id": "3497a9da-d8aa-431a-9efb-9de00403de3c",
   "metadata": {},
   "source": [
    "It's hard to judge anything from that but we can create a `barplot` with `seaborn` to get a better idea."
   ]
  },
  {
   "cell_type": "code",
   "execution_count": 14,
   "id": "b771d16b-0383-4b5c-a2ea-702e40c4588a",
   "metadata": {},
   "outputs": [
    {
     "data": {
      "image/png": "[encoded data removed]",
      "text/plain": [
       "<Figure size 1080x720 with 1 Axes>"
      ]
     },
     "metadata": {},
     "output_type": "display_data"
    }
   ],
   "source": [
    "# add up the frequency of each unique value\n",
    "unique, counts = np.unique(x, return_counts=True)\n",
    "\n",
    "# # plots the results\n",
    "sns.barplot(x = unique, y = counts);"
   ]
  },
  {
   "cell_type": "markdown",
   "id": "c57e9aa2-0752-47a7-be37-ff1d09e19e5c",
   "metadata": {},
   "source": [
    "This doesn't reallty work as I want the average to be around 5/6 and there certainly aren't going to be that many sessions with 9 people. I need to find a normal distribution with a mean around 5. And with integers! And with no values below 3! The following is adapted from https://www.py4u.net/discuss/18951 and https://stackoverflow.com/questions/55806118/remove-elements-from-numpy-array-smaller-than-1."
   ]
  },
  {
   "cell_type": "code",
   "execution_count": 15,
   "id": "c0a8dab5-6129-45b7-9f6c-f7cfb56c8658",
   "metadata": {},
   "outputs": [
    {
     "name": "stdout",
     "output_type": "stream",
     "text": [
      "The total number of attendances at sessions in January is 152\n"
     ]
    },
    {
     "data": {
      "image/png": "[encoded data removed]",
      "text/plain": [
       "<Figure size 1080x720 with 1 Axes>"
      ]
     },
     "metadata": {},
     "output_type": "display_data"
    }
   ],
   "source": [
    "# sets mean, standard deviation and size of array\n",
    "muso = rng.normal(loc=5, scale=3, size=30)\n",
    "\n",
    "# rounds the values\n",
    "musoInt = np.round(muso)\n",
    "\n",
    "# removes values lower than 3\n",
    "musoInt1 = musoInt[(musoInt > 2)]\n",
    "\n",
    "# convert to integers\n",
    "musoInt1 = musoInt1.astype(int)\n",
    "# print(musoInt1)\n",
    "\n",
    "# add up the frequency of each unique value\n",
    "unique, counts = np.unique(musoInt1, return_counts=True)\n",
    "\n",
    "# # plots the results\n",
    "sns.barplot(x = unique, y = counts)\n",
    "\n",
    "# adds up the results and converts to an int\n",
    "y = int(musoInt1.sum())\n",
    "\n",
    "print(f'The total number of attendances at sessions in January is {y}')"
   ]
  },
  {
   "cell_type": "markdown",
   "id": "37d208ca-b391-4fac-9aa1-d6835214a56c",
   "metadata": {},
   "source": [
    "This looks like a lot better representation of what the breakdown of attendences might be. We now need to turn the total into the first column of the dataframe. We create an array using `numpy` with the total as the upper limit. This is then converted into a `pandas` dataframe and the first column titled muso."
   ]
  },
  {
   "cell_type": "code",
   "execution_count": 16,
   "id": "9d284538-79d4-4616-a05d-66807451477a",
   "metadata": {},
   "outputs": [
    {
     "data": {
      "text/html": [
       "<div>\n",
       "<style scoped>\n",
       "    .dataframe tbody tr th:only-of-type {\n",
       "        vertical-align: middle;\n",
       "    }\n",
       "\n",
       "    .dataframe tbody tr th {\n",
       "        vertical-align: top;\n",
       "    }\n",
       "\n",
       "    .dataframe thead th {\n",
       "        text-align: right;\n",
       "    }\n",
       "</style>\n",
       "<table border=\"1\" class=\"dataframe\">\n",
       "  <thead>\n",
       "    <tr style=\"text-align: right;\">\n",
       "      <th></th>\n",
       "      <th>muso</th>\n",
       "    </tr>\n",
       "  </thead>\n",
       "  <tbody>\n",
       "    <tr>\n",
       "      <th>0</th>\n",
       "      <td>0</td>\n",
       "    </tr>\n",
       "    <tr>\n",
       "      <th>1</th>\n",
       "      <td>1</td>\n",
       "    </tr>\n",
       "    <tr>\n",
       "      <th>2</th>\n",
       "      <td>2</td>\n",
       "    </tr>\n",
       "    <tr>\n",
       "      <th>3</th>\n",
       "      <td>3</td>\n",
       "    </tr>\n",
       "    <tr>\n",
       "      <th>4</th>\n",
       "      <td>4</td>\n",
       "    </tr>\n",
       "  </tbody>\n",
       "</table>\n",
       "</div>"
      ],
      "text/plain": [
       "   muso\n",
       "0     0\n",
       "1     1\n",
       "2     2\n",
       "3     3\n",
       "4     4"
      ]
     },
     "execution_count": 16,
     "metadata": {},
     "output_type": "execute_result"
    }
   ],
   "source": [
    "# create numPy array using x as upper limit\n",
    "data = np.arange(y)\n",
    "\n",
    "# turn it into a dataframe\n",
    "df = pd.DataFrame(data, columns = ['muso'])\n",
    "\n",
    "# have a look\n",
    "df.head()"
   ]
  },
  {
   "cell_type": "markdown",
   "id": "1d5eeca1-63f8-43e2-81e0-9d7580e9922f",
   "metadata": {},
   "source": [
    "<br>\n",
    "\n",
    "2. **The instruments**  \n",
    "\n",
    "We need to create a list of the instuments first - datatype is obviously going to be a string. We then use `numpy.random.choice` to create another array the same size (`y`) as the first column 'muso'. I weighted the percentage chance of returning each instrument (`p=[0.15, etc]`) so that guitar will be the most likely instrument to returned followed by fiddle and accordion. This variable doesn't need to be related to anything yet so we assign the instruments randomly as a new column. "
   ]
  },
  {
   "cell_type": "code",
   "execution_count": 17,
   "id": "00325a80-92a5-44dc-88b4-c3132fbf0fda",
   "metadata": {},
   "outputs": [
    {
     "data": {
      "text/html": [
       "<div>\n",
       "<style scoped>\n",
       "    .dataframe tbody tr th:only-of-type {\n",
       "        vertical-align: middle;\n",
       "    }\n",
       "\n",
       "    .dataframe tbody tr th {\n",
       "        vertical-align: top;\n",
       "    }\n",
       "\n",
       "    .dataframe thead th {\n",
       "        text-align: right;\n",
       "    }\n",
       "</style>\n",
       "<table border=\"1\" class=\"dataframe\">\n",
       "  <thead>\n",
       "    <tr style=\"text-align: right;\">\n",
       "      <th></th>\n",
       "      <th>muso</th>\n",
       "      <th>instrument</th>\n",
       "    </tr>\n",
       "  </thead>\n",
       "  <tbody>\n",
       "    <tr>\n",
       "      <th>0</th>\n",
       "      <td>0</td>\n",
       "      <td>guitar</td>\n",
       "    </tr>\n",
       "    <tr>\n",
       "      <th>1</th>\n",
       "      <td>1</td>\n",
       "      <td>accordion</td>\n",
       "    </tr>\n",
       "    <tr>\n",
       "      <th>2</th>\n",
       "      <td>2</td>\n",
       "      <td>guitar</td>\n",
       "    </tr>\n",
       "    <tr>\n",
       "      <th>3</th>\n",
       "      <td>3</td>\n",
       "      <td>guitar</td>\n",
       "    </tr>\n",
       "    <tr>\n",
       "      <th>4</th>\n",
       "      <td>4</td>\n",
       "      <td>guitar</td>\n",
       "    </tr>\n",
       "  </tbody>\n",
       "</table>\n",
       "</div>"
      ],
      "text/plain": [
       "   muso instrument\n",
       "0     0     guitar\n",
       "1     1  accordion\n",
       "2     2     guitar\n",
       "3     3     guitar\n",
       "4     4     guitar"
      ]
     },
     "execution_count": 17,
     "metadata": {},
     "output_type": "execute_result"
    }
   ],
   "source": [
    "# create a list of instruments\n",
    "instrs = ['guitar', 'fiddle', 'accordion', 'flute', 'uilleann_pipes', 'concertina', 'bodhrán',\n",
    "        'mandolin', 'bass', 'banjo', 'drums', 'keyboard']\n",
    "\n",
    "# we can pass in the probability for each item\n",
    "instrs = rng.choice(instrs, p=[0.3, 0.25, 0.15, 0.04, 0.03, 0.01, 0.025, 0.05, \n",
    "                               0.05, 0.045, 0.03, 0.02], size=y)\n",
    "\n",
    "# adds this list as a column to the dataframe\n",
    "df['instrument'] = instrs.tolist()\n",
    "\n",
    "# have a look\n",
    "df.head()"
   ]
  },
  {
   "cell_type": "code",
   "execution_count": 18,
   "id": "9a754c86-0a34-4143-934a-2eed1c0c9028",
   "metadata": {},
   "outputs": [
    {
     "name": "stdout",
     "output_type": "stream",
     "text": [
      "<class 'pandas.core.frame.DataFrame'>\n",
      "RangeIndex: 152 entries, 0 to 151\n",
      "Data columns (total 2 columns):\n",
      " #   Column      Non-Null Count  Dtype \n",
      "---  ------      --------------  ----- \n",
      " 0   muso        152 non-null    int64 \n",
      " 1   instrument  152 non-null    object\n",
      "dtypes: int64(1), object(1)\n",
      "memory usage: 2.5+ KB\n"
     ]
    }
   ],
   "source": [
    "# prints out some info so far\n",
    "df.info()"
   ]
  },
  {
   "cell_type": "markdown",
   "id": "9e5c854b-0d8d-47ee-a081-25f105b04362",
   "metadata": {},
   "source": [
    "I'm now going to set muso to be the index."
   ]
  },
  {
   "cell_type": "code",
   "execution_count": 19,
   "id": "bb3ef3e5-329d-4ac3-8068-9174e357ca4a",
   "metadata": {},
   "outputs": [
    {
     "data": {
      "text/html": [
       "<div>\n",
       "<style scoped>\n",
       "    .dataframe tbody tr th:only-of-type {\n",
       "        vertical-align: middle;\n",
       "    }\n",
       "\n",
       "    .dataframe tbody tr th {\n",
       "        vertical-align: top;\n",
       "    }\n",
       "\n",
       "    .dataframe thead th {\n",
       "        text-align: right;\n",
       "    }\n",
       "</style>\n",
       "<table border=\"1\" class=\"dataframe\">\n",
       "  <thead>\n",
       "    <tr style=\"text-align: right;\">\n",
       "      <th></th>\n",
       "      <th>instrument</th>\n",
       "    </tr>\n",
       "    <tr>\n",
       "      <th>muso</th>\n",
       "      <th></th>\n",
       "    </tr>\n",
       "  </thead>\n",
       "  <tbody>\n",
       "    <tr>\n",
       "      <th>0</th>\n",
       "      <td>guitar</td>\n",
       "    </tr>\n",
       "    <tr>\n",
       "      <th>1</th>\n",
       "      <td>accordion</td>\n",
       "    </tr>\n",
       "    <tr>\n",
       "      <th>2</th>\n",
       "      <td>guitar</td>\n",
       "    </tr>\n",
       "    <tr>\n",
       "      <th>3</th>\n",
       "      <td>guitar</td>\n",
       "    </tr>\n",
       "    <tr>\n",
       "      <th>4</th>\n",
       "      <td>guitar</td>\n",
       "    </tr>\n",
       "  </tbody>\n",
       "</table>\n",
       "</div>"
      ],
      "text/plain": [
       "     instrument\n",
       "muso           \n",
       "0        guitar\n",
       "1     accordion\n",
       "2        guitar\n",
       "3        guitar\n",
       "4        guitar"
      ]
     },
     "execution_count": 19,
     "metadata": {},
     "output_type": "execute_result"
    }
   ],
   "source": [
    "# set index\n",
    "df.set_index(\"muso\", inplace = True)\n",
    "\n",
    "# have a look\n",
    "df.head()"
   ]
  },
  {
   "cell_type": "markdown",
   "id": "de178a06-e897-4096-ba2e-6a5f7c867618",
   "metadata": {},
   "source": [
    "<br>\n",
    "\n",
    "3. **The genre**  \n",
    "\n",
    "This is where things get a little more interesting! There are 4 main genres represented in the sessions - ITM, bluegrass, old-time American, and blues. The ITM sessions are 4 nights a week while the other genres have 1 night each. Some instruments are played at all sessions (guitar), while some are particular to a genre (accordion and ITM).\n",
    "\n",
    "After a lot of research and experimentation I came up with the following solution!  \n",
    "Matching the genre to instrument for some instruments was easy in that all the accordions and uilleann pipers played in the ITM sessions. The following code sorts that:\n",
    "```\n",
    "df.loc[df['instrument'] == 'accordion', 'genre'] = 'ITM'  \n",
    "```\n",
    "The guitar and the fiddle were a bit more tricky in that they played in sessions of different genres.  I first of all saved the count for each instrument that played in multiple genres. I used the `pandas.count` method and converted the result to integer using `astype(int)`"
   ]
  },
  {
   "cell_type": "code",
   "execution_count": 20,
   "id": "acc4ff6d-bd2a-4112-874d-0976aa130c22",
   "metadata": {},
   "outputs": [],
   "source": [
    "# isolate guitar in 'instrument column'\n",
    "noGuitars = df[df['instrument']=='guitar']\n",
    "\n",
    "# count and convert to int\n",
    "noGuitars = noGuitars.count().astype(int)\n",
    "\n",
    "noFiddles = df[df['instrument']=='fiddle']\n",
    "noFiddles = noFiddles.count().astype(int)\n",
    "\n",
    "noBanjos = df[df['instrument']=='banjo']\n",
    "noBanjos = noBanjos.count().astype(int)\n",
    "\n",
    "noMandolins = df[df['instrument']=='mandolin']\n",
    "noMandolins = noMandolins.count().astype(int)\n",
    "\n",
    "noBasses = df[df['instrument']=='bass']\n",
    "noBasses = noBasses.count().astype(int)"
   ]
  },
  {
   "cell_type": "markdown",
   "id": "9a23d3a6-3013-414f-a16b-accef4232ed0",
   "metadata": {},
   "source": [
    "I then needed to create variables of lists for each genre based on a particular instrument the number of each instrument, i,e, mandolin only plays bluegrass and old-time."
   ]
  },
  {
   "cell_type": "code",
   "execution_count": 21,
   "id": "b47613a0-fe4e-4eb8-881d-a3956bc5fe3d",
   "metadata": {
    "tags": []
   },
   "outputs": [],
   "source": [
    "# guitar\n",
    "genre1 = ['bluegrass', 'ITM', 'old-time', 'blues']\n",
    "\n",
    "# bass\n",
    "genre2 = ['bluegrass', 'old-time', 'blues']\n",
    "\n",
    "# banjo\n",
    "genre3 = ['bluegrass', 'ITM', 'old-time']\n",
    "\n",
    "# mandolin\n",
    "genre4 = ['bluegrass', 'old-time']\n",
    "\n",
    "# fiddle\n",
    "genre5 = ['ITM', 'bluegrass', 'old-time']"
   ]
  },
  {
   "cell_type": "markdown",
   "id": "d77b3e56-b79b-4fb0-af6b-83cfd2fc90f8",
   "metadata": {},
   "source": [
    "This is where I spent the most time!!! I used `random.choices` and `pandas.Series` to create arrays for each of the problematic instruments. I weighted the output to reflect what I though was appropriate and I had to specify the length of the array. I couldn't give a simple integer here (as the number will change if the code is run again without a seed), so I had to convert the `noGuitars` variable to an integer. This `pandas` series is then converted to a numpy array ready to be added to the dataframe."
   ]
  },
  {
   "cell_type": "code",
   "execution_count": 22,
   "id": "f6a5c9cd-5ec0-42e0-a3e8-e9b6e0a92ff9",
   "metadata": {
    "scrolled": true,
    "tags": []
   },
   "outputs": [],
   "source": [
    "# create a random pandas series for guitar\n",
    "guitar = pd.Series(random.choices(genre1, weights=[1, 1, 1, 2], k=int(noGuitars)))\n",
    "# converts to numpy array\n",
    "guitar1 = guitar.to_numpy()\n",
    "\n",
    "bass = pd.Series(random.choices(genre2, weights=[1, 1, 1], k=int(noBasses)))\n",
    "bass1 = bass.to_numpy()\n",
    "\n",
    "banjo = pd.Series(random.choices(genre3, weights=[2, 1, 2], k=int(noBanjos)))\n",
    "banjo1 = banjo.to_numpy()\n",
    "\n",
    "mandolin = pd.Series(random.choices(genre4, weights=[1, 1], k=int(noMandolins)))\n",
    "mandolin1 = mandolin.to_numpy()\n",
    "\n",
    "fiddle = pd.Series(random.choices(genre5, weights=[2, 1, 1], k=int(noFiddles)))\n",
    "fiddle1 = fiddle.to_numpy()"
   ]
  },
  {
   "cell_type": "markdown",
   "id": "a3f3600b-9684-4c42-a302-bebef73294da",
   "metadata": {},
   "source": [
    "The following code creates a new column entitled 'genre' and specifies what genre each muso plays based on their instrument."
   ]
  },
  {
   "cell_type": "code",
   "execution_count": 23,
   "id": "18adb2df-41d5-4dff-82a7-889c0ed70a9a",
   "metadata": {},
   "outputs": [
    {
     "data": {
      "text/html": [
       "<div>\n",
       "<style scoped>\n",
       "    .dataframe tbody tr th:only-of-type {\n",
       "        vertical-align: middle;\n",
       "    }\n",
       "\n",
       "    .dataframe tbody tr th {\n",
       "        vertical-align: top;\n",
       "    }\n",
       "\n",
       "    .dataframe thead th {\n",
       "        text-align: right;\n",
       "    }\n",
       "</style>\n",
       "<table border=\"1\" class=\"dataframe\">\n",
       "  <thead>\n",
       "    <tr style=\"text-align: right;\">\n",
       "      <th></th>\n",
       "      <th>instrument</th>\n",
       "      <th>genre</th>\n",
       "    </tr>\n",
       "    <tr>\n",
       "      <th>muso</th>\n",
       "      <th></th>\n",
       "      <th></th>\n",
       "    </tr>\n",
       "  </thead>\n",
       "  <tbody>\n",
       "    <tr>\n",
       "      <th>0</th>\n",
       "      <td>guitar</td>\n",
       "      <td>blues</td>\n",
       "    </tr>\n",
       "    <tr>\n",
       "      <th>1</th>\n",
       "      <td>accordion</td>\n",
       "      <td>ITM</td>\n",
       "    </tr>\n",
       "    <tr>\n",
       "      <th>2</th>\n",
       "      <td>guitar</td>\n",
       "      <td>old-time</td>\n",
       "    </tr>\n",
       "    <tr>\n",
       "      <th>3</th>\n",
       "      <td>guitar</td>\n",
       "      <td>ITM</td>\n",
       "    </tr>\n",
       "    <tr>\n",
       "      <th>4</th>\n",
       "      <td>guitar</td>\n",
       "      <td>blues</td>\n",
       "    </tr>\n",
       "    <tr>\n",
       "      <th>5</th>\n",
       "      <td>bodhrán</td>\n",
       "      <td>ITM</td>\n",
       "    </tr>\n",
       "    <tr>\n",
       "      <th>6</th>\n",
       "      <td>accordion</td>\n",
       "      <td>ITM</td>\n",
       "    </tr>\n",
       "    <tr>\n",
       "      <th>7</th>\n",
       "      <td>flute</td>\n",
       "      <td>ITM</td>\n",
       "    </tr>\n",
       "    <tr>\n",
       "      <th>8</th>\n",
       "      <td>bodhrán</td>\n",
       "      <td>ITM</td>\n",
       "    </tr>\n",
       "    <tr>\n",
       "      <th>9</th>\n",
       "      <td>fiddle</td>\n",
       "      <td>bluegrass</td>\n",
       "    </tr>\n",
       "    <tr>\n",
       "      <th>10</th>\n",
       "      <td>accordion</td>\n",
       "      <td>ITM</td>\n",
       "    </tr>\n",
       "    <tr>\n",
       "      <th>11</th>\n",
       "      <td>guitar</td>\n",
       "      <td>bluegrass</td>\n",
       "    </tr>\n",
       "    <tr>\n",
       "      <th>12</th>\n",
       "      <td>guitar</td>\n",
       "      <td>blues</td>\n",
       "    </tr>\n",
       "    <tr>\n",
       "      <th>13</th>\n",
       "      <td>accordion</td>\n",
       "      <td>ITM</td>\n",
       "    </tr>\n",
       "    <tr>\n",
       "      <th>14</th>\n",
       "      <td>fiddle</td>\n",
       "      <td>bluegrass</td>\n",
       "    </tr>\n",
       "    <tr>\n",
       "      <th>15</th>\n",
       "      <td>accordion</td>\n",
       "      <td>ITM</td>\n",
       "    </tr>\n",
       "    <tr>\n",
       "      <th>16</th>\n",
       "      <td>uilleann_pipes</td>\n",
       "      <td>ITM</td>\n",
       "    </tr>\n",
       "    <tr>\n",
       "      <th>17</th>\n",
       "      <td>accordion</td>\n",
       "      <td>ITM</td>\n",
       "    </tr>\n",
       "    <tr>\n",
       "      <th>18</th>\n",
       "      <td>accordion</td>\n",
       "      <td>ITM</td>\n",
       "    </tr>\n",
       "    <tr>\n",
       "      <th>19</th>\n",
       "      <td>accordion</td>\n",
       "      <td>ITM</td>\n",
       "    </tr>\n",
       "  </tbody>\n",
       "</table>\n",
       "</div>"
      ],
      "text/plain": [
       "          instrument      genre\n",
       "muso                           \n",
       "0             guitar      blues\n",
       "1          accordion        ITM\n",
       "2             guitar   old-time\n",
       "3             guitar        ITM\n",
       "4             guitar      blues\n",
       "5            bodhrán        ITM\n",
       "6          accordion        ITM\n",
       "7              flute        ITM\n",
       "8            bodhrán        ITM\n",
       "9             fiddle  bluegrass\n",
       "10         accordion        ITM\n",
       "11            guitar  bluegrass\n",
       "12            guitar      blues\n",
       "13         accordion        ITM\n",
       "14            fiddle  bluegrass\n",
       "15         accordion        ITM\n",
       "16    uilleann_pipes        ITM\n",
       "17         accordion        ITM\n",
       "18         accordion        ITM\n",
       "19         accordion        ITM"
      ]
     },
     "execution_count": 23,
     "metadata": {},
     "output_type": "execute_result"
    }
   ],
   "source": [
    "# where instrument equals accordion, genre equals ITM, etc\n",
    "df.loc[df['instrument'] == 'accordion', 'genre'] = 'ITM'  \n",
    "df.loc[df['instrument'] == 'concertina', 'genre'] = 'ITM'  \n",
    "df.loc[df['instrument'] == 'guitar', 'genre'] = guitar1\n",
    "df.loc[df['instrument'] == 'bass', 'genre'] = bass1  \n",
    "df.loc[df['instrument'] == 'mandolin', 'genre'] = mandolin1  \n",
    "df.loc[df['instrument'] == 'banjo', 'genre'] = banjo1\n",
    "df.loc[df['instrument'] == 'uilleann_pipes', 'genre'] = 'ITM'  \n",
    "df.loc[df['instrument'] == 'flute', 'genre'] = 'ITM'  \n",
    "df.loc[df['instrument'] == 'bodhrán', 'genre'] = 'ITM'\n",
    "df.loc[df['instrument'] == 'keyboard', 'genre'] = 'blues'\n",
    "df.loc[df['instrument'] == 'drums', 'genre'] = 'blues'\n",
    "df.loc[df['instrument'] == 'fiddle', 'genre'] = fiddle1\n",
    "\n",
    "# have a look\n",
    "df.head(20)"
   ]
  },
  {
   "cell_type": "markdown",
   "id": "29d03275-402a-4de7-ab75-8c8d20a69662",
   "metadata": {},
   "source": [
    "Seems fine!"
   ]
  },
  {
   "cell_type": "markdown",
   "id": "51d663b6-c259-4097-a8f7-d71559f4511c",
   "metadata": {},
   "source": [
    "<br>\n",
    "\n",
    "4. **Ability**   \n",
    "\n",
    "We're going to go with a binary approach here - intermediate or advanced as in reality there are no beginners at these sessions. Ability isn't dependent on anything else - there are good and bad in all genres and each genre is performed to a similar level.  \n",
    "We're using a similar method to above with `random.choice` and `pandas.Series`. We're assuming that half of the musicians are 'decent' and the other half are 'legends'!"
   ]
  },
  {
   "cell_type": "code",
   "execution_count": 24,
   "id": "92514733-be3b-4a11-a6ef-1c4fc947b3f1",
   "metadata": {},
   "outputs": [],
   "source": [
    "ability = pd.Series(random.choices(['decent','legend'], weights=[1, 1], k=len(df)))"
   ]
  },
  {
   "cell_type": "code",
   "execution_count": 25,
   "id": "b7f6a2ee-73b6-4c1f-ae86-6df4ea752aed",
   "metadata": {},
   "outputs": [
    {
     "data": {
      "text/html": [
       "<div>\n",
       "<style scoped>\n",
       "    .dataframe tbody tr th:only-of-type {\n",
       "        vertical-align: middle;\n",
       "    }\n",
       "\n",
       "    .dataframe tbody tr th {\n",
       "        vertical-align: top;\n",
       "    }\n",
       "\n",
       "    .dataframe thead th {\n",
       "        text-align: right;\n",
       "    }\n",
       "</style>\n",
       "<table border=\"1\" class=\"dataframe\">\n",
       "  <thead>\n",
       "    <tr style=\"text-align: right;\">\n",
       "      <th></th>\n",
       "      <th>instrument</th>\n",
       "      <th>genre</th>\n",
       "      <th>ability</th>\n",
       "    </tr>\n",
       "    <tr>\n",
       "      <th>muso</th>\n",
       "      <th></th>\n",
       "      <th></th>\n",
       "      <th></th>\n",
       "    </tr>\n",
       "  </thead>\n",
       "  <tbody>\n",
       "    <tr>\n",
       "      <th>0</th>\n",
       "      <td>guitar</td>\n",
       "      <td>blues</td>\n",
       "      <td>decent</td>\n",
       "    </tr>\n",
       "    <tr>\n",
       "      <th>1</th>\n",
       "      <td>accordion</td>\n",
       "      <td>ITM</td>\n",
       "      <td>legend</td>\n",
       "    </tr>\n",
       "    <tr>\n",
       "      <th>2</th>\n",
       "      <td>guitar</td>\n",
       "      <td>old-time</td>\n",
       "      <td>decent</td>\n",
       "    </tr>\n",
       "    <tr>\n",
       "      <th>3</th>\n",
       "      <td>guitar</td>\n",
       "      <td>ITM</td>\n",
       "      <td>decent</td>\n",
       "    </tr>\n",
       "    <tr>\n",
       "      <th>4</th>\n",
       "      <td>guitar</td>\n",
       "      <td>blues</td>\n",
       "      <td>legend</td>\n",
       "    </tr>\n",
       "    <tr>\n",
       "      <th>5</th>\n",
       "      <td>bodhrán</td>\n",
       "      <td>ITM</td>\n",
       "      <td>legend</td>\n",
       "    </tr>\n",
       "    <tr>\n",
       "      <th>6</th>\n",
       "      <td>accordion</td>\n",
       "      <td>ITM</td>\n",
       "      <td>decent</td>\n",
       "    </tr>\n",
       "    <tr>\n",
       "      <th>7</th>\n",
       "      <td>flute</td>\n",
       "      <td>ITM</td>\n",
       "      <td>legend</td>\n",
       "    </tr>\n",
       "    <tr>\n",
       "      <th>8</th>\n",
       "      <td>bodhrán</td>\n",
       "      <td>ITM</td>\n",
       "      <td>decent</td>\n",
       "    </tr>\n",
       "    <tr>\n",
       "      <th>9</th>\n",
       "      <td>fiddle</td>\n",
       "      <td>bluegrass</td>\n",
       "      <td>decent</td>\n",
       "    </tr>\n",
       "    <tr>\n",
       "      <th>10</th>\n",
       "      <td>accordion</td>\n",
       "      <td>ITM</td>\n",
       "      <td>decent</td>\n",
       "    </tr>\n",
       "    <tr>\n",
       "      <th>11</th>\n",
       "      <td>guitar</td>\n",
       "      <td>bluegrass</td>\n",
       "      <td>legend</td>\n",
       "    </tr>\n",
       "    <tr>\n",
       "      <th>12</th>\n",
       "      <td>guitar</td>\n",
       "      <td>blues</td>\n",
       "      <td>decent</td>\n",
       "    </tr>\n",
       "    <tr>\n",
       "      <th>13</th>\n",
       "      <td>accordion</td>\n",
       "      <td>ITM</td>\n",
       "      <td>decent</td>\n",
       "    </tr>\n",
       "    <tr>\n",
       "      <th>14</th>\n",
       "      <td>fiddle</td>\n",
       "      <td>bluegrass</td>\n",
       "      <td>legend</td>\n",
       "    </tr>\n",
       "    <tr>\n",
       "      <th>15</th>\n",
       "      <td>accordion</td>\n",
       "      <td>ITM</td>\n",
       "      <td>legend</td>\n",
       "    </tr>\n",
       "    <tr>\n",
       "      <th>16</th>\n",
       "      <td>uilleann_pipes</td>\n",
       "      <td>ITM</td>\n",
       "      <td>decent</td>\n",
       "    </tr>\n",
       "    <tr>\n",
       "      <th>17</th>\n",
       "      <td>accordion</td>\n",
       "      <td>ITM</td>\n",
       "      <td>legend</td>\n",
       "    </tr>\n",
       "    <tr>\n",
       "      <th>18</th>\n",
       "      <td>accordion</td>\n",
       "      <td>ITM</td>\n",
       "      <td>legend</td>\n",
       "    </tr>\n",
       "    <tr>\n",
       "      <th>19</th>\n",
       "      <td>accordion</td>\n",
       "      <td>ITM</td>\n",
       "      <td>decent</td>\n",
       "    </tr>\n",
       "  </tbody>\n",
       "</table>\n",
       "</div>"
      ],
      "text/plain": [
       "          instrument      genre ability\n",
       "muso                                   \n",
       "0             guitar      blues  decent\n",
       "1          accordion        ITM  legend\n",
       "2             guitar   old-time  decent\n",
       "3             guitar        ITM  decent\n",
       "4             guitar      blues  legend\n",
       "5            bodhrán        ITM  legend\n",
       "6          accordion        ITM  decent\n",
       "7              flute        ITM  legend\n",
       "8            bodhrán        ITM  decent\n",
       "9             fiddle  bluegrass  decent\n",
       "10         accordion        ITM  decent\n",
       "11            guitar  bluegrass  legend\n",
       "12            guitar      blues  decent\n",
       "13         accordion        ITM  decent\n",
       "14            fiddle  bluegrass  legend\n",
       "15         accordion        ITM  legend\n",
       "16    uilleann_pipes        ITM  decent\n",
       "17         accordion        ITM  legend\n",
       "18         accordion        ITM  legend\n",
       "19         accordion        ITM  decent"
      ]
     },
     "execution_count": 25,
     "metadata": {},
     "output_type": "execute_result"
    }
   ],
   "source": [
    "# add new column to table\n",
    "df['ability'] = ability.tolist()\n",
    "\n",
    "# have a look\n",
    "df.head(20)"
   ]
  },
  {
   "cell_type": "markdown",
   "id": "1ad8d7c7-27e5-409b-9e0a-08e57fcaddea",
   "metadata": {},
   "source": [
    "<br>\n",
    "\n",
    "5. **Age**  \n",
    "\n",
    "We're going to have 3 age-groups - whizz kids, grown-ups, and old-heads. The breakdown is going to be skewed towards the outer 2 ranges. Data type will be string."
   ]
  },
  {
   "cell_type": "code",
   "execution_count": 26,
   "id": "69a76964-011b-49fd-b42a-ce7b1a851acf",
   "metadata": {},
   "outputs": [],
   "source": [
    "# create the age_group variable\n",
    "age_group = ['whizz_kid', 'grown-up', 'old-head']"
   ]
  },
  {
   "cell_type": "code",
   "execution_count": 27,
   "id": "08519b51-7b6c-47ad-ae5e-e4f8a11275e5",
   "metadata": {},
   "outputs": [],
   "source": [
    "# create new list\n",
    "age_group = rng.choice(age_group, p=[0.4, 0.2, 0.4], size=y)"
   ]
  },
  {
   "cell_type": "code",
   "execution_count": 28,
   "id": "0bd5c66c-8665-472b-a853-74b3f3dbc092",
   "metadata": {},
   "outputs": [
    {
     "data": {
      "text/html": [
       "<div>\n",
       "<style scoped>\n",
       "    .dataframe tbody tr th:only-of-type {\n",
       "        vertical-align: middle;\n",
       "    }\n",
       "\n",
       "    .dataframe tbody tr th {\n",
       "        vertical-align: top;\n",
       "    }\n",
       "\n",
       "    .dataframe thead th {\n",
       "        text-align: right;\n",
       "    }\n",
       "</style>\n",
       "<table border=\"1\" class=\"dataframe\">\n",
       "  <thead>\n",
       "    <tr style=\"text-align: right;\">\n",
       "      <th></th>\n",
       "      <th>instrument</th>\n",
       "      <th>genre</th>\n",
       "      <th>ability</th>\n",
       "      <th>age_group</th>\n",
       "    </tr>\n",
       "    <tr>\n",
       "      <th>muso</th>\n",
       "      <th></th>\n",
       "      <th></th>\n",
       "      <th></th>\n",
       "      <th></th>\n",
       "    </tr>\n",
       "  </thead>\n",
       "  <tbody>\n",
       "    <tr>\n",
       "      <th>0</th>\n",
       "      <td>guitar</td>\n",
       "      <td>blues</td>\n",
       "      <td>decent</td>\n",
       "      <td>whizz_kid</td>\n",
       "    </tr>\n",
       "    <tr>\n",
       "      <th>1</th>\n",
       "      <td>accordion</td>\n",
       "      <td>ITM</td>\n",
       "      <td>legend</td>\n",
       "      <td>old-head</td>\n",
       "    </tr>\n",
       "    <tr>\n",
       "      <th>2</th>\n",
       "      <td>guitar</td>\n",
       "      <td>old-time</td>\n",
       "      <td>decent</td>\n",
       "      <td>old-head</td>\n",
       "    </tr>\n",
       "    <tr>\n",
       "      <th>3</th>\n",
       "      <td>guitar</td>\n",
       "      <td>ITM</td>\n",
       "      <td>decent</td>\n",
       "      <td>grown-up</td>\n",
       "    </tr>\n",
       "    <tr>\n",
       "      <th>4</th>\n",
       "      <td>guitar</td>\n",
       "      <td>blues</td>\n",
       "      <td>legend</td>\n",
       "      <td>whizz_kid</td>\n",
       "    </tr>\n",
       "    <tr>\n",
       "      <th>...</th>\n",
       "      <td>...</td>\n",
       "      <td>...</td>\n",
       "      <td>...</td>\n",
       "      <td>...</td>\n",
       "    </tr>\n",
       "    <tr>\n",
       "      <th>147</th>\n",
       "      <td>guitar</td>\n",
       "      <td>bluegrass</td>\n",
       "      <td>legend</td>\n",
       "      <td>old-head</td>\n",
       "    </tr>\n",
       "    <tr>\n",
       "      <th>148</th>\n",
       "      <td>guitar</td>\n",
       "      <td>blues</td>\n",
       "      <td>decent</td>\n",
       "      <td>whizz_kid</td>\n",
       "    </tr>\n",
       "    <tr>\n",
       "      <th>149</th>\n",
       "      <td>accordion</td>\n",
       "      <td>ITM</td>\n",
       "      <td>decent</td>\n",
       "      <td>grown-up</td>\n",
       "    </tr>\n",
       "    <tr>\n",
       "      <th>150</th>\n",
       "      <td>bass</td>\n",
       "      <td>blues</td>\n",
       "      <td>decent</td>\n",
       "      <td>whizz_kid</td>\n",
       "    </tr>\n",
       "    <tr>\n",
       "      <th>151</th>\n",
       "      <td>guitar</td>\n",
       "      <td>blues</td>\n",
       "      <td>decent</td>\n",
       "      <td>old-head</td>\n",
       "    </tr>\n",
       "  </tbody>\n",
       "</table>\n",
       "<p>152 rows × 4 columns</p>\n",
       "</div>"
      ],
      "text/plain": [
       "     instrument      genre ability  age_group\n",
       "muso                                         \n",
       "0        guitar      blues  decent  whizz_kid\n",
       "1     accordion        ITM  legend   old-head\n",
       "2        guitar   old-time  decent   old-head\n",
       "3        guitar        ITM  decent   grown-up\n",
       "4        guitar      blues  legend  whizz_kid\n",
       "...         ...        ...     ...        ...\n",
       "147      guitar  bluegrass  legend   old-head\n",
       "148      guitar      blues  decent  whizz_kid\n",
       "149   accordion        ITM  decent   grown-up\n",
       "150        bass      blues  decent  whizz_kid\n",
       "151      guitar      blues  decent   old-head\n",
       "\n",
       "[152 rows x 4 columns]"
      ]
     },
     "execution_count": 28,
     "metadata": {},
     "output_type": "execute_result"
    }
   ],
   "source": [
    "# add new column to dataframe\n",
    "df['age_group'] = age_group.tolist()\n",
    "\n",
    "# have a look\n",
    "df"
   ]
  },
  {
   "cell_type": "markdown",
   "id": "ff1acd04-f40b-4673-a811-64f035e606bf",
   "metadata": {},
   "source": [
    "<br>\n",
    "\n",
    "6. **Paid**  \n",
    "\n",
    "There are at least 3 musicians getting paid each night, one of whom is always a guitar player. There are 30 sessions and 152 musicians, so I need to pick 90 at random to get paid of which 30 need to be guitar players! There are only going to be 30 paid guitar players in total as there wouldn't be two guitarists getting paid on the same night, so I'll extract a random sample of 30 of guitar players. For the remaining 60 I'm going to choose the better ability musicians. Age isn't really a factor.  \n",
    "\n",
    "First we check how many guitarists we have in total:"
   ]
  },
  {
   "cell_type": "code",
   "execution_count": 29,
   "id": "b9a29092-1e4f-4895-9332-48a4142344ed",
   "metadata": {},
   "outputs": [
    {
     "data": {
      "text/plain": [
       "instrument    50\n",
       "genre         50\n",
       "ability       50\n",
       "age_group     50\n",
       "dtype: int64"
      ]
     },
     "execution_count": 29,
     "metadata": {},
     "output_type": "execute_result"
    }
   ],
   "source": [
    "# how many guitar players\n",
    "df[df['instrument']=='guitar'].count()"
   ]
  },
  {
   "cell_type": "markdown",
   "id": "bd409d5d-ee60-4d61-a52b-687ba0ea0881",
   "metadata": {},
   "source": [
    "We need to choose 30 of those to get paid. we use `.sample()` method for this and create a new dataframe with the result."
   ]
  },
  {
   "cell_type": "code",
   "execution_count": 30,
   "id": "96afae95-9f3f-4722-9e93-37ad519b5483",
   "metadata": {},
   "outputs": [],
   "source": [
    "# choose 30 guitarists and save in a new dataframe\n",
    "df1 = df[df['instrument']=='guitar'].sample(n = 30)\n",
    "\n",
    "# create new column with paid guitarists\n",
    "df1['paid'] = 'yes'"
   ]
  },
  {
   "cell_type": "markdown",
   "id": "515f2d0f-d79e-478e-8fff-f0b9ad18e884",
   "metadata": {},
   "source": [
    "We need to choose around 60 non-guitarists to get paid. We have a preference for legends and old-heads."
   ]
  },
  {
   "cell_type": "code",
   "execution_count": 31,
   "id": "9b8b3c14-bb09-404e-8fa9-b387c98324f5",
   "metadata": {
    "tags": []
   },
   "outputs": [
    {
     "name": "stdout",
     "output_type": "stream",
     "text": [
      "<class 'pandas.core.frame.DataFrame'>\n",
      "Int64Index: 65 entries, 1 to 146\n",
      "Data columns (total 4 columns):\n",
      " #   Column      Non-Null Count  Dtype \n",
      "---  ------      --------------  ----- \n",
      " 0   instrument  65 non-null     object\n",
      " 1   genre       65 non-null     object\n",
      " 2   ability     65 non-null     object\n",
      " 3   age_group   65 non-null     object\n",
      "dtypes: object(4)\n",
      "memory usage: 2.5+ KB\n"
     ]
    }
   ],
   "source": [
    "# create a new dataframe with just the non-guitarists\n",
    "df2 = df[df['instrument']!='guitar']\n",
    "\n",
    "# filter to leave only legends and old-heads\n",
    "df2 = df2[(df2['ability']=='legend') | (df2['age_group']=='old-head')]\n",
    "\n",
    "# have a look at the overview\n",
    "df2.info()"
   ]
  },
  {
   "cell_type": "markdown",
   "id": "8718b931-38ab-43f6-9c28-49adf658419c",
   "metadata": {},
   "source": [
    "Looks like we have enough to make this work so we label all of these musicians as 'paid'."
   ]
  },
  {
   "cell_type": "code",
   "execution_count": 32,
   "id": "ac420a52-3bc5-401f-ba8a-acb57c0f75ba",
   "metadata": {},
   "outputs": [],
   "source": [
    "# create a new column with paid and fill with 'yes'\n",
    "df2['paid'] = 'yes'"
   ]
  },
  {
   "cell_type": "code",
   "execution_count": 33,
   "id": "c2b8b721-8a4f-4344-9b0e-c9da3362d9cb",
   "metadata": {
    "tags": []
   },
   "outputs": [],
   "source": [
    "# fill in the paid column with Nan values\n",
    "df['paid'] = np.nan"
   ]
  },
  {
   "cell_type": "code",
   "execution_count": 34,
   "id": "8f40e8b6-b55d-4f76-88f4-9e7705fedfde",
   "metadata": {
    "tags": []
   },
   "outputs": [],
   "source": [
    "# combine the 3 dataframes\n",
    "dfNew = pd.concat([df, df1, df2], axis=0)"
   ]
  },
  {
   "cell_type": "code",
   "execution_count": 35,
   "id": "6b541d49-5c27-491e-b976-2f9804c95050",
   "metadata": {},
   "outputs": [],
   "source": [
    "# sort the dataframe\n",
    "df = dfNew.sort_values(by=['muso', 'paid'])"
   ]
  },
  {
   "cell_type": "code",
   "execution_count": 36,
   "id": "6761fda3-847f-4a8a-bd19-2ccef09afad1",
   "metadata": {},
   "outputs": [],
   "source": [
    "# drop duplicated rows\n",
    "df = df[~df.index.duplicated(keep='first')]"
   ]
  },
  {
   "cell_type": "code",
   "execution_count": 37,
   "id": "65efb123-caa1-46fb-a745-6669c80c52f1",
   "metadata": {},
   "outputs": [],
   "source": [
    "# fill in Nan values with 'no'\n",
    "df = df.fillna('no')"
   ]
  },
  {
   "cell_type": "code",
   "execution_count": 52,
   "id": "b90078db-fb5e-4df1-8729-3ef6d33f4051",
   "metadata": {},
   "outputs": [
    {
     "data": {
      "text/plain": [
       "yes    95\n",
       "no     57\n",
       "Name: paid, dtype: int64"
      ]
     },
     "execution_count": 52,
     "metadata": {},
     "output_type": "execute_result"
    }
   ],
   "source": [
    "# have a look at quantities of paid and non-paid\n",
    "df['paid'].value_counts()"
   ]
  },
  {
   "cell_type": "code",
   "execution_count": 39,
   "id": "4c8cb125-2071-48ae-8909-e8aeb5cce1a7",
   "metadata": {},
   "outputs": [
    {
     "data": {
      "text/html": [
       "<div>\n",
       "<style scoped>\n",
       "    .dataframe tbody tr th:only-of-type {\n",
       "        vertical-align: middle;\n",
       "    }\n",
       "\n",
       "    .dataframe tbody tr th {\n",
       "        vertical-align: top;\n",
       "    }\n",
       "\n",
       "    .dataframe thead th {\n",
       "        text-align: right;\n",
       "    }\n",
       "</style>\n",
       "<table border=\"1\" class=\"dataframe\">\n",
       "  <thead>\n",
       "    <tr style=\"text-align: right;\">\n",
       "      <th></th>\n",
       "      <th>instrument</th>\n",
       "      <th>genre</th>\n",
       "      <th>ability</th>\n",
       "      <th>age_group</th>\n",
       "      <th>paid</th>\n",
       "    </tr>\n",
       "    <tr>\n",
       "      <th>muso</th>\n",
       "      <th></th>\n",
       "      <th></th>\n",
       "      <th></th>\n",
       "      <th></th>\n",
       "      <th></th>\n",
       "    </tr>\n",
       "  </thead>\n",
       "  <tbody>\n",
       "    <tr>\n",
       "      <th>0</th>\n",
       "      <td>guitar</td>\n",
       "      <td>blues</td>\n",
       "      <td>decent</td>\n",
       "      <td>whizz_kid</td>\n",
       "      <td>no</td>\n",
       "    </tr>\n",
       "    <tr>\n",
       "      <th>1</th>\n",
       "      <td>accordion</td>\n",
       "      <td>ITM</td>\n",
       "      <td>legend</td>\n",
       "      <td>old-head</td>\n",
       "      <td>yes</td>\n",
       "    </tr>\n",
       "    <tr>\n",
       "      <th>2</th>\n",
       "      <td>guitar</td>\n",
       "      <td>old-time</td>\n",
       "      <td>decent</td>\n",
       "      <td>old-head</td>\n",
       "      <td>yes</td>\n",
       "    </tr>\n",
       "    <tr>\n",
       "      <th>3</th>\n",
       "      <td>guitar</td>\n",
       "      <td>ITM</td>\n",
       "      <td>decent</td>\n",
       "      <td>grown-up</td>\n",
       "      <td>yes</td>\n",
       "    </tr>\n",
       "    <tr>\n",
       "      <th>4</th>\n",
       "      <td>guitar</td>\n",
       "      <td>blues</td>\n",
       "      <td>legend</td>\n",
       "      <td>whizz_kid</td>\n",
       "      <td>no</td>\n",
       "    </tr>\n",
       "    <tr>\n",
       "      <th>5</th>\n",
       "      <td>bodhrán</td>\n",
       "      <td>ITM</td>\n",
       "      <td>legend</td>\n",
       "      <td>whizz_kid</td>\n",
       "      <td>yes</td>\n",
       "    </tr>\n",
       "    <tr>\n",
       "      <th>6</th>\n",
       "      <td>accordion</td>\n",
       "      <td>ITM</td>\n",
       "      <td>decent</td>\n",
       "      <td>whizz_kid</td>\n",
       "      <td>no</td>\n",
       "    </tr>\n",
       "    <tr>\n",
       "      <th>7</th>\n",
       "      <td>flute</td>\n",
       "      <td>ITM</td>\n",
       "      <td>legend</td>\n",
       "      <td>whizz_kid</td>\n",
       "      <td>yes</td>\n",
       "    </tr>\n",
       "    <tr>\n",
       "      <th>8</th>\n",
       "      <td>bodhrán</td>\n",
       "      <td>ITM</td>\n",
       "      <td>decent</td>\n",
       "      <td>old-head</td>\n",
       "      <td>yes</td>\n",
       "    </tr>\n",
       "    <tr>\n",
       "      <th>9</th>\n",
       "      <td>fiddle</td>\n",
       "      <td>bluegrass</td>\n",
       "      <td>decent</td>\n",
       "      <td>whizz_kid</td>\n",
       "      <td>no</td>\n",
       "    </tr>\n",
       "  </tbody>\n",
       "</table>\n",
       "</div>"
      ],
      "text/plain": [
       "     instrument      genre ability  age_group paid\n",
       "muso                                              \n",
       "0        guitar      blues  decent  whizz_kid   no\n",
       "1     accordion        ITM  legend   old-head  yes\n",
       "2        guitar   old-time  decent   old-head  yes\n",
       "3        guitar        ITM  decent   grown-up  yes\n",
       "4        guitar      blues  legend  whizz_kid   no\n",
       "5       bodhrán        ITM  legend  whizz_kid  yes\n",
       "6     accordion        ITM  decent  whizz_kid   no\n",
       "7         flute        ITM  legend  whizz_kid  yes\n",
       "8       bodhrán        ITM  decent   old-head  yes\n",
       "9        fiddle  bluegrass  decent  whizz_kid   no"
      ]
     },
     "execution_count": 39,
     "metadata": {},
     "output_type": "execute_result"
    }
   ],
   "source": [
    "# have a look\n",
    "df.head()"
   ]
  },
  {
   "cell_type": "code",
   "execution_count": 38,
   "id": "2141aa2c-decd-4e92-a453-93fe1b1d6194",
   "metadata": {},
   "outputs": [],
   "source": [
    "# save to csv\n",
    "df.to_csv('test1.csv')"
   ]
  },
  {
   "cell_type": "markdown",
   "id": "3bce4549-c240-4a82-bb50-c1d227943659",
   "metadata": {},
   "source": [
    "<br>\n",
    "\n",
    "7. **Gender**  \n",
    "\n",
    "Unfortunately the gender is way off the charts in this place! Maybe 20% women max! I can use the same code as for ability above and just skew it towards men. I'll also include 'other' - according to https://en.wikipedia.org/wiki/Intersex#Population_figures this makes up 0.02% to 0.05% of the world's population."
   ]
  },
  {
   "cell_type": "code",
   "execution_count": 40,
   "id": "83562784-3a10-480b-acd9-2f30ec72d1b1",
   "metadata": {},
   "outputs": [],
   "source": [
    "# create a list of genders\n",
    "genders = ['male', 'female', 'other']\n",
    "\n",
    "# choose a random list of genders\n",
    "gender = rng.choice(genders, y, p=[0.76, 0.2, 0.04])\n",
    "\n",
    "# create new gender column\n",
    "df['gender'] = gender.tolist()\n",
    "\n",
    "# have a look\n",
    "df.head()"
   ]
  },
  {
   "cell_type": "markdown",
   "id": "6a45d75f-65d5-4d99-8887-58158141f7b4",
   "metadata": {},
   "source": [
    "8. **Drink**  \n",
    "\n",
    "This is just a bit of fun and uses sweeping generalisations!\n",
    "Possibilities are:\n",
    "- Old musicians drink red wine and beamish\n",
    "- Trad musicians favour guinness.\n",
    "- Younger musicians drink craft beer and non-alcoholic alternatives.\n",
    "- Women prefer.... Dangerous territory!\n",
    "- Blues musicians drink budweiser\n",
    "- Mid-aged musicians might be evenly split between all of the drinks!\n",
    "- Paid musicians drink alcohol because it's generally free!\n",
    "\n",
    "I'm going to choose 5 groups and then divide the rest up randomly\n",
    "1. Older ITM musicians - Beamish\n",
    "2. Bluegrass banjo players - red wine\n",
    "3. Young blues musicians - craft beer\n",
    "4. middle-aged legend ITM musos - Murphys"
   ]
  },
  {
   "cell_type": "code",
   "execution_count": 42,
   "id": "768e5904-3504-47f6-af52-dd40729f2ae0",
   "metadata": {},
   "outputs": [],
   "source": [
    "# isolate groups\n",
    "# oldies\n",
    "noOldies = df[df['age_group']=='old-head']\n",
    "\n",
    "# old traddies\n",
    "oldTraddies = noOldies[noOldies['genre']=='ITM']\n",
    "\n",
    "bluegrass = df[df['genre']=='bluegrass']\n",
    "blueBanjos = bluegrass[bluegrass['instrument']=='banjo']\n",
    "\n",
    "noYoungies = df[df['age_group']=='whizz_kid']\n",
    "youngBlues = noYoungies[noYoungies['genre']=='blues']\n",
    "                        \n",
    "middlies = df[df['age_group']=='grown-up']\n",
    "middleLegend = middlies[middlies['ability']=='legend']\n",
    "middleITMLegend = middleLegend[middleLegend['genre']=='ITM']                "
   ]
  },
  {
   "cell_type": "code",
   "execution_count": 44,
   "id": "e86cb8db-ce7f-44f8-bc31-601ed332ca29",
   "metadata": {},
   "outputs": [],
   "source": [
    "# create a list of drinks\n",
    "drinks = ['beamish', 'guinness', 'murphys', 'other_draft', 'craft_beers', 'red_wine', 'spirits', \n",
    "          'cider', 'non-alco']"
   ]
  },
  {
   "cell_type": "code",
   "execution_count": 45,
   "id": "48df5d04-6240-4870-bf3e-760d79fef81a",
   "metadata": {},
   "outputs": [
    {
     "data": {
      "text/html": [
       "<div>\n",
       "<style scoped>\n",
       "    .dataframe tbody tr th:only-of-type {\n",
       "        vertical-align: middle;\n",
       "    }\n",
       "\n",
       "    .dataframe tbody tr th {\n",
       "        vertical-align: top;\n",
       "    }\n",
       "\n",
       "    .dataframe thead th {\n",
       "        text-align: right;\n",
       "    }\n",
       "</style>\n",
       "<table border=\"1\" class=\"dataframe\">\n",
       "  <thead>\n",
       "    <tr style=\"text-align: right;\">\n",
       "      <th></th>\n",
       "      <th>instrument</th>\n",
       "      <th>genre</th>\n",
       "      <th>ability</th>\n",
       "      <th>age_group</th>\n",
       "      <th>paid</th>\n",
       "      <th>gender</th>\n",
       "      <th>drink_of_choice</th>\n",
       "    </tr>\n",
       "    <tr>\n",
       "      <th>muso</th>\n",
       "      <th></th>\n",
       "      <th></th>\n",
       "      <th></th>\n",
       "      <th></th>\n",
       "      <th></th>\n",
       "      <th></th>\n",
       "      <th></th>\n",
       "    </tr>\n",
       "  </thead>\n",
       "  <tbody>\n",
       "    <tr>\n",
       "      <th>0</th>\n",
       "      <td>guitar</td>\n",
       "      <td>blues</td>\n",
       "      <td>decent</td>\n",
       "      <td>whizz_kid</td>\n",
       "      <td>no</td>\n",
       "      <td>male</td>\n",
       "      <td>craft_beer</td>\n",
       "    </tr>\n",
       "    <tr>\n",
       "      <th>1</th>\n",
       "      <td>accordion</td>\n",
       "      <td>ITM</td>\n",
       "      <td>legend</td>\n",
       "      <td>old-head</td>\n",
       "      <td>yes</td>\n",
       "      <td>male</td>\n",
       "      <td>beamish</td>\n",
       "    </tr>\n",
       "    <tr>\n",
       "      <th>2</th>\n",
       "      <td>guitar</td>\n",
       "      <td>old-time</td>\n",
       "      <td>decent</td>\n",
       "      <td>old-head</td>\n",
       "      <td>yes</td>\n",
       "      <td>male</td>\n",
       "      <td>NaN</td>\n",
       "    </tr>\n",
       "    <tr>\n",
       "      <th>3</th>\n",
       "      <td>guitar</td>\n",
       "      <td>ITM</td>\n",
       "      <td>decent</td>\n",
       "      <td>grown-up</td>\n",
       "      <td>yes</td>\n",
       "      <td>male</td>\n",
       "      <td>NaN</td>\n",
       "    </tr>\n",
       "    <tr>\n",
       "      <th>4</th>\n",
       "      <td>guitar</td>\n",
       "      <td>blues</td>\n",
       "      <td>legend</td>\n",
       "      <td>whizz_kid</td>\n",
       "      <td>no</td>\n",
       "      <td>male</td>\n",
       "      <td>craft_beer</td>\n",
       "    </tr>\n",
       "    <tr>\n",
       "      <th>5</th>\n",
       "      <td>bodhrán</td>\n",
       "      <td>ITM</td>\n",
       "      <td>legend</td>\n",
       "      <td>whizz_kid</td>\n",
       "      <td>yes</td>\n",
       "      <td>female</td>\n",
       "      <td>NaN</td>\n",
       "    </tr>\n",
       "    <tr>\n",
       "      <th>6</th>\n",
       "      <td>accordion</td>\n",
       "      <td>ITM</td>\n",
       "      <td>decent</td>\n",
       "      <td>whizz_kid</td>\n",
       "      <td>no</td>\n",
       "      <td>female</td>\n",
       "      <td>NaN</td>\n",
       "    </tr>\n",
       "    <tr>\n",
       "      <th>7</th>\n",
       "      <td>flute</td>\n",
       "      <td>ITM</td>\n",
       "      <td>legend</td>\n",
       "      <td>whizz_kid</td>\n",
       "      <td>yes</td>\n",
       "      <td>male</td>\n",
       "      <td>guinness</td>\n",
       "    </tr>\n",
       "    <tr>\n",
       "      <th>8</th>\n",
       "      <td>bodhrán</td>\n",
       "      <td>ITM</td>\n",
       "      <td>decent</td>\n",
       "      <td>old-head</td>\n",
       "      <td>yes</td>\n",
       "      <td>male</td>\n",
       "      <td>beamish</td>\n",
       "    </tr>\n",
       "    <tr>\n",
       "      <th>9</th>\n",
       "      <td>fiddle</td>\n",
       "      <td>bluegrass</td>\n",
       "      <td>decent</td>\n",
       "      <td>whizz_kid</td>\n",
       "      <td>no</td>\n",
       "      <td>female</td>\n",
       "      <td>NaN</td>\n",
       "    </tr>\n",
       "    <tr>\n",
       "      <th>10</th>\n",
       "      <td>accordion</td>\n",
       "      <td>ITM</td>\n",
       "      <td>decent</td>\n",
       "      <td>grown-up</td>\n",
       "      <td>no</td>\n",
       "      <td>male</td>\n",
       "      <td>NaN</td>\n",
       "    </tr>\n",
       "    <tr>\n",
       "      <th>11</th>\n",
       "      <td>guitar</td>\n",
       "      <td>bluegrass</td>\n",
       "      <td>legend</td>\n",
       "      <td>old-head</td>\n",
       "      <td>no</td>\n",
       "      <td>male</td>\n",
       "      <td>NaN</td>\n",
       "    </tr>\n",
       "    <tr>\n",
       "      <th>12</th>\n",
       "      <td>guitar</td>\n",
       "      <td>blues</td>\n",
       "      <td>decent</td>\n",
       "      <td>grown-up</td>\n",
       "      <td>yes</td>\n",
       "      <td>male</td>\n",
       "      <td>NaN</td>\n",
       "    </tr>\n",
       "    <tr>\n",
       "      <th>13</th>\n",
       "      <td>accordion</td>\n",
       "      <td>ITM</td>\n",
       "      <td>decent</td>\n",
       "      <td>whizz_kid</td>\n",
       "      <td>no</td>\n",
       "      <td>male</td>\n",
       "      <td>guinness</td>\n",
       "    </tr>\n",
       "    <tr>\n",
       "      <th>14</th>\n",
       "      <td>fiddle</td>\n",
       "      <td>bluegrass</td>\n",
       "      <td>legend</td>\n",
       "      <td>old-head</td>\n",
       "      <td>yes</td>\n",
       "      <td>male</td>\n",
       "      <td>NaN</td>\n",
       "    </tr>\n",
       "    <tr>\n",
       "      <th>15</th>\n",
       "      <td>accordion</td>\n",
       "      <td>ITM</td>\n",
       "      <td>legend</td>\n",
       "      <td>old-head</td>\n",
       "      <td>yes</td>\n",
       "      <td>female</td>\n",
       "      <td>beamish</td>\n",
       "    </tr>\n",
       "    <tr>\n",
       "      <th>16</th>\n",
       "      <td>uilleann_pipes</td>\n",
       "      <td>ITM</td>\n",
       "      <td>decent</td>\n",
       "      <td>old-head</td>\n",
       "      <td>yes</td>\n",
       "      <td>male</td>\n",
       "      <td>beamish</td>\n",
       "    </tr>\n",
       "    <tr>\n",
       "      <th>17</th>\n",
       "      <td>accordion</td>\n",
       "      <td>ITM</td>\n",
       "      <td>legend</td>\n",
       "      <td>whizz_kid</td>\n",
       "      <td>yes</td>\n",
       "      <td>male</td>\n",
       "      <td>guinness</td>\n",
       "    </tr>\n",
       "    <tr>\n",
       "      <th>18</th>\n",
       "      <td>accordion</td>\n",
       "      <td>ITM</td>\n",
       "      <td>legend</td>\n",
       "      <td>whizz_kid</td>\n",
       "      <td>yes</td>\n",
       "      <td>female</td>\n",
       "      <td>NaN</td>\n",
       "    </tr>\n",
       "    <tr>\n",
       "      <th>19</th>\n",
       "      <td>accordion</td>\n",
       "      <td>ITM</td>\n",
       "      <td>decent</td>\n",
       "      <td>old-head</td>\n",
       "      <td>yes</td>\n",
       "      <td>female</td>\n",
       "      <td>beamish</td>\n",
       "    </tr>\n",
       "  </tbody>\n",
       "</table>\n",
       "</div>"
      ],
      "text/plain": [
       "          instrument      genre ability  age_group paid  gender  \\\n",
       "muso                                                              \n",
       "0             guitar      blues  decent  whizz_kid   no    male   \n",
       "1          accordion        ITM  legend   old-head  yes    male   \n",
       "2             guitar   old-time  decent   old-head  yes    male   \n",
       "3             guitar        ITM  decent   grown-up  yes    male   \n",
       "4             guitar      blues  legend  whizz_kid   no    male   \n",
       "5            bodhrán        ITM  legend  whizz_kid  yes  female   \n",
       "6          accordion        ITM  decent  whizz_kid   no  female   \n",
       "7              flute        ITM  legend  whizz_kid  yes    male   \n",
       "8            bodhrán        ITM  decent   old-head  yes    male   \n",
       "9             fiddle  bluegrass  decent  whizz_kid   no  female   \n",
       "10         accordion        ITM  decent   grown-up   no    male   \n",
       "11            guitar  bluegrass  legend   old-head   no    male   \n",
       "12            guitar      blues  decent   grown-up  yes    male   \n",
       "13         accordion        ITM  decent  whizz_kid   no    male   \n",
       "14            fiddle  bluegrass  legend   old-head  yes    male   \n",
       "15         accordion        ITM  legend   old-head  yes  female   \n",
       "16    uilleann_pipes        ITM  decent   old-head  yes    male   \n",
       "17         accordion        ITM  legend  whizz_kid  yes    male   \n",
       "18         accordion        ITM  legend  whizz_kid  yes  female   \n",
       "19         accordion        ITM  decent   old-head  yes  female   \n",
       "\n",
       "     drink_of_choice  \n",
       "muso                  \n",
       "0         craft_beer  \n",
       "1            beamish  \n",
       "2                NaN  \n",
       "3                NaN  \n",
       "4         craft_beer  \n",
       "5                NaN  \n",
       "6                NaN  \n",
       "7           guinness  \n",
       "8            beamish  \n",
       "9                NaN  \n",
       "10               NaN  \n",
       "11               NaN  \n",
       "12               NaN  \n",
       "13          guinness  \n",
       "14               NaN  \n",
       "15           beamish  \n",
       "16           beamish  \n",
       "17          guinness  \n",
       "18               NaN  \n",
       "19           beamish  "
      ]
     },
     "execution_count": 45,
     "metadata": {},
     "output_type": "execute_result"
    }
   ],
   "source": [
    "# where age_group equals old-head, genre equals ITM, etc\n",
    "df.loc[(df['age_group'] == 'old-head') & (df['genre'] == 'ITM'), 'drink_of_choice'] = 'beamish' \n",
    "df.loc[(df['genre'] == 'bluegrass') & (df['instrument'] == 'banjo'), 'drink_of_choice'] = 'red_wine' \n",
    "df.loc[(df['age_group'] == 'whizz_kid') & (df['genre'] == 'blues'), 'drink_of_choice'] = 'craft_beer' \n",
    "df.loc[(df['age_group'] == 'grown-up') & (df['genre'] == 'ITM')\n",
    "       & (df['ability'] == 'legend'), 'drink_of_choice'] = 'murphys' \n",
    "df.loc[(df['age_group'] == 'whizz_kid') & (df['genre'] == 'ITM') & (df['gender'] == 'male')\n",
    "       , 'drink_of_choice'] = 'guinness' \n",
    "\n",
    "# have a look\n",
    "df.head(20)"
   ]
  },
  {
   "cell_type": "markdown",
   "id": "1445a720-5bbb-4192-9ba2-369b9579e583",
   "metadata": {},
   "source": [
    "We need now to fill in the `NaN` values. I'm going to do this with a random selection from the `drinks` list."
   ]
  },
  {
   "cell_type": "code",
   "execution_count": 46,
   "id": "c8bcc1e4-a975-44aa-beb4-ed5d6d2bc48d",
   "metadata": {},
   "outputs": [
    {
     "data": {
      "text/html": [
       "<div>\n",
       "<style scoped>\n",
       "    .dataframe tbody tr th:only-of-type {\n",
       "        vertical-align: middle;\n",
       "    }\n",
       "\n",
       "    .dataframe tbody tr th {\n",
       "        vertical-align: top;\n",
       "    }\n",
       "\n",
       "    .dataframe thead th {\n",
       "        text-align: right;\n",
       "    }\n",
       "</style>\n",
       "<table border=\"1\" class=\"dataframe\">\n",
       "  <thead>\n",
       "    <tr style=\"text-align: right;\">\n",
       "      <th></th>\n",
       "      <th>instrument</th>\n",
       "      <th>genre</th>\n",
       "      <th>ability</th>\n",
       "      <th>age_group</th>\n",
       "      <th>paid</th>\n",
       "      <th>gender</th>\n",
       "      <th>drink_of_choice</th>\n",
       "    </tr>\n",
       "    <tr>\n",
       "      <th>muso</th>\n",
       "      <th></th>\n",
       "      <th></th>\n",
       "      <th></th>\n",
       "      <th></th>\n",
       "      <th></th>\n",
       "      <th></th>\n",
       "      <th></th>\n",
       "    </tr>\n",
       "  </thead>\n",
       "  <tbody>\n",
       "    <tr>\n",
       "      <th>0</th>\n",
       "      <td>guitar</td>\n",
       "      <td>blues</td>\n",
       "      <td>decent</td>\n",
       "      <td>whizz_kid</td>\n",
       "      <td>no</td>\n",
       "      <td>male</td>\n",
       "      <td>craft_beer</td>\n",
       "    </tr>\n",
       "    <tr>\n",
       "      <th>1</th>\n",
       "      <td>accordion</td>\n",
       "      <td>ITM</td>\n",
       "      <td>legend</td>\n",
       "      <td>old-head</td>\n",
       "      <td>yes</td>\n",
       "      <td>male</td>\n",
       "      <td>beamish</td>\n",
       "    </tr>\n",
       "    <tr>\n",
       "      <th>2</th>\n",
       "      <td>guitar</td>\n",
       "      <td>old-time</td>\n",
       "      <td>decent</td>\n",
       "      <td>old-head</td>\n",
       "      <td>yes</td>\n",
       "      <td>male</td>\n",
       "      <td>other_draft</td>\n",
       "    </tr>\n",
       "    <tr>\n",
       "      <th>3</th>\n",
       "      <td>guitar</td>\n",
       "      <td>ITM</td>\n",
       "      <td>decent</td>\n",
       "      <td>grown-up</td>\n",
       "      <td>yes</td>\n",
       "      <td>male</td>\n",
       "      <td>beamish</td>\n",
       "    </tr>\n",
       "    <tr>\n",
       "      <th>4</th>\n",
       "      <td>guitar</td>\n",
       "      <td>blues</td>\n",
       "      <td>legend</td>\n",
       "      <td>whizz_kid</td>\n",
       "      <td>no</td>\n",
       "      <td>male</td>\n",
       "      <td>craft_beer</td>\n",
       "    </tr>\n",
       "    <tr>\n",
       "      <th>...</th>\n",
       "      <td>...</td>\n",
       "      <td>...</td>\n",
       "      <td>...</td>\n",
       "      <td>...</td>\n",
       "      <td>...</td>\n",
       "      <td>...</td>\n",
       "      <td>...</td>\n",
       "    </tr>\n",
       "    <tr>\n",
       "      <th>147</th>\n",
       "      <td>guitar</td>\n",
       "      <td>bluegrass</td>\n",
       "      <td>legend</td>\n",
       "      <td>old-head</td>\n",
       "      <td>yes</td>\n",
       "      <td>male</td>\n",
       "      <td>beamish</td>\n",
       "    </tr>\n",
       "    <tr>\n",
       "      <th>148</th>\n",
       "      <td>guitar</td>\n",
       "      <td>blues</td>\n",
       "      <td>decent</td>\n",
       "      <td>whizz_kid</td>\n",
       "      <td>no</td>\n",
       "      <td>male</td>\n",
       "      <td>craft_beer</td>\n",
       "    </tr>\n",
       "    <tr>\n",
       "      <th>149</th>\n",
       "      <td>accordion</td>\n",
       "      <td>ITM</td>\n",
       "      <td>decent</td>\n",
       "      <td>grown-up</td>\n",
       "      <td>no</td>\n",
       "      <td>male</td>\n",
       "      <td>red_wine</td>\n",
       "    </tr>\n",
       "    <tr>\n",
       "      <th>150</th>\n",
       "      <td>bass</td>\n",
       "      <td>blues</td>\n",
       "      <td>decent</td>\n",
       "      <td>whizz_kid</td>\n",
       "      <td>no</td>\n",
       "      <td>female</td>\n",
       "      <td>craft_beer</td>\n",
       "    </tr>\n",
       "    <tr>\n",
       "      <th>151</th>\n",
       "      <td>guitar</td>\n",
       "      <td>blues</td>\n",
       "      <td>decent</td>\n",
       "      <td>old-head</td>\n",
       "      <td>no</td>\n",
       "      <td>female</td>\n",
       "      <td>other_draft</td>\n",
       "    </tr>\n",
       "  </tbody>\n",
       "</table>\n",
       "<p>152 rows × 7 columns</p>\n",
       "</div>"
      ],
      "text/plain": [
       "     instrument      genre ability  age_group paid  gender drink_of_choice\n",
       "muso                                                                      \n",
       "0        guitar      blues  decent  whizz_kid   no    male      craft_beer\n",
       "1     accordion        ITM  legend   old-head  yes    male         beamish\n",
       "2        guitar   old-time  decent   old-head  yes    male     other_draft\n",
       "3        guitar        ITM  decent   grown-up  yes    male         beamish\n",
       "4        guitar      blues  legend  whizz_kid   no    male      craft_beer\n",
       "...         ...        ...     ...        ...  ...     ...             ...\n",
       "147      guitar  bluegrass  legend   old-head  yes    male         beamish\n",
       "148      guitar      blues  decent  whizz_kid   no    male      craft_beer\n",
       "149   accordion        ITM  decent   grown-up   no    male        red_wine\n",
       "150        bass      blues  decent  whizz_kid   no  female      craft_beer\n",
       "151      guitar      blues  decent   old-head   no  female     other_draft\n",
       "\n",
       "[152 rows x 7 columns]"
      ]
     },
     "execution_count": 46,
     "metadata": {},
     "output_type": "execute_result"
    }
   ],
   "source": [
    "# fill the NaN values with a random choice from the drinks list\n",
    "df['drink_of_choice'] = df['drink_of_choice'].fillna(pd.Series(np.random.choice(drinks, size=len(df.index))))\n",
    "\n",
    "df"
   ]
  },
  {
   "cell_type": "code",
   "execution_count": 47,
   "id": "11cefc4c-9291-4925-ab78-ba20cb7f5092",
   "metadata": {},
   "outputs": [
    {
     "data": {
      "text/plain": [
       "beamish        39\n",
       "guinness       33\n",
       "craft_beers    12\n",
       "cider          12\n",
       "craft_beer     11\n",
       "other_draft    11\n",
       "spirits        10\n",
       "murphys        10\n",
       "non-alco        8\n",
       "red_wine        6\n",
       "Name: drink_of_choice, dtype: int64"
      ]
     },
     "execution_count": 47,
     "metadata": {},
     "output_type": "execute_result"
    }
   ],
   "source": [
    "df['drink_of_choice'].value_counts()"
   ]
  },
  {
   "cell_type": "code",
   "execution_count": 48,
   "id": "68a331a9-63d6-4223-9b70-d4b9ac4f12d0",
   "metadata": {},
   "outputs": [],
   "source": [
    "df.to_csv('data/the_session_final.csv')"
   ]
  },
  {
   "cell_type": "code",
   "execution_count": 49,
   "id": "cc69350e-5221-478f-8bfb-7b619878e1d0",
   "metadata": {},
   "outputs": [],
   "source": [
    "# drinks = rng.choice(drinks, size=x)"
   ]
  },
  {
   "cell_type": "code",
   "execution_count": 50,
   "id": "198e4da4-f3b0-4641-9836-03280e55996b",
   "metadata": {
    "tags": []
   },
   "outputs": [],
   "source": [
    "# # save to csv\n",
    "# df.to_csv('data/the_session.csv')"
   ]
  },
  {
   "cell_type": "code",
   "execution_count": 51,
   "id": "6cbafaf5-afed-4550-bfda-e7b20c9dec07",
   "metadata": {},
   "outputs": [],
   "source": [
    "# df['drinks'] = drinks.tolist()\n",
    "# # df"
   ]
  },
  {
   "cell_type": "markdown",
   "id": "88330b45-f8a6-4fe9-9207-c19fdcee1dcb",
   "metadata": {},
   "source": [
    "<br>\n",
    "\n",
    "---\n",
    "\n",
    "## References\n",
    "\n",
    "https://www.geeksforgeeks.org/different-ways-to-create-pandas-dataframe/\n",
    "\n",
    "https://www.statology.org/add-numpy-array-to-pandas-dataframe/\n",
    "\n",
    "https://www.py4u.net/discuss/18951\n",
    "\n",
    "https://stackabuse.com/seaborn-bar-plot-tutorial-and-examples/\n",
    "\n",
    "http://seaborn.pydata.org/tutorial/categorical.html?highlight=bar%20plot\n",
    "\n",
    "https://stackoverflow.com/questions/10741346/numpy-most-efficient-frequency-counts-for-unique-values-in-an-array\n",
    "\n",
    "https://www.dataquest.io/blog/tutorial-add-column-pandas-dataframe-based-on-if-else-condition/\n",
    "\n",
    "https://stackoverflow.com/questions/65982695/insert-a-new-column-in-pandas-with-random-string-values\n",
    "\n",
    "https://pandas.pydata.org/pandas-docs/version/0.24.0rc1/api/generated/pandas.Series.to_numpy.html\n",
    "\n",
    "https://www.w3schools.com/python/ref_random_choices.asp\n",
    "\n",
    "https://www.kite.com/python/answers/how-to-convert-a-list-into-a-pandas-dataframe-in-python\n",
    "\n",
    "https://stackoverflow.com/questions/65762166/np-where-with-strings-and-multiple-conditions-to-create-a-new-column-in-excel\n",
    "\n",
    "https://datatofish.com/if-condition-in-pandas-dataframe/\n",
    "\n",
    "https://stackoverflow.com/questions/306400/how-can-i-randomly-select-an-item-from-a-list"
   ]
  },
  {
   "cell_type": "markdown",
   "id": "c79f4c2d-4338-4892-a9d0-ae570d640091",
   "metadata": {},
   "source": [
    "<br>\n",
    "\n",
    "---\n",
    "# END"
   ]
  },
  {
   "cell_type": "code",
   "execution_count": null,
   "id": "4a96c030-c5d6-416d-9a6e-aa3efbb7b76d",
   "metadata": {},
   "outputs": [],
   "source": []
  }
 ],
 "metadata": {
  "kernelspec": {
   "display_name": "Python 3 (ipykernel)",
   "language": "python",
   "name": "python3"
  },
  "language_info": {
   "codemirror_mode": {
    "name": "ipython",
    "version": 3
   },
   "file_extension": ".py",
   "mimetype": "text/x-python",
   "name": "python",
   "nbconvert_exporter": "python",
   "pygments_lexer": "ipython3",
   "version": "3.9.7"
  }
 },
 "nbformat": 4,
 "nbformat_minor": 5
}
