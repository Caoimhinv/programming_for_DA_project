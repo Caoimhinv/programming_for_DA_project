{
 "cells": [
  {
   "cell_type": "markdown",
   "id": "2112132a-f23b-4122-a7b2-4d954e99ae8d",
   "metadata": {},
   "source": [
    "# Programming for Data Analysis Project\n",
    "\n",
    "---"
   ]
  },
  {
   "cell_type": "markdown",
   "id": "f8039991-6dc3-4f8c-9235-b70b31f239f5",
   "metadata": {},
   "source": [
    "### Autumn/Winter 2021\n",
    "---"
   ]
  },
  {
   "cell_type": "markdown",
   "id": "0b62b085-e4e3-403d-b1c2-35fdcfa03937",
   "metadata": {},
   "source": [
    "<br>\n",
    "\n",
    "### The Session"
   ]
  },
  {
   "cell_type": "markdown",
   "id": "35addd14-a8e0-4bf9-9cc0-08cc6aef8093",
   "metadata": {},
   "source": [
    "The project brief stipulated we *\"create a data set by simulating a real-world phenomenon\"* It was further suggested we pick something that is of interest to us in our personal or professional life. I've decided to do something on traditional music sessions! I'm going to try and simulate a dataset based on the attendees at sessions in a given month in a particular pub in Cork city!\n",
    "I'll try to work out all of the variables, examine their properties, potential data types, and how they relate to each other. I'll then try and work out code to simulate a random dataset based on that information."
   ]
  },
  {
   "cell_type": "markdown",
   "id": "b83e47f7-6e19-4ce6-82d7-c951a863e812",
   "metadata": {},
   "source": [
    "![session1](images/session1.jpg)"
   ]
  },
  {
   "cell_type": "markdown",
   "id": "2680e759-83b0-4c26-a4e9-1df62066bca2",
   "metadata": {},
   "source": [
    "<br>\n",
    "\n",
    "#### Variables"
   ]
  },
  {
   "cell_type": "markdown",
   "id": "11c9ecc9-c476-4145-a002-743c746de6fc",
   "metadata": {},
   "source": [
    "1. The players  \n",
    "There can be anywhere between 3 and sometimes more than 10 musicians on any given night and this particular pub (pre-covid!) would usually have 7 sessions a week. So that's a monthly range of between 84 and 280+. The brief asks for \"at least one-hundred data points across at least four different variables\" - hopefully my simulation doesn't return a dataset close to 84!  \n",
    "The norm would be around 5 or 6 musicians. 3 is always the minimum, as they would be the paid hosts of the session. Sometimes there might be more than 10 for a party or special occasion. The datatype would have to be integer. This value could also serve as the index?"
   ]
  },
  {
   "cell_type": "markdown",
   "id": "7ef49461-f220-44ec-8c20-016cdb4cf4ec",
   "metadata": {},
   "source": [
    "2. The instruments  \n",
    "These can be anything from fiddle, accordion, guitar, flute, uilleann pipes, bodhrán, bouzouki, banjo, tin whistle, concertina, double bass, mandolin. Fiddle, accordion, and guitar would be the most common and there would nearly always be at least these three. I guess I create a list and write code to choose a number of them at random but specifying a much higher percentage chance for the 3 mentioned, and various degrees of lower percentages for the others. Other issues I could address are - there would never be more than 1 bodhrán or bouzouki. The datatype would be object (string pardon the pun!!) I can use `np.random.choice` to choose from an array and specify the percentage chance of each coming out.  \n",
    "```rng.choice(list_1, p=[0.1, 0.1, 0.1, 0.1, 0.1, 0.5], size=6)```"
   ]
  },
  {
   "cell_type": "markdown",
   "id": "424d4d95-cc20-4f9e-b1ca-66d4e3af908c",
   "metadata": {},
   "source": [
    "3. Genre  \n",
    "While the pub mostly has Irish traditional music (ITM), there are also sessions of bluegrass, old-time, and blues music. I could create an array and use `choice` again? Or code the genres as 1,2,3,4?"
   ]
  },
  {
   "cell_type": "markdown",
   "id": "64eacd94-c869-4f81-96d4-0c3c07946833",
   "metadata": {},
   "source": [
    "4. Ability  \n",
    "All of the musicians would be of differing ability levels. The hosts would normally be the most able. The guests can range from beginners just joining in, to experienced professional musicians passing through town. The pub in question is quite famous so there would be more of the latter. I guess I create an ability range from 1-10, again maybe normal distribution with a mean around 7? This would suggest a datatype of integer.  \n",
    "Or this could be categorical objects like 'beginner', 'intermediate', 'advanced'? Or even just intermediate and advanced as there wouldn't be many beginners at these sessions. So this could also be an array of 2/3 items? Or a boolean if just two?"
   ]
  },
  {
   "cell_type": "markdown",
   "id": "056a3aee-6c54-4ff4-a666-5dc437ccd64c",
   "metadata": {},
   "source": [
    "5. Age  \n",
    "The pub in question is over 21 and is regarded as an 'old man's pub'! Age isn't necessarily connected to ability but can be! I need to decide if this is relevent! The age range would be from 21 up to 80 I'd say. This would be equally spread out I think with possible spikes at either end of the spectrum - old heads and college kids! So data type of integer.  \n",
    "Could also be age ranges? In which case it would be a list - maybe college kids, grown-ups, old heads! Or age ranges?"
   ]
  },
  {
   "cell_type": "markdown",
   "id": "1a1cb13d-9521-4122-ac3b-a9c926d046f9",
   "metadata": {},
   "source": [
    "6. Repertoire  \n",
    "A top traditional musician would have a reportoire of hundreds if not thousands of tunes. However a top younger musicians mightn't have learnt that many tunes yet. Equally an intermediate older musician may have amassed a huge amount of tunes but not be great at playing them! So I guess repertoire could be a big range - maybe from 50 up to 2000? And would be directly related to age and possibly ability. Datatype integer? Or maybe range? i.e. 50-100, 100-200, 200-500, 500-1000, >1000? In which case an array?"
   ]
  },
  {
   "cell_type": "markdown",
   "id": "ca795996-771e-40da-8297-6433e60cf490",
   "metadata": {},
   "source": [
    "7. Paid  \n",
    "The session would always have at least 3 hosts who would be paid. It's most common for these to be the best ability-wise, biggest repertoire, and older (but not always!). The typical instruments would accordion, fiddle and guitar. This datatype would be boolean - True or False. For the genres outside of ITM more musicians may share the fee."
   ]
  },
  {
   "cell_type": "markdown",
   "id": "25e71cdd-0a39-42d3-ada4-2404bb7eb471",
   "metadata": {},
   "source": [
    "8. Drink  \n",
    "Just putting this in for the craic! The typical drinks might be Beamish, Guinness, Murphys, various lagers on tap, craft beers, red wine, spirits, water/soft drinks. The older hosts and musicians tend to drink Beamish and red wine! The younger craft beers and non-alcoholic drinks? I guess a list? Need to do a bit of research on the drinking habits of the other music genres maybe?"
   ]
  },
  {
   "cell_type": "markdown",
   "id": "39977c63-5bb4-4c00-9f58-ea8c36b15943",
   "metadata": {},
   "source": [
    "9. Night of the week  \n",
    "Another possibility! The midweek nights have less musicians - sometime just the hosts. While the weekends are always busier. The age profile would always be older during the week (retirees!) while the weekend would have a bigger range. There would also be more drinking at the weekend! I'll maybe create a list of the seven days and maybe another option for more than 1?"
   ]
  },
  {
   "cell_type": "markdown",
   "id": "780219a1-73a2-43bb-ac56-50015a5e9818",
   "metadata": {},
   "source": [
    "So what might be the point of all this? So like any dataset we could investiagte whether we could determine someones age from their music genre and drinking habits? Or determine their ability from instrument, repertoire and what night of the week they played!  \n",
    "This dataset assumes that each of the msucians only appears once which is not the case in reality! There is one particular musician who participates at multiple session in different genres each week!"
   ]
  },
  {
   "cell_type": "markdown",
   "id": "82396392-a31f-40f8-8d87-6bb1f41df29d",
   "metadata": {},
   "source": [
    "<br>\n",
    "\n",
    "#### Coding the variables"
   ]
  },
  {
   "cell_type": "markdown",
   "id": "9229d155-7a3e-49ba-8893-7c304ce728bb",
   "metadata": {},
   "source": [
    "We begin by importing the necessary python packages."
   ]
  },
  {
   "cell_type": "code",
   "execution_count": 1,
   "id": "6cb937d9-f05e-49b3-9362-8b3f8c2cbae1",
   "metadata": {},
   "outputs": [],
   "source": [
    "# numerical arrays\n",
    "import numpy as np\n",
    "\n",
    "# plotting\n",
    "import matplotlib.pyplot as plt\n",
    "\n",
    "# dataframes\n",
    "import pandas as pd\n",
    "\n",
    "import seaborn as sns\n",
    "\n",
    "from secrets import choice\n",
    "\n",
    "import random"
   ]
  },
  {
   "cell_type": "code",
   "execution_count": 2,
   "id": "fa6f568e-51f1-4d47-b2fc-d35cfdd1ff32",
   "metadata": {},
   "outputs": [],
   "source": [
    "# set global style for seaborn plots\n",
    "sns.set_style(\"darkgrid\")\n",
    "\n",
    "# set global figure size\n",
    "plt.rcParams[\"figure.figsize\"] = (15,10)"
   ]
  },
  {
   "cell_type": "markdown",
   "id": "577573ff-0ce0-4acd-91ca-1d84823423c5",
   "metadata": {},
   "source": [
    "1. **The players**  \n",
    "We'll decide that the month is December so that's 31 days and 31 sessions. The range for sessions is 3-10, so we could create an array of 31 values between those 2 parameters. We use numpy.random to create a random number generator and then create the array. \n",
    "I can change the '31;' parameter to change the month. Maybe give that as an option to the user? I can also change or remove the seed to give a different result each time."
   ]
  },
  {
   "cell_type": "code",
   "execution_count": 3,
   "id": "c16098b0-11ac-4a33-9b6a-244a00c62047",
   "metadata": {},
   "outputs": [],
   "source": [
    "# create a random number generator with seed\n",
    "rng = np.random.default_rng(42)\n",
    "\n",
    "# create an array of 31 numbers between 3 and 11 (non-inclusive)\n",
    "x = rng.integers(3, 11, 31)"
   ]
  },
  {
   "cell_type": "markdown",
   "id": "3497a9da-d8aa-431a-9efb-9de00403de3c",
   "metadata": {},
   "source": [
    "Let's have a look"
   ]
  },
  {
   "cell_type": "code",
   "execution_count": 4,
   "id": "b771d16b-0383-4b5c-a2ea-702e40c4588a",
   "metadata": {},
   "outputs": [
    {
     "data": {
      "text/plain": [
       "<AxesSubplot:>"
      ]
     },
     "execution_count": 4,
     "metadata": {},
     "output_type": "execute_result"
    },
    {
     "data": {
      "image/png": "[encoded data removed]",
      "text/plain": [
       "<Figure size 1080x720 with 1 Axes>"
      ]
     },
     "metadata": {},
     "output_type": "display_data"
    }
   ],
   "source": [
    "# add up the frequency of each unique value\n",
    "unique, counts = np.unique(x, return_counts=True)\n",
    "\n",
    "# plots the results\n",
    "sns.barplot(x = unique, y = counts)"
   ]
  },
  {
   "cell_type": "markdown",
   "id": "c57e9aa2-0752-47a7-be37-ff1d09e19e5c",
   "metadata": {},
   "source": [
    "This doesn't reallty work as I want the average to be around 5/6. There certainly aren't going to be that many sessions with 9 people. I need to find a normal distribution I think with a mean around 5. And with integers! The following code from https://www.py4u.net/discuss/18951 maybe?  \n",
    "Code from https://stackoverflow.com/questions/55806118/remove-elements-from-numpy-array-smaller-than-1 suggest a way to remove values less than 3 from the array."
   ]
  },
  {
   "cell_type": "code",
   "execution_count": 5,
   "id": "c0a8dab5-6129-45b7-9f6c-f7cfb56c8658",
   "metadata": {},
   "outputs": [
    {
     "data": {
      "image/png": "[encoded data removed]",
      "text/plain": [
       "<Figure size 1080x720 with 1 Axes>"
      ]
     },
     "metadata": {},
     "output_type": "display_data"
    }
   ],
   "source": [
    "# sets mean, standard deviation and size of array\n",
    "randomNums = rng.normal(loc=5, scale=3, size=31)\n",
    "\n",
    "# rounds the values\n",
    "randomInts = np.round(randomNums)\n",
    "\n",
    "# removes values lower than 3\n",
    "randomInts1 = randomInts[(randomInts > 2)]\n",
    "\n",
    "# add up the frequency of each unique value\n",
    "unique, counts = np.unique(randomInts1, return_counts=True)\n",
    "\n",
    "# plots the results\n",
    "sns.barplot(x = unique, y = counts)\n",
    "\n",
    "# adds up the results\n",
    "x = randomInts1.sum()"
   ]
  },
  {
   "cell_type": "code",
   "execution_count": 6,
   "id": "1f8b1dbe-f4a9-43c9-95c1-417b6f3f320c",
   "metadata": {},
   "outputs": [
    {
     "data": {
      "text/plain": [
       "166"
      ]
     },
     "execution_count": 6,
     "metadata": {},
     "output_type": "execute_result"
    }
   ],
   "source": [
    "# adds up the results\n",
    "x = int(randomInts1.sum())\n",
    "x"
   ]
  },
  {
   "cell_type": "markdown",
   "id": "fb29ecfc-b80c-4e76-ae3d-fe1d94d71f43",
   "metadata": {},
   "source": [
    "We need to turn this total into the first column of the dataframe, and the index?"
   ]
  },
  {
   "cell_type": "code",
   "execution_count": 7,
   "id": "517283c9-7e2c-40b1-92d6-851b42b58787",
   "metadata": {
    "scrolled": true,
    "tags": []
   },
   "outputs": [],
   "source": [
    "# create numPy array using x as upper limit\n",
    "data = np.arange(x)"
   ]
  },
  {
   "cell_type": "code",
   "execution_count": 8,
   "id": "9d284538-79d4-4616-a05d-66807451477a",
   "metadata": {},
   "outputs": [
    {
     "data": {
      "text/html": [
       "<div>\n",
       "<style scoped>\n",
       "    .dataframe tbody tr th:only-of-type {\n",
       "        vertical-align: middle;\n",
       "    }\n",
       "\n",
       "    .dataframe tbody tr th {\n",
       "        vertical-align: top;\n",
       "    }\n",
       "\n",
       "    .dataframe thead th {\n",
       "        text-align: right;\n",
       "    }\n",
       "</style>\n",
       "<table border=\"1\" class=\"dataframe\">\n",
       "  <thead>\n",
       "    <tr style=\"text-align: right;\">\n",
       "      <th></th>\n",
       "      <th>muso</th>\n",
       "    </tr>\n",
       "  </thead>\n",
       "  <tbody>\n",
       "    <tr>\n",
       "      <th>0</th>\n",
       "      <td>0</td>\n",
       "    </tr>\n",
       "    <tr>\n",
       "      <th>1</th>\n",
       "      <td>1</td>\n",
       "    </tr>\n",
       "    <tr>\n",
       "      <th>2</th>\n",
       "      <td>2</td>\n",
       "    </tr>\n",
       "    <tr>\n",
       "      <th>3</th>\n",
       "      <td>3</td>\n",
       "    </tr>\n",
       "    <tr>\n",
       "      <th>4</th>\n",
       "      <td>4</td>\n",
       "    </tr>\n",
       "  </tbody>\n",
       "</table>\n",
       "</div>"
      ],
      "text/plain": [
       "   muso\n",
       "0     0\n",
       "1     1\n",
       "2     2\n",
       "3     3\n",
       "4     4"
      ]
     },
     "execution_count": 8,
     "metadata": {},
     "output_type": "execute_result"
    }
   ],
   "source": [
    "# turn it into a dataframe\n",
    "df = pd.DataFrame(data, columns = ['muso'])\n",
    "\n",
    "# have a look\n",
    "df.head()"
   ]
  },
  {
   "cell_type": "markdown",
   "id": "1d5eeca1-63f8-43e2-81e0-9d7580e9922f",
   "metadata": {},
   "source": [
    "2. **The instruments**  \n",
    "We need to create a list of the instuments first. I don't think we need to set parameters yet - we'll just give each instrument a percentage chance based on what I think is most likely."
   ]
  },
  {
   "cell_type": "code",
   "execution_count": 9,
   "id": "1060f001-8e4e-4d92-bb5c-637111398e8c",
   "metadata": {},
   "outputs": [],
   "source": [
    "# create a list of instruments\n",
    "instrs = ['accordion', 'fiddle', 'guitar', 'flute', 'uilleann_pipes', 'concertina', 'bodhrán',\n",
    "        'mandolin', 'bass', 'banjo', 'drums', 'keyboard']"
   ]
  },
  {
   "cell_type": "code",
   "execution_count": 10,
   "id": "03e1c863-0cd0-4cb2-93de-d5a441e3cb24",
   "metadata": {
    "scrolled": true,
    "tags": []
   },
   "outputs": [],
   "source": [
    "# we can pass in the probability for each item favoring one over the others\n",
    "instrs = rng.choice(instrs, p=[0.15, 0.25, 0.3, 0.04, 0.03, 0.01, 0.025, 0.05, 0.05, 0.045, 0.03, 0.02], size=x)"
   ]
  },
  {
   "cell_type": "code",
   "execution_count": 11,
   "id": "d787e8c2-ee48-46cc-9875-9bd8962d59d9",
   "metadata": {},
   "outputs": [
    {
     "data": {
      "text/html": [
       "<div>\n",
       "<style scoped>\n",
       "    .dataframe tbody tr th:only-of-type {\n",
       "        vertical-align: middle;\n",
       "    }\n",
       "\n",
       "    .dataframe tbody tr th {\n",
       "        vertical-align: top;\n",
       "    }\n",
       "\n",
       "    .dataframe thead th {\n",
       "        text-align: right;\n",
       "    }\n",
       "</style>\n",
       "<table border=\"1\" class=\"dataframe\">\n",
       "  <thead>\n",
       "    <tr style=\"text-align: right;\">\n",
       "      <th></th>\n",
       "      <th>muso</th>\n",
       "      <th>instrument</th>\n",
       "    </tr>\n",
       "  </thead>\n",
       "  <tbody>\n",
       "    <tr>\n",
       "      <th>0</th>\n",
       "      <td>0</td>\n",
       "      <td>accordion</td>\n",
       "    </tr>\n",
       "    <tr>\n",
       "      <th>1</th>\n",
       "      <td>1</td>\n",
       "      <td>fiddle</td>\n",
       "    </tr>\n",
       "    <tr>\n",
       "      <th>2</th>\n",
       "      <td>2</td>\n",
       "      <td>accordion</td>\n",
       "    </tr>\n",
       "    <tr>\n",
       "      <th>3</th>\n",
       "      <td>3</td>\n",
       "      <td>bodhrán</td>\n",
       "    </tr>\n",
       "    <tr>\n",
       "      <th>4</th>\n",
       "      <td>4</td>\n",
       "      <td>guitar</td>\n",
       "    </tr>\n",
       "    <tr>\n",
       "      <th>...</th>\n",
       "      <td>...</td>\n",
       "      <td>...</td>\n",
       "    </tr>\n",
       "    <tr>\n",
       "      <th>161</th>\n",
       "      <td>161</td>\n",
       "      <td>guitar</td>\n",
       "    </tr>\n",
       "    <tr>\n",
       "      <th>162</th>\n",
       "      <td>162</td>\n",
       "      <td>guitar</td>\n",
       "    </tr>\n",
       "    <tr>\n",
       "      <th>163</th>\n",
       "      <td>163</td>\n",
       "      <td>fiddle</td>\n",
       "    </tr>\n",
       "    <tr>\n",
       "      <th>164</th>\n",
       "      <td>164</td>\n",
       "      <td>bodhrán</td>\n",
       "    </tr>\n",
       "    <tr>\n",
       "      <th>165</th>\n",
       "      <td>165</td>\n",
       "      <td>flute</td>\n",
       "    </tr>\n",
       "  </tbody>\n",
       "</table>\n",
       "<p>166 rows × 2 columns</p>\n",
       "</div>"
      ],
      "text/plain": [
       "     muso instrument\n",
       "0       0  accordion\n",
       "1       1     fiddle\n",
       "2       2  accordion\n",
       "3       3    bodhrán\n",
       "4       4     guitar\n",
       "..    ...        ...\n",
       "161   161     guitar\n",
       "162   162     guitar\n",
       "163   163     fiddle\n",
       "164   164    bodhrán\n",
       "165   165      flute\n",
       "\n",
       "[166 rows x 2 columns]"
      ]
     },
     "execution_count": 11,
     "metadata": {},
     "output_type": "execute_result"
    }
   ],
   "source": [
    "df['instrument'] = instrs.tolist()\n",
    "df"
   ]
  },
  {
   "cell_type": "code",
   "execution_count": 12,
   "id": "9a754c86-0a34-4143-934a-2eed1c0c9028",
   "metadata": {},
   "outputs": [
    {
     "name": "stdout",
     "output_type": "stream",
     "text": [
      "<class 'pandas.core.frame.DataFrame'>\n",
      "RangeIndex: 166 entries, 0 to 165\n",
      "Data columns (total 2 columns):\n",
      " #   Column      Non-Null Count  Dtype \n",
      "---  ------      --------------  ----- \n",
      " 0   muso        166 non-null    int64 \n",
      " 1   instrument  166 non-null    object\n",
      "dtypes: int64(1), object(1)\n",
      "memory usage: 2.7+ KB\n"
     ]
    }
   ],
   "source": [
    "df.info()"
   ]
  },
  {
   "cell_type": "markdown",
   "id": "9e5c854b-0d8d-47ee-a081-25f105b04362",
   "metadata": {},
   "source": [
    "I'm going to set muso to be index"
   ]
  },
  {
   "cell_type": "code",
   "execution_count": 13,
   "id": "bb3ef3e5-329d-4ac3-8068-9174e357ca4a",
   "metadata": {},
   "outputs": [],
   "source": [
    "df.set_index(\"muso\", inplace = True)"
   ]
  },
  {
   "cell_type": "code",
   "execution_count": 14,
   "id": "7db8c961-eff7-47f7-8c61-ba1fc0b5fb78",
   "metadata": {},
   "outputs": [
    {
     "data": {
      "text/html": [
       "<div>\n",
       "<style scoped>\n",
       "    .dataframe tbody tr th:only-of-type {\n",
       "        vertical-align: middle;\n",
       "    }\n",
       "\n",
       "    .dataframe tbody tr th {\n",
       "        vertical-align: top;\n",
       "    }\n",
       "\n",
       "    .dataframe thead th {\n",
       "        text-align: right;\n",
       "    }\n",
       "</style>\n",
       "<table border=\"1\" class=\"dataframe\">\n",
       "  <thead>\n",
       "    <tr style=\"text-align: right;\">\n",
       "      <th></th>\n",
       "      <th>instrument</th>\n",
       "    </tr>\n",
       "    <tr>\n",
       "      <th>muso</th>\n",
       "      <th></th>\n",
       "    </tr>\n",
       "  </thead>\n",
       "  <tbody>\n",
       "    <tr>\n",
       "      <th>0</th>\n",
       "      <td>accordion</td>\n",
       "    </tr>\n",
       "    <tr>\n",
       "      <th>1</th>\n",
       "      <td>fiddle</td>\n",
       "    </tr>\n",
       "    <tr>\n",
       "      <th>2</th>\n",
       "      <td>accordion</td>\n",
       "    </tr>\n",
       "    <tr>\n",
       "      <th>3</th>\n",
       "      <td>bodhrán</td>\n",
       "    </tr>\n",
       "    <tr>\n",
       "      <th>4</th>\n",
       "      <td>guitar</td>\n",
       "    </tr>\n",
       "    <tr>\n",
       "      <th>...</th>\n",
       "      <td>...</td>\n",
       "    </tr>\n",
       "    <tr>\n",
       "      <th>161</th>\n",
       "      <td>guitar</td>\n",
       "    </tr>\n",
       "    <tr>\n",
       "      <th>162</th>\n",
       "      <td>guitar</td>\n",
       "    </tr>\n",
       "    <tr>\n",
       "      <th>163</th>\n",
       "      <td>fiddle</td>\n",
       "    </tr>\n",
       "    <tr>\n",
       "      <th>164</th>\n",
       "      <td>bodhrán</td>\n",
       "    </tr>\n",
       "    <tr>\n",
       "      <th>165</th>\n",
       "      <td>flute</td>\n",
       "    </tr>\n",
       "  </tbody>\n",
       "</table>\n",
       "<p>166 rows × 1 columns</p>\n",
       "</div>"
      ],
      "text/plain": [
       "     instrument\n",
       "muso           \n",
       "0     accordion\n",
       "1        fiddle\n",
       "2     accordion\n",
       "3       bodhrán\n",
       "4        guitar\n",
       "...         ...\n",
       "161      guitar\n",
       "162      guitar\n",
       "163      fiddle\n",
       "164     bodhrán\n",
       "165       flute\n",
       "\n",
       "[166 rows x 1 columns]"
      ]
     },
     "execution_count": 14,
     "metadata": {},
     "output_type": "execute_result"
    }
   ],
   "source": [
    "df"
   ]
  },
  {
   "cell_type": "code",
   "execution_count": 15,
   "id": "acc4ff6d-bd2a-4112-874d-0976aa130c22",
   "metadata": {},
   "outputs": [
    {
     "name": "stdout",
     "output_type": "stream",
     "text": [
      "instrument    54\n",
      "dtype: int64\n"
     ]
    }
   ],
   "source": [
    "noGuitars = df[df['instrument']=='guitar']\n",
    "noGuitars = noGuitars.count().astype(int)\n",
    "print(noGuitars)\n",
    "noFiddles = df[df['instrument']=='fiddle']\n",
    "noFiddles = noFiddles.count().astype(int)\n",
    "\n",
    "noBanjos = df[df['instrument']=='banjo']\n",
    "noBanjos = noBanjos.count().astype(int)\n",
    "\n",
    "noMandolins = df[df['instrument']=='mandolin']\n",
    "noMandolins = noMandolins.count().astype(int)\n",
    "\n",
    "noBasses = df[df['instrument']=='bass']\n",
    "noBasses = noBasses.count().astype(int)\n",
    "# noBasses\n",
    "\n",
    "# df['myvar'] = df['myvar']. astype(int)"
   ]
  },
  {
   "cell_type": "markdown",
   "id": "9a23d3a6-3013-414f-a16b-accef4232ed0",
   "metadata": {},
   "source": [
    "I need to save the number of each instrument to be used later."
   ]
  },
  {
   "cell_type": "markdown",
   "id": "de178a06-e897-4096-ba2e-6a5f7c867618",
   "metadata": {},
   "source": [
    "3. **The genre**  \n",
    "This is maybe slightly more complicated in that some instruments are only played in only 1 genre while others like guitar would play in all! The first bit of code fills in the ITM genre for those instruments which are exclusive to it.\n",
    "\n",
    "https://www.dataquest.io/blog/tutorial-add-column-pandas-dataframe-based-on-if-else-condition/\n",
    "\n",
    "https://stackoverflow.com/questions/65762166/np-where-with-strings-and-multiple-conditions-to-create-a-new-column-in-excel"
   ]
  },
  {
   "cell_type": "code",
   "execution_count": 16,
   "id": "16ca3946-ab51-4d77-bece-4c903b48f25c",
   "metadata": {},
   "outputs": [],
   "source": [
    "# # adds a new column with conditions\n",
    "# df['genre'] = np.where((df['instrument'] == 'accordion') | (df['instrument']== 'concertina') | \n",
    "#                        (df['instrument'] == 'uilleann_pipes') | (df['instrument']== 'flute') |\n",
    "#                        (df['instrument'] == 'bodhrán'), 'ITM', '')\n",
    "\n",
    "# df.head()"
   ]
  },
  {
   "cell_type": "code",
   "execution_count": 17,
   "id": "b47613a0-fe4e-4eb8-881d-a3956bc5fe3d",
   "metadata": {},
   "outputs": [],
   "source": [
    "# guitar\n",
    "genre1 = ['bluegrass', 'ITM', 'old-time', 'blues']\n",
    "\n",
    "# bass\n",
    "genre2 = ['bluegrass', 'old-time', 'blues']\n",
    "\n",
    "# banjo\n",
    "genre3 = ['bluegrass', 'ITM', 'old-time']\n",
    "\n",
    "# mandolin\n",
    "genre4 = ['bluegrass', 'old-time']\n",
    "\n",
    "# fiddle\n",
    "genre5 = ['ITM', 'bluegrass', 'old-time']\n",
    "\n",
    "rng2 = np.random.default_rng()\n",
    "\n",
    "# guitar = rng2.choice(genre, size=54)"
   ]
  },
  {
   "cell_type": "code",
   "execution_count": 18,
   "id": "f6a5c9cd-5ec0-42e0-a3e8-e9b6e0a92ff9",
   "metadata": {
    "scrolled": true,
    "tags": []
   },
   "outputs": [],
   "source": [
    "guitar = pd.Series(random.choices(genre1, weights=[1, 1, 1, 2], k=int(noGuitars)))\n",
    "guitar1 = guitar.to_numpy()\n",
    "\n",
    "bass = pd.Series(random.choices(genre2, weights=[1, 1, 1], k=int(noBasses)))\n",
    "bass1 = bass.to_numpy()\n",
    "\n",
    "banjo = pd.Series(random.choices(genre3, weights=[2, 1, 2], k=int(noBanjos)))\n",
    "banjo1 = banjo.to_numpy()\n",
    "\n",
    "mandolin = pd.Series(random.choices(genre4, weights=[1, 1], k=int(noMandolins)))\n",
    "mandolin1 = mandolin.to_numpy()\n",
    "\n",
    "fiddle = pd.Series(random.choices(genre5, weights=[2, 1, 1], k=int(noFiddles)))\n",
    "fiddle1 = fiddle.to_numpy()\n",
    "\n",
    "# pd.Series(random.choices(['yes','no'], weights=[1, 1], k=len(df), index=df.index)"
   ]
  },
  {
   "cell_type": "code",
   "execution_count": 19,
   "id": "e38bf551-188f-41f6-a3cc-283e21ff4991",
   "metadata": {},
   "outputs": [
    {
     "data": {
      "text/plain": [
       "array(['bluegrass', 'old-time', 'bluegrass', 'ITM', 'ITM', 'ITM', 'ITM',\n",
       "       'ITM', 'blues', 'old-time', 'old-time', 'blues', 'ITM',\n",
       "       'bluegrass', 'blues', 'ITM', 'bluegrass', 'blues', 'ITM',\n",
       "       'bluegrass', 'blues', 'old-time', 'blues', 'blues', 'bluegrass',\n",
       "       'blues', 'bluegrass', 'ITM', 'blues', 'ITM', 'blues', 'ITM', 'ITM',\n",
       "       'blues', 'ITM', 'blues', 'blues', 'blues', 'blues', 'blues',\n",
       "       'blues', 'old-time', 'old-time', 'ITM', 'bluegrass', 'old-time',\n",
       "       'blues', 'bluegrass', 'blues', 'blues', 'bluegrass', 'blues',\n",
       "       'old-time', 'blues'], dtype=object)"
      ]
     },
     "execution_count": 19,
     "metadata": {},
     "output_type": "execute_result"
    }
   ],
   "source": [
    "guitar1"
   ]
  },
  {
   "cell_type": "code",
   "execution_count": 20,
   "id": "5049a9e7-3de8-43d3-b5b2-b4a6a814ee86",
   "metadata": {},
   "outputs": [],
   "source": [
    "# df['genre1'] = np.where((df['instrument'] == 'guitar'), guitar1, '')\n",
    "# df.head(20)"
   ]
  },
  {
   "cell_type": "markdown",
   "id": "ec9584c6-09ce-4333-8604-2175b6880490",
   "metadata": {},
   "source": [
    "Need to work out how to do the others now! So the guitar has an equal chance of being in each genre - how do I do that?"
   ]
  },
  {
   "cell_type": "code",
   "execution_count": 21,
   "id": "09fcb192-cfcf-461c-be7e-6665eb871453",
   "metadata": {},
   "outputs": [],
   "source": [
    "# conditions = [\n",
    "#     (df['instrument'] == 'accordion') | (df['instrument'] == 'concertina') | \n",
    "#     (df['instrument'] == 'uilleann_pipes') | (df['instrument']== 'flute') |\n",
    "#     (df['instrument'] == 'bodhrán'), (df['instrument'] == 'drums') | \n",
    "#     (df['instrument'] == 'keyboard'), (df['instrument'] == 'mandolin'), \n",
    "#     (df['instrument'] == 'guitar'), (df['instrument'] == 'bass'), (df['instrument'] == 'banjo'), \n",
    "#     (df['instrument'] == 'mandolin')\n",
    "# ]\n",
    "\n",
    "# # create a list of the values we want to assign for each condition\n",
    "# values = ['ITM', 'blues', 'old-time' [guitar1], [bass1], [banjo1], [mandolin1]]\n",
    "\n",
    "# # create a new column and use np.select to assign values to it using our lists as arguments\n",
    "# df['genre'] = np.select(conditions, values)\n",
    "# df.head(20)"
   ]
  },
  {
   "cell_type": "markdown",
   "id": "5f27d18b-6315-4069-92b7-daf3b86a9c00",
   "metadata": {},
   "source": [
    "returns same genre for each guitar - I need it different for each?\n",
    "\n",
    "https://datatofish.com/if-condition-in-pandas-dataframe/"
   ]
  },
  {
   "cell_type": "code",
   "execution_count": 22,
   "id": "099bb12d-d5a6-4433-85d0-216de014a1b0",
   "metadata": {},
   "outputs": [],
   "source": [
    "# for i in df['instrument']:\n",
    "#     if 'instrument' == 'guitar':\n",
    "# #         df['genre'] = rng2.choice(genre)\n",
    "#         np.where(['instrument'] == 'guitar', guitar, '')\n",
    "# #         df['Birth'] = df1.apply(lambda x: random.randrange(1905,1995, len(df1)),axis=1)\n",
    "# #         df['genre'] = df.apply(lambda x: rng2.choice(genre), len(df),axis=1)\n",
    "    \n",
    "# df.head(20)"
   ]
  },
  {
   "cell_type": "code",
   "execution_count": 23,
   "id": "c55aa08d-c5ad-43c2-be16-52cb87855005",
   "metadata": {},
   "outputs": [],
   "source": [
    "# guitar = pd.Series(random.choices(genre, weights=[1, 1, 1, 1], k=8))\n",
    "# # pd.Series(random.choices(['yes','no'], weights=[1, 1], k=len(df), index=df.index)\n",
    "# guitar"
   ]
  },
  {
   "cell_type": "code",
   "execution_count": 24,
   "id": "18adb2df-41d5-4dff-82a7-889c0ed70a9a",
   "metadata": {},
   "outputs": [
    {
     "data": {
      "text/html": [
       "<div>\n",
       "<style scoped>\n",
       "    .dataframe tbody tr th:only-of-type {\n",
       "        vertical-align: middle;\n",
       "    }\n",
       "\n",
       "    .dataframe tbody tr th {\n",
       "        vertical-align: top;\n",
       "    }\n",
       "\n",
       "    .dataframe thead th {\n",
       "        text-align: right;\n",
       "    }\n",
       "</style>\n",
       "<table border=\"1\" class=\"dataframe\">\n",
       "  <thead>\n",
       "    <tr style=\"text-align: right;\">\n",
       "      <th></th>\n",
       "      <th>instrument</th>\n",
       "      <th>genre</th>\n",
       "    </tr>\n",
       "    <tr>\n",
       "      <th>muso</th>\n",
       "      <th></th>\n",
       "      <th></th>\n",
       "    </tr>\n",
       "  </thead>\n",
       "  <tbody>\n",
       "    <tr>\n",
       "      <th>0</th>\n",
       "      <td>accordion</td>\n",
       "      <td>ITM</td>\n",
       "    </tr>\n",
       "    <tr>\n",
       "      <th>1</th>\n",
       "      <td>fiddle</td>\n",
       "      <td>old-time</td>\n",
       "    </tr>\n",
       "    <tr>\n",
       "      <th>2</th>\n",
       "      <td>accordion</td>\n",
       "      <td>ITM</td>\n",
       "    </tr>\n",
       "    <tr>\n",
       "      <th>3</th>\n",
       "      <td>bodhrán</td>\n",
       "      <td>ITM</td>\n",
       "    </tr>\n",
       "    <tr>\n",
       "      <th>4</th>\n",
       "      <td>guitar</td>\n",
       "      <td>bluegrass</td>\n",
       "    </tr>\n",
       "    <tr>\n",
       "      <th>5</th>\n",
       "      <td>flute</td>\n",
       "      <td>ITM</td>\n",
       "    </tr>\n",
       "    <tr>\n",
       "      <th>6</th>\n",
       "      <td>bodhrán</td>\n",
       "      <td>ITM</td>\n",
       "    </tr>\n",
       "    <tr>\n",
       "      <th>7</th>\n",
       "      <td>guitar</td>\n",
       "      <td>old-time</td>\n",
       "    </tr>\n",
       "    <tr>\n",
       "      <th>8</th>\n",
       "      <td>guitar</td>\n",
       "      <td>bluegrass</td>\n",
       "    </tr>\n",
       "    <tr>\n",
       "      <th>9</th>\n",
       "      <td>accordion</td>\n",
       "      <td>ITM</td>\n",
       "    </tr>\n",
       "    <tr>\n",
       "      <th>10</th>\n",
       "      <td>accordion</td>\n",
       "      <td>ITM</td>\n",
       "    </tr>\n",
       "    <tr>\n",
       "      <th>11</th>\n",
       "      <td>guitar</td>\n",
       "      <td>ITM</td>\n",
       "    </tr>\n",
       "    <tr>\n",
       "      <th>12</th>\n",
       "      <td>guitar</td>\n",
       "      <td>ITM</td>\n",
       "    </tr>\n",
       "    <tr>\n",
       "      <th>13</th>\n",
       "      <td>guitar</td>\n",
       "      <td>ITM</td>\n",
       "    </tr>\n",
       "    <tr>\n",
       "      <th>14</th>\n",
       "      <td>uilleann_pipes</td>\n",
       "      <td>ITM</td>\n",
       "    </tr>\n",
       "    <tr>\n",
       "      <th>15</th>\n",
       "      <td>guitar</td>\n",
       "      <td>ITM</td>\n",
       "    </tr>\n",
       "    <tr>\n",
       "      <th>16</th>\n",
       "      <td>guitar</td>\n",
       "      <td>ITM</td>\n",
       "    </tr>\n",
       "    <tr>\n",
       "      <th>17</th>\n",
       "      <td>guitar</td>\n",
       "      <td>blues</td>\n",
       "    </tr>\n",
       "    <tr>\n",
       "      <th>18</th>\n",
       "      <td>fiddle</td>\n",
       "      <td>bluegrass</td>\n",
       "    </tr>\n",
       "    <tr>\n",
       "      <th>19</th>\n",
       "      <td>accordion</td>\n",
       "      <td>ITM</td>\n",
       "    </tr>\n",
       "  </tbody>\n",
       "</table>\n",
       "</div>"
      ],
      "text/plain": [
       "          instrument      genre\n",
       "muso                           \n",
       "0          accordion        ITM\n",
       "1             fiddle   old-time\n",
       "2          accordion        ITM\n",
       "3            bodhrán        ITM\n",
       "4             guitar  bluegrass\n",
       "5              flute        ITM\n",
       "6            bodhrán        ITM\n",
       "7             guitar   old-time\n",
       "8             guitar  bluegrass\n",
       "9          accordion        ITM\n",
       "10         accordion        ITM\n",
       "11            guitar        ITM\n",
       "12            guitar        ITM\n",
       "13            guitar        ITM\n",
       "14    uilleann_pipes        ITM\n",
       "15            guitar        ITM\n",
       "16            guitar        ITM\n",
       "17            guitar      blues\n",
       "18            fiddle  bluegrass\n",
       "19         accordion        ITM"
      ]
     },
     "execution_count": 24,
     "metadata": {},
     "output_type": "execute_result"
    }
   ],
   "source": [
    "df.loc[df['instrument'] == 'accordion', 'genre'] = 'ITM'  \n",
    "df.loc[df['instrument'] == 'concertina', 'genre'] = 'ITM'  \n",
    "df.loc[df['instrument'] == 'guitar', 'genre'] = guitar1\n",
    "df.loc[df['instrument'] == 'bass', 'genre'] = bass1  \n",
    "df.loc[df['instrument'] == 'mandolin', 'genre'] = mandolin1  \n",
    "df.loc[df['instrument'] == 'banjo', 'genre'] = banjo1\n",
    "df.loc[df['instrument'] == 'uilleann_pipes', 'genre'] = 'ITM'  \n",
    "df.loc[df['instrument'] == 'flute', 'genre'] = 'ITM'  \n",
    "df.loc[df['instrument'] == 'bodhrán', 'genre'] = 'ITM'\n",
    "df.loc[df['instrument'] == 'keyboard', 'genre'] = 'blues'\n",
    "df.loc[df['instrument'] == 'drums', 'genre'] = 'blues'\n",
    "df.loc[df['instrument'] == 'fiddle', 'genre'] = fiddle1\n",
    "\n",
    " \n",
    "df.head(20)"
   ]
  },
  {
   "cell_type": "markdown",
   "id": "1ff44e29-a9da-4d11-81fc-15fa5a93e963",
   "metadata": {},
   "source": [
    "\n",
    "https://stackoverflow.com/questions/306400/how-can-i-randomly-select-an-item-from-a-list"
   ]
  },
  {
   "cell_type": "code",
   "execution_count": 25,
   "id": "cb1b0de9-f704-4f73-9dec-a5bfcfe56398",
   "metadata": {},
   "outputs": [],
   "source": [
    "# rng2.choice(genre)"
   ]
  },
  {
   "cell_type": "code",
   "execution_count": 26,
   "id": "1d4079e6-41eb-42ee-b505-44eef9491e34",
   "metadata": {},
   "outputs": [],
   "source": [
    "# for i in df['instrument']:\n",
    "#     if 'instrument' == 'guitar':\n",
    "#         df['genre'] = rng2.choice(genre)\n",
    "# df.head(20)"
   ]
  },
  {
   "cell_type": "markdown",
   "id": "51d663b6-c259-4097-a8f7-d71559f4511c",
   "metadata": {},
   "source": [
    "4. **Ability**  \n",
    "For the minute I'm going to go with a binary approach - intermediate or advanced. In reality there are no beginners at these sessions. There would be a big range of abilities so I may revisit.  \n",
    "We'll try a binomial distribution this time. We're going to assume for now that the split between intermediate and advanced is 50/50."
   ]
  },
  {
   "cell_type": "code",
   "execution_count": 27,
   "id": "aee80164-ec56-4bf8-84fe-44f5f4685555",
   "metadata": {},
   "outputs": [],
   "source": [
    "# # creates an array of booleans\n",
    "# ability = rng.binomial(n=1, p=0.5, size=x)\n",
    "# ability"
   ]
  },
  {
   "cell_type": "markdown",
   "id": "d6eea8d0-6670-4559-8528-9b22dbaab4b1",
   "metadata": {},
   "source": [
    "We get a big list of booleans! Can I convert this back to strings? In the meantime I'll just add to the dataframe as is."
   ]
  },
  {
   "cell_type": "code",
   "execution_count": 28,
   "id": "82c46a6e-19c3-4a32-8347-e1a28ed985be",
   "metadata": {},
   "outputs": [],
   "source": [
    "# conditions = [\n",
    "#     (df['ability'] == TRUE), (df['ability'] == FALSE)\n",
    "# ]\n",
    "\n",
    "# # create a list of the values we want to assign for each condition\n",
    "# values = ['decent', 'wizz']\n",
    "\n",
    "# # create a new column and use np.select to assign values to it using our lists as arguments\n",
    "# df['ability'] = np.select(conditions, values)\n",
    "# df.head(20)"
   ]
  },
  {
   "cell_type": "code",
   "execution_count": 29,
   "id": "ff934b7e-8548-455d-9068-9ab79ef25fd1",
   "metadata": {},
   "outputs": [],
   "source": [
    "# for i in ability:\n",
    "#     if True:\n",
    "#         ability.append('whizz')\n",
    "#     else:\n",
    "#         ability.append('handy_enough')"
   ]
  },
  {
   "cell_type": "code",
   "execution_count": 30,
   "id": "92514733-be3b-4a11-a6ef-1c4fc947b3f1",
   "metadata": {},
   "outputs": [],
   "source": [
    "ability = pd.Series(random.choices(['decent','wizz'], weights=[1, 1], k=len(df)))"
   ]
  },
  {
   "cell_type": "code",
   "execution_count": 31,
   "id": "b7f6a2ee-73b6-4c1f-ae86-6df4ea752aed",
   "metadata": {},
   "outputs": [
    {
     "data": {
      "text/html": [
       "<div>\n",
       "<style scoped>\n",
       "    .dataframe tbody tr th:only-of-type {\n",
       "        vertical-align: middle;\n",
       "    }\n",
       "\n",
       "    .dataframe tbody tr th {\n",
       "        vertical-align: top;\n",
       "    }\n",
       "\n",
       "    .dataframe thead th {\n",
       "        text-align: right;\n",
       "    }\n",
       "</style>\n",
       "<table border=\"1\" class=\"dataframe\">\n",
       "  <thead>\n",
       "    <tr style=\"text-align: right;\">\n",
       "      <th></th>\n",
       "      <th>instrument</th>\n",
       "      <th>genre</th>\n",
       "      <th>ability</th>\n",
       "    </tr>\n",
       "    <tr>\n",
       "      <th>muso</th>\n",
       "      <th></th>\n",
       "      <th></th>\n",
       "      <th></th>\n",
       "    </tr>\n",
       "  </thead>\n",
       "  <tbody>\n",
       "    <tr>\n",
       "      <th>0</th>\n",
       "      <td>accordion</td>\n",
       "      <td>ITM</td>\n",
       "      <td>decent</td>\n",
       "    </tr>\n",
       "    <tr>\n",
       "      <th>1</th>\n",
       "      <td>fiddle</td>\n",
       "      <td>old-time</td>\n",
       "      <td>decent</td>\n",
       "    </tr>\n",
       "    <tr>\n",
       "      <th>2</th>\n",
       "      <td>accordion</td>\n",
       "      <td>ITM</td>\n",
       "      <td>wizz</td>\n",
       "    </tr>\n",
       "    <tr>\n",
       "      <th>3</th>\n",
       "      <td>bodhrán</td>\n",
       "      <td>ITM</td>\n",
       "      <td>decent</td>\n",
       "    </tr>\n",
       "    <tr>\n",
       "      <th>4</th>\n",
       "      <td>guitar</td>\n",
       "      <td>bluegrass</td>\n",
       "      <td>wizz</td>\n",
       "    </tr>\n",
       "    <tr>\n",
       "      <th>...</th>\n",
       "      <td>...</td>\n",
       "      <td>...</td>\n",
       "      <td>...</td>\n",
       "    </tr>\n",
       "    <tr>\n",
       "      <th>161</th>\n",
       "      <td>guitar</td>\n",
       "      <td>old-time</td>\n",
       "      <td>decent</td>\n",
       "    </tr>\n",
       "    <tr>\n",
       "      <th>162</th>\n",
       "      <td>guitar</td>\n",
       "      <td>blues</td>\n",
       "      <td>decent</td>\n",
       "    </tr>\n",
       "    <tr>\n",
       "      <th>163</th>\n",
       "      <td>fiddle</td>\n",
       "      <td>bluegrass</td>\n",
       "      <td>decent</td>\n",
       "    </tr>\n",
       "    <tr>\n",
       "      <th>164</th>\n",
       "      <td>bodhrán</td>\n",
       "      <td>ITM</td>\n",
       "      <td>wizz</td>\n",
       "    </tr>\n",
       "    <tr>\n",
       "      <th>165</th>\n",
       "      <td>flute</td>\n",
       "      <td>ITM</td>\n",
       "      <td>decent</td>\n",
       "    </tr>\n",
       "  </tbody>\n",
       "</table>\n",
       "<p>166 rows × 3 columns</p>\n",
       "</div>"
      ],
      "text/plain": [
       "     instrument      genre ability\n",
       "muso                              \n",
       "0     accordion        ITM  decent\n",
       "1        fiddle   old-time  decent\n",
       "2     accordion        ITM    wizz\n",
       "3       bodhrán        ITM  decent\n",
       "4        guitar  bluegrass    wizz\n",
       "...         ...        ...     ...\n",
       "161      guitar   old-time  decent\n",
       "162      guitar      blues  decent\n",
       "163      fiddle  bluegrass  decent\n",
       "164     bodhrán        ITM    wizz\n",
       "165       flute        ITM  decent\n",
       "\n",
       "[166 rows x 3 columns]"
      ]
     },
     "execution_count": 31,
     "metadata": {},
     "output_type": "execute_result"
    }
   ],
   "source": [
    "df['ability'] = ability.tolist()\n",
    "df"
   ]
  },
  {
   "cell_type": "markdown",
   "id": "1ad8d7c7-27e5-409b-9e0a-08e57fcaddea",
   "metadata": {},
   "source": [
    "5. **Age**  \n",
    "For now we're going to have 3 age-groups - college kids, grown-ups, old heads. The breakdown is going to be skewed towards the outer 2 ranges."
   ]
  },
  {
   "cell_type": "code",
   "execution_count": 32,
   "id": "69a76964-011b-49fd-b42a-ce7b1a851acf",
   "metadata": {},
   "outputs": [],
   "source": [
    "age_group = ['college_kid', 'so_called_grown-up', 'old-head']"
   ]
  },
  {
   "cell_type": "code",
   "execution_count": 33,
   "id": "08519b51-7b6c-47ad-ae5e-e4f8a11275e5",
   "metadata": {},
   "outputs": [],
   "source": [
    "age_group = rng.choice(age_group, p=[0.4, 0.2, 0.4], size=x)"
   ]
  },
  {
   "cell_type": "code",
   "execution_count": 34,
   "id": "0bd5c66c-8665-472b-a853-74b3f3dbc092",
   "metadata": {},
   "outputs": [
    {
     "data": {
      "text/html": [
       "<div>\n",
       "<style scoped>\n",
       "    .dataframe tbody tr th:only-of-type {\n",
       "        vertical-align: middle;\n",
       "    }\n",
       "\n",
       "    .dataframe tbody tr th {\n",
       "        vertical-align: top;\n",
       "    }\n",
       "\n",
       "    .dataframe thead th {\n",
       "        text-align: right;\n",
       "    }\n",
       "</style>\n",
       "<table border=\"1\" class=\"dataframe\">\n",
       "  <thead>\n",
       "    <tr style=\"text-align: right;\">\n",
       "      <th></th>\n",
       "      <th>instrument</th>\n",
       "      <th>genre</th>\n",
       "      <th>ability</th>\n",
       "      <th>age_group</th>\n",
       "    </tr>\n",
       "    <tr>\n",
       "      <th>muso</th>\n",
       "      <th></th>\n",
       "      <th></th>\n",
       "      <th></th>\n",
       "      <th></th>\n",
       "    </tr>\n",
       "  </thead>\n",
       "  <tbody>\n",
       "    <tr>\n",
       "      <th>0</th>\n",
       "      <td>accordion</td>\n",
       "      <td>ITM</td>\n",
       "      <td>decent</td>\n",
       "      <td>old-head</td>\n",
       "    </tr>\n",
       "    <tr>\n",
       "      <th>1</th>\n",
       "      <td>fiddle</td>\n",
       "      <td>old-time</td>\n",
       "      <td>decent</td>\n",
       "      <td>college_kid</td>\n",
       "    </tr>\n",
       "    <tr>\n",
       "      <th>2</th>\n",
       "      <td>accordion</td>\n",
       "      <td>ITM</td>\n",
       "      <td>wizz</td>\n",
       "      <td>college_kid</td>\n",
       "    </tr>\n",
       "    <tr>\n",
       "      <th>3</th>\n",
       "      <td>bodhrán</td>\n",
       "      <td>ITM</td>\n",
       "      <td>decent</td>\n",
       "      <td>old-head</td>\n",
       "    </tr>\n",
       "    <tr>\n",
       "      <th>4</th>\n",
       "      <td>guitar</td>\n",
       "      <td>bluegrass</td>\n",
       "      <td>wizz</td>\n",
       "      <td>college_kid</td>\n",
       "    </tr>\n",
       "    <tr>\n",
       "      <th>...</th>\n",
       "      <td>...</td>\n",
       "      <td>...</td>\n",
       "      <td>...</td>\n",
       "      <td>...</td>\n",
       "    </tr>\n",
       "    <tr>\n",
       "      <th>161</th>\n",
       "      <td>guitar</td>\n",
       "      <td>old-time</td>\n",
       "      <td>decent</td>\n",
       "      <td>old-head</td>\n",
       "    </tr>\n",
       "    <tr>\n",
       "      <th>162</th>\n",
       "      <td>guitar</td>\n",
       "      <td>blues</td>\n",
       "      <td>decent</td>\n",
       "      <td>so_called_grown-up</td>\n",
       "    </tr>\n",
       "    <tr>\n",
       "      <th>163</th>\n",
       "      <td>fiddle</td>\n",
       "      <td>bluegrass</td>\n",
       "      <td>decent</td>\n",
       "      <td>college_kid</td>\n",
       "    </tr>\n",
       "    <tr>\n",
       "      <th>164</th>\n",
       "      <td>bodhrán</td>\n",
       "      <td>ITM</td>\n",
       "      <td>wizz</td>\n",
       "      <td>old-head</td>\n",
       "    </tr>\n",
       "    <tr>\n",
       "      <th>165</th>\n",
       "      <td>flute</td>\n",
       "      <td>ITM</td>\n",
       "      <td>decent</td>\n",
       "      <td>so_called_grown-up</td>\n",
       "    </tr>\n",
       "  </tbody>\n",
       "</table>\n",
       "<p>166 rows × 4 columns</p>\n",
       "</div>"
      ],
      "text/plain": [
       "     instrument      genre ability           age_group\n",
       "muso                                                  \n",
       "0     accordion        ITM  decent            old-head\n",
       "1        fiddle   old-time  decent         college_kid\n",
       "2     accordion        ITM    wizz         college_kid\n",
       "3       bodhrán        ITM  decent            old-head\n",
       "4        guitar  bluegrass    wizz         college_kid\n",
       "...         ...        ...     ...                 ...\n",
       "161      guitar   old-time  decent            old-head\n",
       "162      guitar      blues  decent  so_called_grown-up\n",
       "163      fiddle  bluegrass  decent         college_kid\n",
       "164     bodhrán        ITM    wizz            old-head\n",
       "165       flute        ITM  decent  so_called_grown-up\n",
       "\n",
       "[166 rows x 4 columns]"
      ]
     },
     "execution_count": 34,
     "metadata": {},
     "output_type": "execute_result"
    }
   ],
   "source": [
    "df['age_group'] = age_group.tolist()\n",
    "df"
   ]
  },
  {
   "cell_type": "markdown",
   "id": "8096154a-ad39-4cfa-8178-22919f188dbd",
   "metadata": {},
   "source": [
    "6. **Repertoire**  \n",
    "We're going to create a list of ranges for this - 50-100, 100-200, 200-500, 500-1000, >1000. Typically the ITM musicians would have a much bigger repertoire, while the blues guys would have a much smaller repertoire. Something similar to the genre code above?"
   ]
  },
  {
   "cell_type": "code",
   "execution_count": 35,
   "id": "a1895ff2-e8ac-4ad6-8944-803044a5ab89",
   "metadata": {},
   "outputs": [],
   "source": [
    "# # create an array\n",
    "# reportoire = ['50-100', '100-200', '200-500', '500-1000', '>1000']\n",
    "\n",
    "# # create a random array with size x\n",
    "# reportoire = rng.choice(reportoire, p=[0.2, 0.2, 0.2, 0.2, 0.2], size=x)"
   ]
  },
  {
   "cell_type": "code",
   "execution_count": 36,
   "id": "f6bcc98b-ca86-4c4a-a0e0-e4424d520a5f",
   "metadata": {},
   "outputs": [],
   "source": [
    "# # add to dataframe\n",
    "# df['reportoire'] = reportoire.tolist()\n",
    "\n",
    "# # have a look\n",
    "# df"
   ]
  },
  {
   "cell_type": "markdown",
   "id": "ff1acd04-f40b-4673-a811-64f035e606bf",
   "metadata": {},
   "source": [
    "7. **Paid**  \n",
    "Only the 'wizz' musos would typically be paid. Need to work that out? In the meantime I'll leave it that 20% of all musos get paid"
   ]
  },
  {
   "cell_type": "code",
   "execution_count": 37,
   "id": "91e200fd-5fbd-4558-b4b7-8d98e8426229",
   "metadata": {},
   "outputs": [],
   "source": [
    "paid = rng.binomial(n=1, p=0.2, size=x)"
   ]
  },
  {
   "cell_type": "code",
   "execution_count": 38,
   "id": "7f13e1a8-bceb-4d24-aea3-5d63a64e8b7a",
   "metadata": {},
   "outputs": [
    {
     "data": {
      "text/html": [
       "<div>\n",
       "<style scoped>\n",
       "    .dataframe tbody tr th:only-of-type {\n",
       "        vertical-align: middle;\n",
       "    }\n",
       "\n",
       "    .dataframe tbody tr th {\n",
       "        vertical-align: top;\n",
       "    }\n",
       "\n",
       "    .dataframe thead th {\n",
       "        text-align: right;\n",
       "    }\n",
       "</style>\n",
       "<table border=\"1\" class=\"dataframe\">\n",
       "  <thead>\n",
       "    <tr style=\"text-align: right;\">\n",
       "      <th></th>\n",
       "      <th>instrument</th>\n",
       "      <th>genre</th>\n",
       "      <th>ability</th>\n",
       "      <th>age_group</th>\n",
       "      <th>paid</th>\n",
       "    </tr>\n",
       "    <tr>\n",
       "      <th>muso</th>\n",
       "      <th></th>\n",
       "      <th></th>\n",
       "      <th></th>\n",
       "      <th></th>\n",
       "      <th></th>\n",
       "    </tr>\n",
       "  </thead>\n",
       "  <tbody>\n",
       "    <tr>\n",
       "      <th>0</th>\n",
       "      <td>accordion</td>\n",
       "      <td>ITM</td>\n",
       "      <td>decent</td>\n",
       "      <td>old-head</td>\n",
       "      <td>1</td>\n",
       "    </tr>\n",
       "    <tr>\n",
       "      <th>1</th>\n",
       "      <td>fiddle</td>\n",
       "      <td>old-time</td>\n",
       "      <td>decent</td>\n",
       "      <td>college_kid</td>\n",
       "      <td>0</td>\n",
       "    </tr>\n",
       "    <tr>\n",
       "      <th>2</th>\n",
       "      <td>accordion</td>\n",
       "      <td>ITM</td>\n",
       "      <td>wizz</td>\n",
       "      <td>college_kid</td>\n",
       "      <td>0</td>\n",
       "    </tr>\n",
       "    <tr>\n",
       "      <th>3</th>\n",
       "      <td>bodhrán</td>\n",
       "      <td>ITM</td>\n",
       "      <td>decent</td>\n",
       "      <td>old-head</td>\n",
       "      <td>0</td>\n",
       "    </tr>\n",
       "    <tr>\n",
       "      <th>4</th>\n",
       "      <td>guitar</td>\n",
       "      <td>bluegrass</td>\n",
       "      <td>wizz</td>\n",
       "      <td>college_kid</td>\n",
       "      <td>1</td>\n",
       "    </tr>\n",
       "    <tr>\n",
       "      <th>...</th>\n",
       "      <td>...</td>\n",
       "      <td>...</td>\n",
       "      <td>...</td>\n",
       "      <td>...</td>\n",
       "      <td>...</td>\n",
       "    </tr>\n",
       "    <tr>\n",
       "      <th>161</th>\n",
       "      <td>guitar</td>\n",
       "      <td>old-time</td>\n",
       "      <td>decent</td>\n",
       "      <td>old-head</td>\n",
       "      <td>1</td>\n",
       "    </tr>\n",
       "    <tr>\n",
       "      <th>162</th>\n",
       "      <td>guitar</td>\n",
       "      <td>blues</td>\n",
       "      <td>decent</td>\n",
       "      <td>so_called_grown-up</td>\n",
       "      <td>1</td>\n",
       "    </tr>\n",
       "    <tr>\n",
       "      <th>163</th>\n",
       "      <td>fiddle</td>\n",
       "      <td>bluegrass</td>\n",
       "      <td>decent</td>\n",
       "      <td>college_kid</td>\n",
       "      <td>0</td>\n",
       "    </tr>\n",
       "    <tr>\n",
       "      <th>164</th>\n",
       "      <td>bodhrán</td>\n",
       "      <td>ITM</td>\n",
       "      <td>wizz</td>\n",
       "      <td>old-head</td>\n",
       "      <td>0</td>\n",
       "    </tr>\n",
       "    <tr>\n",
       "      <th>165</th>\n",
       "      <td>flute</td>\n",
       "      <td>ITM</td>\n",
       "      <td>decent</td>\n",
       "      <td>so_called_grown-up</td>\n",
       "      <td>0</td>\n",
       "    </tr>\n",
       "  </tbody>\n",
       "</table>\n",
       "<p>166 rows × 5 columns</p>\n",
       "</div>"
      ],
      "text/plain": [
       "     instrument      genre ability           age_group  paid\n",
       "muso                                                        \n",
       "0     accordion        ITM  decent            old-head     1\n",
       "1        fiddle   old-time  decent         college_kid     0\n",
       "2     accordion        ITM    wizz         college_kid     0\n",
       "3       bodhrán        ITM  decent            old-head     0\n",
       "4        guitar  bluegrass    wizz         college_kid     1\n",
       "...         ...        ...     ...                 ...   ...\n",
       "161      guitar   old-time  decent            old-head     1\n",
       "162      guitar      blues  decent  so_called_grown-up     1\n",
       "163      fiddle  bluegrass  decent         college_kid     0\n",
       "164     bodhrán        ITM    wizz            old-head     0\n",
       "165       flute        ITM  decent  so_called_grown-up     0\n",
       "\n",
       "[166 rows x 5 columns]"
      ]
     },
     "execution_count": 38,
     "metadata": {},
     "output_type": "execute_result"
    }
   ],
   "source": [
    "df['paid'] = paid.tolist()\n",
    "df"
   ]
  },
  {
   "cell_type": "markdown",
   "id": "6a45d75f-65d5-4d99-8887-58158141f7b4",
   "metadata": {},
   "source": [
    "8. **Drink**  \n",
    "Here we'll create a list of the common drinks and for now divide them up randomly for now. A bit of thought needs to go into this though. Older ITM and bluegrass musicians may favour Beamish. Younger college kids maybe craft beer or non-alcoholic stuff."
   ]
  },
  {
   "cell_type": "code",
   "execution_count": 39,
   "id": "5a547368-39d4-4755-a177-97d25e9fa5d8",
   "metadata": {},
   "outputs": [],
   "source": [
    "drinks = ['beamish', 'guinness', 'murphys', 'other_draft', 'craft_beers', 'red_wine', 'spirits', 'water/soft drinks']"
   ]
  },
  {
   "cell_type": "code",
   "execution_count": 40,
   "id": "cc69350e-5221-478f-8bfb-7b619878e1d0",
   "metadata": {},
   "outputs": [],
   "source": [
    "drinks = rng.choice(drinks, size=x)"
   ]
  },
  {
   "cell_type": "code",
   "execution_count": 41,
   "id": "6cbafaf5-afed-4550-bfda-e7b20c9dec07",
   "metadata": {},
   "outputs": [
    {
     "data": {
      "text/html": [
       "<div>\n",
       "<style scoped>\n",
       "    .dataframe tbody tr th:only-of-type {\n",
       "        vertical-align: middle;\n",
       "    }\n",
       "\n",
       "    .dataframe tbody tr th {\n",
       "        vertical-align: top;\n",
       "    }\n",
       "\n",
       "    .dataframe thead th {\n",
       "        text-align: right;\n",
       "    }\n",
       "</style>\n",
       "<table border=\"1\" class=\"dataframe\">\n",
       "  <thead>\n",
       "    <tr style=\"text-align: right;\">\n",
       "      <th></th>\n",
       "      <th>instrument</th>\n",
       "      <th>genre</th>\n",
       "      <th>ability</th>\n",
       "      <th>age_group</th>\n",
       "      <th>paid</th>\n",
       "      <th>drinks</th>\n",
       "    </tr>\n",
       "    <tr>\n",
       "      <th>muso</th>\n",
       "      <th></th>\n",
       "      <th></th>\n",
       "      <th></th>\n",
       "      <th></th>\n",
       "      <th></th>\n",
       "      <th></th>\n",
       "    </tr>\n",
       "  </thead>\n",
       "  <tbody>\n",
       "    <tr>\n",
       "      <th>0</th>\n",
       "      <td>accordion</td>\n",
       "      <td>ITM</td>\n",
       "      <td>decent</td>\n",
       "      <td>old-head</td>\n",
       "      <td>1</td>\n",
       "      <td>guinness</td>\n",
       "    </tr>\n",
       "    <tr>\n",
       "      <th>1</th>\n",
       "      <td>fiddle</td>\n",
       "      <td>old-time</td>\n",
       "      <td>decent</td>\n",
       "      <td>college_kid</td>\n",
       "      <td>0</td>\n",
       "      <td>murphys</td>\n",
       "    </tr>\n",
       "    <tr>\n",
       "      <th>2</th>\n",
       "      <td>accordion</td>\n",
       "      <td>ITM</td>\n",
       "      <td>wizz</td>\n",
       "      <td>college_kid</td>\n",
       "      <td>0</td>\n",
       "      <td>beamish</td>\n",
       "    </tr>\n",
       "    <tr>\n",
       "      <th>3</th>\n",
       "      <td>bodhrán</td>\n",
       "      <td>ITM</td>\n",
       "      <td>decent</td>\n",
       "      <td>old-head</td>\n",
       "      <td>0</td>\n",
       "      <td>spirits</td>\n",
       "    </tr>\n",
       "    <tr>\n",
       "      <th>4</th>\n",
       "      <td>guitar</td>\n",
       "      <td>bluegrass</td>\n",
       "      <td>wizz</td>\n",
       "      <td>college_kid</td>\n",
       "      <td>1</td>\n",
       "      <td>spirits</td>\n",
       "    </tr>\n",
       "    <tr>\n",
       "      <th>...</th>\n",
       "      <td>...</td>\n",
       "      <td>...</td>\n",
       "      <td>...</td>\n",
       "      <td>...</td>\n",
       "      <td>...</td>\n",
       "      <td>...</td>\n",
       "    </tr>\n",
       "    <tr>\n",
       "      <th>161</th>\n",
       "      <td>guitar</td>\n",
       "      <td>old-time</td>\n",
       "      <td>decent</td>\n",
       "      <td>old-head</td>\n",
       "      <td>1</td>\n",
       "      <td>red_wine</td>\n",
       "    </tr>\n",
       "    <tr>\n",
       "      <th>162</th>\n",
       "      <td>guitar</td>\n",
       "      <td>blues</td>\n",
       "      <td>decent</td>\n",
       "      <td>so_called_grown-up</td>\n",
       "      <td>1</td>\n",
       "      <td>beamish</td>\n",
       "    </tr>\n",
       "    <tr>\n",
       "      <th>163</th>\n",
       "      <td>fiddle</td>\n",
       "      <td>bluegrass</td>\n",
       "      <td>decent</td>\n",
       "      <td>college_kid</td>\n",
       "      <td>0</td>\n",
       "      <td>guinness</td>\n",
       "    </tr>\n",
       "    <tr>\n",
       "      <th>164</th>\n",
       "      <td>bodhrán</td>\n",
       "      <td>ITM</td>\n",
       "      <td>wizz</td>\n",
       "      <td>old-head</td>\n",
       "      <td>0</td>\n",
       "      <td>craft_beers</td>\n",
       "    </tr>\n",
       "    <tr>\n",
       "      <th>165</th>\n",
       "      <td>flute</td>\n",
       "      <td>ITM</td>\n",
       "      <td>decent</td>\n",
       "      <td>so_called_grown-up</td>\n",
       "      <td>0</td>\n",
       "      <td>craft_beers</td>\n",
       "    </tr>\n",
       "  </tbody>\n",
       "</table>\n",
       "<p>166 rows × 6 columns</p>\n",
       "</div>"
      ],
      "text/plain": [
       "     instrument      genre ability           age_group  paid       drinks\n",
       "muso                                                                     \n",
       "0     accordion        ITM  decent            old-head     1     guinness\n",
       "1        fiddle   old-time  decent         college_kid     0      murphys\n",
       "2     accordion        ITM    wizz         college_kid     0      beamish\n",
       "3       bodhrán        ITM  decent            old-head     0      spirits\n",
       "4        guitar  bluegrass    wizz         college_kid     1      spirits\n",
       "...         ...        ...     ...                 ...   ...          ...\n",
       "161      guitar   old-time  decent            old-head     1     red_wine\n",
       "162      guitar      blues  decent  so_called_grown-up     1      beamish\n",
       "163      fiddle  bluegrass  decent         college_kid     0     guinness\n",
       "164     bodhrán        ITM    wizz            old-head     0  craft_beers\n",
       "165       flute        ITM  decent  so_called_grown-up     0  craft_beers\n",
       "\n",
       "[166 rows x 6 columns]"
      ]
     },
     "execution_count": 41,
     "metadata": {},
     "output_type": "execute_result"
    }
   ],
   "source": [
    "df['drinks'] = drinks.tolist()\n",
    "df"
   ]
  },
  {
   "cell_type": "markdown",
   "id": "c1c04bb3-7976-4ec8-ba6b-0fdd13de047c",
   "metadata": {},
   "source": [
    "9. **Night of the week**  \n",
    "We create a list of the days plus an option for 'more than one'. I skew it in favour of the weekend nights maybe. I will revisit this as the blues, bluegrass and old-time are each on a particular night! Maybe weekend, midweek, or both would be more appropriate?"
   ]
  },
  {
   "cell_type": "code",
   "execution_count": 42,
   "id": "b5b058b3-a383-4b64-a8b4-143f21a8e2a8",
   "metadata": {},
   "outputs": [],
   "source": [
    "night = ['midweek', 'weekend', 'both']\n",
    "night = rng.choice(night, p=[0.4, 0.5, 0.1], size=len(df))"
   ]
  },
  {
   "cell_type": "code",
   "execution_count": 43,
   "id": "56371642-7fdd-482d-bdbc-9af5b268de05",
   "metadata": {},
   "outputs": [
    {
     "data": {
      "text/html": [
       "<div>\n",
       "<style scoped>\n",
       "    .dataframe tbody tr th:only-of-type {\n",
       "        vertical-align: middle;\n",
       "    }\n",
       "\n",
       "    .dataframe tbody tr th {\n",
       "        vertical-align: top;\n",
       "    }\n",
       "\n",
       "    .dataframe thead th {\n",
       "        text-align: right;\n",
       "    }\n",
       "</style>\n",
       "<table border=\"1\" class=\"dataframe\">\n",
       "  <thead>\n",
       "    <tr style=\"text-align: right;\">\n",
       "      <th></th>\n",
       "      <th>instrument</th>\n",
       "      <th>genre</th>\n",
       "      <th>ability</th>\n",
       "      <th>age_group</th>\n",
       "      <th>paid</th>\n",
       "      <th>drinks</th>\n",
       "      <th>night</th>\n",
       "    </tr>\n",
       "    <tr>\n",
       "      <th>muso</th>\n",
       "      <th></th>\n",
       "      <th></th>\n",
       "      <th></th>\n",
       "      <th></th>\n",
       "      <th></th>\n",
       "      <th></th>\n",
       "      <th></th>\n",
       "    </tr>\n",
       "  </thead>\n",
       "  <tbody>\n",
       "    <tr>\n",
       "      <th>0</th>\n",
       "      <td>accordion</td>\n",
       "      <td>ITM</td>\n",
       "      <td>decent</td>\n",
       "      <td>old-head</td>\n",
       "      <td>1</td>\n",
       "      <td>guinness</td>\n",
       "      <td>both</td>\n",
       "    </tr>\n",
       "    <tr>\n",
       "      <th>1</th>\n",
       "      <td>fiddle</td>\n",
       "      <td>old-time</td>\n",
       "      <td>decent</td>\n",
       "      <td>college_kid</td>\n",
       "      <td>0</td>\n",
       "      <td>murphys</td>\n",
       "      <td>weekend</td>\n",
       "    </tr>\n",
       "    <tr>\n",
       "      <th>2</th>\n",
       "      <td>accordion</td>\n",
       "      <td>ITM</td>\n",
       "      <td>wizz</td>\n",
       "      <td>college_kid</td>\n",
       "      <td>0</td>\n",
       "      <td>beamish</td>\n",
       "      <td>midweek</td>\n",
       "    </tr>\n",
       "    <tr>\n",
       "      <th>3</th>\n",
       "      <td>bodhrán</td>\n",
       "      <td>ITM</td>\n",
       "      <td>decent</td>\n",
       "      <td>old-head</td>\n",
       "      <td>0</td>\n",
       "      <td>spirits</td>\n",
       "      <td>midweek</td>\n",
       "    </tr>\n",
       "    <tr>\n",
       "      <th>4</th>\n",
       "      <td>guitar</td>\n",
       "      <td>bluegrass</td>\n",
       "      <td>wizz</td>\n",
       "      <td>college_kid</td>\n",
       "      <td>1</td>\n",
       "      <td>spirits</td>\n",
       "      <td>midweek</td>\n",
       "    </tr>\n",
       "    <tr>\n",
       "      <th>...</th>\n",
       "      <td>...</td>\n",
       "      <td>...</td>\n",
       "      <td>...</td>\n",
       "      <td>...</td>\n",
       "      <td>...</td>\n",
       "      <td>...</td>\n",
       "      <td>...</td>\n",
       "    </tr>\n",
       "    <tr>\n",
       "      <th>161</th>\n",
       "      <td>guitar</td>\n",
       "      <td>old-time</td>\n",
       "      <td>decent</td>\n",
       "      <td>old-head</td>\n",
       "      <td>1</td>\n",
       "      <td>red_wine</td>\n",
       "      <td>weekend</td>\n",
       "    </tr>\n",
       "    <tr>\n",
       "      <th>162</th>\n",
       "      <td>guitar</td>\n",
       "      <td>blues</td>\n",
       "      <td>decent</td>\n",
       "      <td>so_called_grown-up</td>\n",
       "      <td>1</td>\n",
       "      <td>beamish</td>\n",
       "      <td>midweek</td>\n",
       "    </tr>\n",
       "    <tr>\n",
       "      <th>163</th>\n",
       "      <td>fiddle</td>\n",
       "      <td>bluegrass</td>\n",
       "      <td>decent</td>\n",
       "      <td>college_kid</td>\n",
       "      <td>0</td>\n",
       "      <td>guinness</td>\n",
       "      <td>midweek</td>\n",
       "    </tr>\n",
       "    <tr>\n",
       "      <th>164</th>\n",
       "      <td>bodhrán</td>\n",
       "      <td>ITM</td>\n",
       "      <td>wizz</td>\n",
       "      <td>old-head</td>\n",
       "      <td>0</td>\n",
       "      <td>craft_beers</td>\n",
       "      <td>midweek</td>\n",
       "    </tr>\n",
       "    <tr>\n",
       "      <th>165</th>\n",
       "      <td>flute</td>\n",
       "      <td>ITM</td>\n",
       "      <td>decent</td>\n",
       "      <td>so_called_grown-up</td>\n",
       "      <td>0</td>\n",
       "      <td>craft_beers</td>\n",
       "      <td>midweek</td>\n",
       "    </tr>\n",
       "  </tbody>\n",
       "</table>\n",
       "<p>166 rows × 7 columns</p>\n",
       "</div>"
      ],
      "text/plain": [
       "     instrument      genre ability           age_group  paid       drinks  \\\n",
       "muso                                                                        \n",
       "0     accordion        ITM  decent            old-head     1     guinness   \n",
       "1        fiddle   old-time  decent         college_kid     0      murphys   \n",
       "2     accordion        ITM    wizz         college_kid     0      beamish   \n",
       "3       bodhrán        ITM  decent            old-head     0      spirits   \n",
       "4        guitar  bluegrass    wizz         college_kid     1      spirits   \n",
       "...         ...        ...     ...                 ...   ...          ...   \n",
       "161      guitar   old-time  decent            old-head     1     red_wine   \n",
       "162      guitar      blues  decent  so_called_grown-up     1      beamish   \n",
       "163      fiddle  bluegrass  decent         college_kid     0     guinness   \n",
       "164     bodhrán        ITM    wizz            old-head     0  craft_beers   \n",
       "165       flute        ITM  decent  so_called_grown-up     0  craft_beers   \n",
       "\n",
       "        night  \n",
       "muso           \n",
       "0        both  \n",
       "1     weekend  \n",
       "2     midweek  \n",
       "3     midweek  \n",
       "4     midweek  \n",
       "...       ...  \n",
       "161   weekend  \n",
       "162   midweek  \n",
       "163   midweek  \n",
       "164   midweek  \n",
       "165   midweek  \n",
       "\n",
       "[166 rows x 7 columns]"
      ]
     },
     "execution_count": 43,
     "metadata": {},
     "output_type": "execute_result"
    }
   ],
   "source": [
    "df['night'] = night.tolist()\n",
    "df"
   ]
  },
  {
   "cell_type": "markdown",
   "id": "3bce4549-c240-4a82-bb50-c1d227943659",
   "metadata": {},
   "source": [
    "10. **Gender**  \n",
    "Unfortunately the gender is way off the charts in this place! Maybe 20% women max! I can use the same code as for ability above and just skew it towards men."
   ]
  },
  {
   "cell_type": "code",
   "execution_count": 44,
   "id": "20a9e473-4fef-4db5-ba6e-8399a655477d",
   "metadata": {},
   "outputs": [],
   "source": [
    "gender = pd.Series(random.choices(['male','female'], weights=[5, 1], k=len(df)))"
   ]
  },
  {
   "cell_type": "code",
   "execution_count": 45,
   "id": "f5f97bbb-1d84-43f6-9cff-4e7f3330c592",
   "metadata": {},
   "outputs": [
    {
     "data": {
      "text/html": [
       "<div>\n",
       "<style scoped>\n",
       "    .dataframe tbody tr th:only-of-type {\n",
       "        vertical-align: middle;\n",
       "    }\n",
       "\n",
       "    .dataframe tbody tr th {\n",
       "        vertical-align: top;\n",
       "    }\n",
       "\n",
       "    .dataframe thead th {\n",
       "        text-align: right;\n",
       "    }\n",
       "</style>\n",
       "<table border=\"1\" class=\"dataframe\">\n",
       "  <thead>\n",
       "    <tr style=\"text-align: right;\">\n",
       "      <th></th>\n",
       "      <th>instrument</th>\n",
       "      <th>genre</th>\n",
       "      <th>ability</th>\n",
       "      <th>age_group</th>\n",
       "      <th>paid</th>\n",
       "      <th>drinks</th>\n",
       "      <th>night</th>\n",
       "      <th>gender</th>\n",
       "    </tr>\n",
       "    <tr>\n",
       "      <th>muso</th>\n",
       "      <th></th>\n",
       "      <th></th>\n",
       "      <th></th>\n",
       "      <th></th>\n",
       "      <th></th>\n",
       "      <th></th>\n",
       "      <th></th>\n",
       "      <th></th>\n",
       "    </tr>\n",
       "  </thead>\n",
       "  <tbody>\n",
       "    <tr>\n",
       "      <th>0</th>\n",
       "      <td>accordion</td>\n",
       "      <td>ITM</td>\n",
       "      <td>decent</td>\n",
       "      <td>old-head</td>\n",
       "      <td>1</td>\n",
       "      <td>guinness</td>\n",
       "      <td>both</td>\n",
       "      <td>male</td>\n",
       "    </tr>\n",
       "    <tr>\n",
       "      <th>1</th>\n",
       "      <td>fiddle</td>\n",
       "      <td>old-time</td>\n",
       "      <td>decent</td>\n",
       "      <td>college_kid</td>\n",
       "      <td>0</td>\n",
       "      <td>murphys</td>\n",
       "      <td>weekend</td>\n",
       "      <td>female</td>\n",
       "    </tr>\n",
       "    <tr>\n",
       "      <th>2</th>\n",
       "      <td>accordion</td>\n",
       "      <td>ITM</td>\n",
       "      <td>wizz</td>\n",
       "      <td>college_kid</td>\n",
       "      <td>0</td>\n",
       "      <td>beamish</td>\n",
       "      <td>midweek</td>\n",
       "      <td>male</td>\n",
       "    </tr>\n",
       "    <tr>\n",
       "      <th>3</th>\n",
       "      <td>bodhrán</td>\n",
       "      <td>ITM</td>\n",
       "      <td>decent</td>\n",
       "      <td>old-head</td>\n",
       "      <td>0</td>\n",
       "      <td>spirits</td>\n",
       "      <td>midweek</td>\n",
       "      <td>male</td>\n",
       "    </tr>\n",
       "    <tr>\n",
       "      <th>4</th>\n",
       "      <td>guitar</td>\n",
       "      <td>bluegrass</td>\n",
       "      <td>wizz</td>\n",
       "      <td>college_kid</td>\n",
       "      <td>1</td>\n",
       "      <td>spirits</td>\n",
       "      <td>midweek</td>\n",
       "      <td>male</td>\n",
       "    </tr>\n",
       "    <tr>\n",
       "      <th>...</th>\n",
       "      <td>...</td>\n",
       "      <td>...</td>\n",
       "      <td>...</td>\n",
       "      <td>...</td>\n",
       "      <td>...</td>\n",
       "      <td>...</td>\n",
       "      <td>...</td>\n",
       "      <td>...</td>\n",
       "    </tr>\n",
       "    <tr>\n",
       "      <th>161</th>\n",
       "      <td>guitar</td>\n",
       "      <td>old-time</td>\n",
       "      <td>decent</td>\n",
       "      <td>old-head</td>\n",
       "      <td>1</td>\n",
       "      <td>red_wine</td>\n",
       "      <td>weekend</td>\n",
       "      <td>male</td>\n",
       "    </tr>\n",
       "    <tr>\n",
       "      <th>162</th>\n",
       "      <td>guitar</td>\n",
       "      <td>blues</td>\n",
       "      <td>decent</td>\n",
       "      <td>so_called_grown-up</td>\n",
       "      <td>1</td>\n",
       "      <td>beamish</td>\n",
       "      <td>midweek</td>\n",
       "      <td>male</td>\n",
       "    </tr>\n",
       "    <tr>\n",
       "      <th>163</th>\n",
       "      <td>fiddle</td>\n",
       "      <td>bluegrass</td>\n",
       "      <td>decent</td>\n",
       "      <td>college_kid</td>\n",
       "      <td>0</td>\n",
       "      <td>guinness</td>\n",
       "      <td>midweek</td>\n",
       "      <td>male</td>\n",
       "    </tr>\n",
       "    <tr>\n",
       "      <th>164</th>\n",
       "      <td>bodhrán</td>\n",
       "      <td>ITM</td>\n",
       "      <td>wizz</td>\n",
       "      <td>old-head</td>\n",
       "      <td>0</td>\n",
       "      <td>craft_beers</td>\n",
       "      <td>midweek</td>\n",
       "      <td>male</td>\n",
       "    </tr>\n",
       "    <tr>\n",
       "      <th>165</th>\n",
       "      <td>flute</td>\n",
       "      <td>ITM</td>\n",
       "      <td>decent</td>\n",
       "      <td>so_called_grown-up</td>\n",
       "      <td>0</td>\n",
       "      <td>craft_beers</td>\n",
       "      <td>midweek</td>\n",
       "      <td>male</td>\n",
       "    </tr>\n",
       "  </tbody>\n",
       "</table>\n",
       "<p>166 rows × 8 columns</p>\n",
       "</div>"
      ],
      "text/plain": [
       "     instrument      genre ability           age_group  paid       drinks  \\\n",
       "muso                                                                        \n",
       "0     accordion        ITM  decent            old-head     1     guinness   \n",
       "1        fiddle   old-time  decent         college_kid     0      murphys   \n",
       "2     accordion        ITM    wizz         college_kid     0      beamish   \n",
       "3       bodhrán        ITM  decent            old-head     0      spirits   \n",
       "4        guitar  bluegrass    wizz         college_kid     1      spirits   \n",
       "...         ...        ...     ...                 ...   ...          ...   \n",
       "161      guitar   old-time  decent            old-head     1     red_wine   \n",
       "162      guitar      blues  decent  so_called_grown-up     1      beamish   \n",
       "163      fiddle  bluegrass  decent         college_kid     0     guinness   \n",
       "164     bodhrán        ITM    wizz            old-head     0  craft_beers   \n",
       "165       flute        ITM  decent  so_called_grown-up     0  craft_beers   \n",
       "\n",
       "        night  gender  \n",
       "muso                   \n",
       "0        both    male  \n",
       "1     weekend  female  \n",
       "2     midweek    male  \n",
       "3     midweek    male  \n",
       "4     midweek    male  \n",
       "...       ...     ...  \n",
       "161   weekend    male  \n",
       "162   midweek    male  \n",
       "163   midweek    male  \n",
       "164   midweek    male  \n",
       "165   midweek    male  \n",
       "\n",
       "[166 rows x 8 columns]"
      ]
     },
     "execution_count": 45,
     "metadata": {},
     "output_type": "execute_result"
    }
   ],
   "source": [
    "df['gender'] = gender.tolist()\n",
    "df"
   ]
  },
  {
   "cell_type": "code",
   "execution_count": 46,
   "id": "198e4da4-f3b0-4641-9836-03280e55996b",
   "metadata": {},
   "outputs": [],
   "source": [
    "# save to csv\n",
    "df.to_csv('the_session.csv')"
   ]
  },
  {
   "cell_type": "markdown",
   "id": "5241c618-ad34-4d8d-8266-52c9935d51cf",
   "metadata": {},
   "source": [
    "<br>\n",
    "\n",
    "---\n",
    "So far this is all completely random - just in case anyone is looking this far back!! 🤣\n",
    "\n",
    "Now I have a try and come up with some code to create and simulate the relationships between values."
   ]
  },
  {
   "cell_type": "markdown",
   "id": "88330b45-f8a6-4fe9-9207-c19fdcee1dcb",
   "metadata": {},
   "source": [
    "<br>\n",
    "---\n",
    "\n",
    "## References\n",
    "\n",
    "https://www.geeksforgeeks.org/different-ways-to-create-pandas-dataframe/\n",
    "\n",
    "https://www.statology.org/add-numpy-array-to-pandas-dataframe/"
   ]
  },
  {
   "cell_type": "markdown",
   "id": "c79f4c2d-4338-4892-a9d0-ae570d640091",
   "metadata": {},
   "source": [
    "<br>\n",
    "\n",
    "---\n",
    "# END"
   ]
  },
  {
   "cell_type": "code",
   "execution_count": null,
   "id": "4a96c030-c5d6-416d-9a6e-aa3efbb7b76d",
   "metadata": {},
   "outputs": [],
   "source": []
  }
 ],
 "metadata": {
  "kernelspec": {
   "display_name": "Python 3",
   "language": "python",
   "name": "python3"
  },
  "language_info": {
   "codemirror_mode": {
    "name": "ipython",
    "version": 3
   },
   "file_extension": ".py",
   "mimetype": "text/x-python",
   "name": "python",
   "nbconvert_exporter": "python",
   "pygments_lexer": "ipython3",
   "version": "3.8.8"
  }
 },
 "nbformat": 4,
 "nbformat_minor": 5
}
