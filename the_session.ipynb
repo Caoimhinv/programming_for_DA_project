{
 "cells": [
  {
   "cell_type": "markdown",
   "id": "2112132a-f23b-4122-a7b2-4d954e99ae8d",
   "metadata": {},
   "source": [
    "# Programming for Data Analysis Project\n",
    "\n",
    "---"
   ]
  },
  {
   "cell_type": "markdown",
   "id": "f8039991-6dc3-4f8c-9235-b70b31f239f5",
   "metadata": {},
   "source": [
    "### Autumn/Winter 2021\n",
    "---"
   ]
  },
  {
   "cell_type": "markdown",
   "id": "0b62b085-e4e3-403d-b1c2-35fdcfa03937",
   "metadata": {},
   "source": [
    "<br>\n",
    "\n",
    "### The Session"
   ]
  },
  {
   "cell_type": "markdown",
   "id": "35addd14-a8e0-4bf9-9cc0-08cc6aef8093",
   "metadata": {},
   "source": [
    "The project brief stipulated we *\"create a data set by simulating a real-world phenomenon\"* It was further suggested we pick something that is of interest to us in your personal or professional life. I've decided to do something on a traditional music session! I'm going to try and simulate a dataset based on an average session in a pub in Cork city - my local! 😁  \n",
    "I'll try to work out all of the variables, examine their properties, potential data types, and how they relate to each other. I'll then try and work out code to simulate a random dataset based on that information."
   ]
  },
  {
   "cell_type": "markdown",
   "id": "b83e47f7-6e19-4ce6-82d7-c951a863e812",
   "metadata": {},
   "source": [
    "![session1](images/session1.jpg)"
   ]
  },
  {
   "cell_type": "markdown",
   "id": "2680e759-83b0-4c26-a4e9-1df62066bca2",
   "metadata": {},
   "source": [
    "<br>\n",
    "\n",
    "#### Variables"
   ]
  },
  {
   "cell_type": "markdown",
   "id": "11c9ecc9-c476-4145-a002-743c746de6fc",
   "metadata": {},
   "source": [
    "1. The players  \n",
    "There can be anywhere between 3 and 10 musicians, but normally around 5 or 6. 3 is always the minimum, as they would be the paid hosts of the session. Sometimes there might be more than 10 for a party or special occasion. Possibly this could be normal distribution with a mean of 5 or 6? Maybe a lower cutoff at 3? Expermiment with the standard deviation that may occasionally allow more than 10? The datatype would obviously have to be integer. This value could also serve as the index?"
   ]
  },
  {
   "cell_type": "markdown",
   "id": "7ef49461-f220-44ec-8c20-016cdb4cf4ec",
   "metadata": {},
   "source": [
    "2. The intruments  \n",
    "These can be anything from fiddle, accordion, guitar, flute, uilleann pipes, bodhrán, bouzouki, banjo, tin whistle, concertina. Fiddle, accordion, and guitar would be the most common and there would nearly always be at least these three. I guess I create a list and write code to choose a number of them at random but specifying a much higher percentage chance for the 3 mentioned, and various degrees of lower percentages for the others. Other issues I could address are - there would never be more than 1 bodhrán or bouzouki. The datatype would be object (string pardon the pun!!) I can use `np.random.choice` to choose from a list and specify the percentage chance of each coming out.  \n",
    "```rng.choice(list_1, p=[0.1, 0.1, 0.1, 0.1, 0.1, 0.5], size=6)```"
   ]
  },
  {
   "cell_type": "markdown",
   "id": "64eacd94-c869-4f81-96d4-0c3c07946833",
   "metadata": {},
   "source": [
    "3. Ability  \n",
    "All of the musicians would be of differing ability levels. The hosts would normally be the most able. The guests can range from beginners just joining in, to experienced professional musicians passing through town. The pub in question is quite famous so there would be more of the latter. I guess I create an ability range from 1-10, again maybe normal distribution with a mean around 7? Datatype of integer.  \n",
    "Or this could be 'beginner', 'intermediate', 'advanced'? Or even just intermediate and advanced as there wouldn't be many beginners at these sessions. So this could also be a list of 2/3 items. Or a boolean if just two."
   ]
  },
  {
   "cell_type": "markdown",
   "id": "056a3aee-6c54-4ff4-a666-5dc437ccd64c",
   "metadata": {},
   "source": [
    "4. Age  \n",
    "The pub in question is over 21 and is regarded as an 'old man's pub'! Age isn't necessarily connected to ability but can be! I need to decide if this is relevent! The age range would be from 21 up to 80 I'd say. This would be eqaully spread out I think with possible spikes at either end of the spectrum - old heads and college kids! So data type of integer.  \n",
    "Could also be age ranges? In which case it would be a list - maybe college kids, middle-aged, old heads."
   ]
  },
  {
   "cell_type": "markdown",
   "id": "1a1cb13d-9521-4122-ac3b-a9c926d046f9",
   "metadata": {},
   "source": [
    "5. Repertoire  \n",
    "A top traditional musician would have a reportoire of hundreds if not thousands of tunes. However a top younger musicians mightn't have learnt that many tunes yet. Equally an intermediate older musician may have amassed a huge amount of tunes but not be great at playing them! So I guess repertoire could be a big range - maybe from 50 up to 2000? And would be directly related to age and possibly ability. Datatype integer? Or maybe range? i.e. 50-100, 100-200, 200-500, 500-1000, >1000? In which case a list."
   ]
  },
  {
   "cell_type": "markdown",
   "id": "ca795996-771e-40da-8297-6433e60cf490",
   "metadata": {},
   "source": [
    "6. Paid  \n",
    "The session would always have 3 hosts who would be paid. It's most common for these to be the best ability-wise, biggest repertoire, and older (but not always!). The typical instruments would accordion, fiddle and guitar. This datatype would be boolean - True or False."
   ]
  },
  {
   "cell_type": "markdown",
   "id": "25e71cdd-0a39-42d3-ada4-2404bb7eb471",
   "metadata": {},
   "source": [
    "7. Drink  \n",
    "Just putting this in for the craic! The typical drinks might be Beamish, Guinness, Murphys, various lagers on tap, craft beers, red wine, spirits, water/soft drinks. The older hosts and musicians tend to drink Beamish and red wine! The younger craft beers and non-alcoholic drinks. Maybe incorporate quantity? Apart from quantity this would be a list."
   ]
  },
  {
   "cell_type": "markdown",
   "id": "39977c63-5bb4-4c00-9f58-ea8c36b15943",
   "metadata": {},
   "source": [
    "8. Night of the week  \n",
    "Another possibility! The midweek nights have less musicians - sometime just the hosts. While the weekends are always busier. The age profile would always be older during the week (retirees!) while the weekend would have a bigger range. There would also be more drinking at the weekend!"
   ]
  },
  {
   "cell_type": "code",
   "execution_count": null,
   "id": "114395eb-6442-4504-8728-35c25b55eddd",
   "metadata": {},
   "outputs": [],
   "source": []
  }
 ],
 "metadata": {
  "kernelspec": {
   "display_name": "Python 3",
   "language": "python",
   "name": "python3"
  },
  "language_info": {
   "codemirror_mode": {
    "name": "ipython",
    "version": 3
   },
   "file_extension": ".py",
   "mimetype": "text/x-python",
   "name": "python",
   "nbconvert_exporter": "python",
   "pygments_lexer": "ipython3",
   "version": "3.8.8"
  }
 },
 "nbformat": 4,
 "nbformat_minor": 5
}
