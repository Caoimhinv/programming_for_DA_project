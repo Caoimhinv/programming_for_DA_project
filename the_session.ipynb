{
 "cells": [
  {
   "cell_type": "markdown",
   "id": "2112132a-f23b-4122-a7b2-4d954e99ae8d",
   "metadata": {},
   "source": [
    "<h1><center>Programming for Data Analysis</center></h1>\n",
    "<h3><center>Autumn/Winter 2021 Project</center></h3>\n",
    "\n",
    "---"
   ]
  },
  {
   "cell_type": "markdown",
   "id": "0b62b085-e4e3-403d-b1c2-35fdcfa03937",
   "metadata": {},
   "source": [
    "<h1><center>\"The Session\"</center></h1>\n",
    "\n",
    "![symbol](images/music-notes.jpeg)"
   ]
  },
  {
   "cell_type": "markdown",
   "id": "35addd14-a8e0-4bf9-9cc0-08cc6aef8093",
   "metadata": {},
   "source": [
    "<br>\n",
    "\n",
    "#### Introduction  \n",
    "\n",
    "The brief for the project stipulated that we *\"create a data set by simulating a real-world phenomenon\"*. It was further suggested we pick something that is of interest to us in our personal or professional life. I've decided to do something on music sessions and try to simulate a dataset based on the attendees at sessions in a given month in a particular pub in Cork city! \n",
    "\n",
    "I'll pick a selection of relevent variables, examine their properties, potential data types, and how they relate to each other. I'll then try and work out code to simulate a random dataset based on that information. "
   ]
  },
  {
   "cell_type": "markdown",
   "id": "b83e47f7-6e19-4ce6-82d7-c951a863e812",
   "metadata": {},
   "source": [
    "![session1](images/session1.jpg \"image by Eddie Hennessey taken in the Cornerhouse Pub Cork City\")"
   ]
  },
  {
   "cell_type": "markdown",
   "id": "4f60e7ac-d64c-4bcd-b83d-4369137207c5",
   "metadata": {},
   "source": [
    "<br>\n",
    "\n",
    "---\n",
    "#### Research\n",
    "---\n",
    "\n",
    "The research carried out involved personal observation in the particular establishment, an interview with the *fear an tí*, casual interviews with some of the regular musicians, and general knowledge and experience with the subject matter and scene. The tone of the project is light hearted in nature and merely a vehicle for demonstrating an understanding of how to simulate data.    "
   ]
  },
  {
   "cell_type": "markdown",
   "id": "2680e759-83b0-4c26-a4e9-1df62066bca2",
   "metadata": {},
   "source": [
    "<br>\n",
    "\n",
    "#### The variables\n",
    "\n",
    "The first challenge was to come up with a list of potential variables that were both appropriate and possible to simulate. The list below changed quite a few times after I discovered problems with some, and thought of others as the project progressed. A field trip helped! 😁"
   ]
  },
  {
   "cell_type": "markdown",
   "id": "11c9ecc9-c476-4145-a002-743c746de6fc",
   "metadata": {},
   "source": [
    "- The players  \n",
    "There can be anywhere between 3 and sometimes more than 10 musicians on any given night, and this particular pub (pre-covid!) would usually have 7 sessions a week. So that's a monthly range of between 84 and 280+ musicians. The brief asks for *\"at least one-hundred data points across at least four different variables\"*, so I need to ensure my simulation returns at least that.\n",
    "3 is always the minimum number of musicians each night, as they would be the paid hosts of the session. The norm would be around 5 or 6 musicians, but sometimes there might be more than 10 for a party or special occasion."
   ]
  },
  {
   "cell_type": "markdown",
   "id": "7ef49461-f220-44ec-8c20-016cdb4cf4ec",
   "metadata": {},
   "source": [
    "- The instruments  \n",
    "The range of instruments played includes fiddle, accordion, guitar, flute, uilleann pipes, bodhrán, bouzouki, banjo, concertina, mandolin, bass, and drums. Some of the instruments are particular to a musical genre, while some would be found at all of the different sessions. Within that some instruments are more popular than others, with at least 1 guitar being found at every single session."
   ]
  },
  {
   "cell_type": "markdown",
   "id": "424d4d95-cc20-4f9e-b1ca-66d4e3af908c",
   "metadata": {},
   "source": [
    "- Genre  \n",
    "While the pub mostly has Irish traditional music (ITM) sessions, there are also nights with bluegrass, old-time, and blues music. The weekly breakdown of sessions is 4 ITM and 1 each of the other three."
   ]
  },
  {
   "cell_type": "markdown",
   "id": "64eacd94-c869-4f81-96d4-0c3c07946833",
   "metadata": {},
   "source": [
    "- Ability  \n",
    "All of the musicians would be of differing ability levels. The hosts would normally be the most able. The guests can range from competent amateurs just joining in, to experienced professional musicians passing through town. The pub in question is quite renowned so there would be a lot of highly competent players and very few beginners if any."
   ]
  },
  {
   "cell_type": "markdown",
   "id": "056a3aee-6c54-4ff4-a666-5dc437ccd64c",
   "metadata": {},
   "source": [
    "- Age  \n",
    "The pub in question is over 21s only and is regarded as an 'old man's pub'! The total age range would be from 21 up to over 80, which would be equally spread out with possible spikes at either end of the spectrum due to music students from UCC and Cork School of Music, plus a certain old-time string band of aging veterans! Age isn't necessarily connected to ability but can be! Generally the old-time blugrass players tend to be older, while a lot of the ITM players would be younger."
   ]
  },
  {
   "cell_type": "markdown",
   "id": "ca795996-771e-40da-8297-6433e60cf490",
   "metadata": {},
   "source": [
    "- Paid  \n",
    "The session would always have at least 3 hosts who would be paid. It's most common for these to be the best ability-wise, and gererally older. The typical instruments for ITM hosts would be accordion, fiddle and guitar. Whereas there may be more of a mix in the other genres, and possibly more musicians sharing the fee."
   ]
  },
  {
   "cell_type": "markdown",
   "id": "466f22bf-9ba3-4df7-ba6c-cb73191c9ef1",
   "metadata": {},
   "source": [
    "- Gender  \n",
    "Men would certainly be in the majority at all sessions here! Blues and bluegrass sessions would nearly be entirely male, while there would be more women in the ITM sessions."
   ]
  },
  {
   "cell_type": "markdown",
   "id": "a3dcc7ec-efa9-4c1c-ae07-b40ecf03f36b",
   "metadata": {},
   "source": [
    "- Repertoire  \n",
    "It has been suggested that an average ITM musicians knows around 1500 tunes (https://thesession.org/discussions/33314)! That seems a lot to be the average as it suggests some know a lot more! But in the absence of any scientific data I have to take a number from somewhere. Blues musicians would tend to have a smaller repertoire and the nature of the music lends itself to 'jamming' where the musicians may not know the actual song. Bluegrass/old-time musicians would be somewhere in bewtween. Older and better musicians in each genre would tend to have bigger reportoires while younger and less able would have smaller."
   ]
  },
  {
   "cell_type": "markdown",
   "id": "25e71cdd-0a39-42d3-ada4-2404bb7eb471",
   "metadata": {},
   "source": [
    "- Drink  \n",
    "Just putting this in for the craic! The typical drinks might be Beamish, Guinness, Murphys, various lagers on tap, craft beers, red wine, spirits, water/soft drinks. The older hosts and musicians tend to drink Beamish and red wine! The younger craft beers and non-alcoholic drinks? Sweeping generalisations will abound here!"
   ]
  },
  {
   "cell_type": "markdown",
   "id": "dc87de04-69da-48c8-926c-cc529130f7c1",
   "metadata": {},
   "source": [
    "<br>\n",
    "\n",
    "I need to examine each of these variables in more detail and try and work out code to simulate them. I guess one of the ultimate goals in this will be whether myself or one of my colleagues could recognise ourselves in the results!"
   ]
  },
  {
   "cell_type": "markdown",
   "id": "82396392-a31f-40f8-8d87-6bb1f41df29d",
   "metadata": {},
   "source": [
    "<br>\n",
    "\n",
    "___\n",
    "#### An initial look at datatypes and an attempt to code\n",
    "---"
   ]
  },
  {
   "cell_type": "markdown",
   "id": "9229d155-7a3e-49ba-8893-7c304ce728bb",
   "metadata": {},
   "source": [
    "We begin by importing the necessary python packages."
   ]
  },
  {
   "cell_type": "code",
   "execution_count": 1,
   "id": "6cb937d9-f05e-49b3-9362-8b3f8c2cbae1",
   "metadata": {},
   "outputs": [],
   "source": [
    "# numerical arrays\n",
    "import numpy as np\n",
    "\n",
    "# dataframes\n",
    "import pandas as pd\n",
    "\n",
    "# plotting\n",
    "import matplotlib.pyplot as plt\n",
    "\n",
    "# nicer plotting\n",
    "import seaborn as sns\n",
    "\n",
    "# module for choosing from a list\n",
    "from secrets import choice\n",
    "\n",
    "# python standard random library\n",
    "import random"
   ]
  },
  {
   "cell_type": "markdown",
   "id": "b4580b3b-6c2c-421a-b43c-12d7ee2b866d",
   "metadata": {},
   "source": [
    "We set a global style and size for the plots"
   ]
  },
  {
   "cell_type": "code",
   "execution_count": 2,
   "id": "fa6f568e-51f1-4d47-b2fc-d35cfdd1ff32",
   "metadata": {},
   "outputs": [],
   "source": [
    "# # set global style for seaborn plots\n",
    "sns.set_style(\"darkgrid\")\n",
    "\n",
    "# set global figure size\n",
    "plt.rcParams[\"figure.figsize\"] = (15,10)"
   ]
  },
  {
   "cell_type": "markdown",
   "id": "b9da4518-d2e8-453d-936f-e6ddb31011d4",
   "metadata": {},
   "source": [
    "<br>\n",
    "\n",
    "To begin I'm going to create a simple table populated with quickly generated random data just to get a feel for the size and shape of the potential final outcome, and also to choose appropriate datatypes."
   ]
  },
  {
   "cell_type": "markdown",
   "id": "178e5570-8628-4fb5-87ab-c90ef992402f",
   "metadata": {},
   "source": [
    "- Musicians  \n",
    "---\n",
    "\n",
    "We'll create an array of 100 numbers and use that as the first column to represent 100 musicians."
   ]
  },
  {
   "cell_type": "code",
   "execution_count": 3,
   "id": "30998df8-bdfc-4845-81a9-a324fd80766a",
   "metadata": {},
   "outputs": [],
   "source": [
    "# create numPy array using 100 as upper limit\n",
    "data = np.arange(100)\n",
    "\n",
    "# turn it into a dataframe\n",
    "proto = pd.DataFrame(data, columns = ['musician'])"
   ]
  },
  {
   "cell_type": "markdown",
   "id": "ac55219f-ba00-4fa1-9068-4e65510f34d9",
   "metadata": {},
   "source": [
    "- Instruments  \n",
    "---\n",
    "\n",
    "We create a list of the potential instruments and use `numpy.random.choice` to choose 100 at random and use those to populate the second column of the dataframe. To use numpy.random we need to first create a new random number generator."
   ]
  },
  {
   "cell_type": "code",
   "execution_count": 4,
   "id": "c39c7ec8-df45-41d7-8888-c9b9dc426aa1",
   "metadata": {},
   "outputs": [],
   "source": [
    "# create a random number generator with seed\n",
    "rng = np.random.default_rng(12345)\n",
    "\n",
    "# create a list of instruments\n",
    "instrs = ['guitar', 'fiddle', 'accordion', 'flute', 'uilleann_pipes', 'concertina', 'bodhrán',\n",
    "        'mandolin', 'bass', 'banjo', 'drums', 'keyboard']\n",
    "\n",
    "# choose 100 at random\n",
    "instrs = rng.choice(instrs, size=100)\n",
    "\n",
    "# create column with randomly chosen instruments\n",
    "proto['instrument'] = instrs.tolist()"
   ]
  },
  {
   "cell_type": "markdown",
   "id": "cfef06ba-bc99-4124-8d3c-f7fed084738a",
   "metadata": {},
   "source": [
    "- Genre  \n",
    "---\n",
    "\n",
    "We create a list of potential genres and choose a random selection to be added as the third column"
   ]
  },
  {
   "cell_type": "code",
   "execution_count": 5,
   "id": "337bc60a-a4d6-46e9-afc5-1c5bb550b4bd",
   "metadata": {},
   "outputs": [],
   "source": [
    "# create list of genres\n",
    "genres = ['ITM', 'old_time', 'bluegrass', 'blues']\n",
    "\n",
    "# choose a random 100\n",
    "genres = rng.choice(genres, size=100)\n",
    "\n",
    "# create a new column in dataframe\n",
    "proto['genre'] = genres.tolist()"
   ]
  },
  {
   "cell_type": "markdown",
   "id": "3c4195aa-470a-4e13-bb3a-d34f4e0a4649",
   "metadata": {},
   "source": [
    "- Ability  \n",
    "___\n",
    "\n",
    "Same as above"
   ]
  },
  {
   "cell_type": "code",
   "execution_count": 6,
   "id": "b529dcb4-b03c-4cfd-9785-1aced87a037c",
   "metadata": {},
   "outputs": [],
   "source": [
    "ability = ['good', 'really_good']\n",
    "ability = rng.choice(ability, size=100)\n",
    "proto['ability'] = ability.tolist()"
   ]
  },
  {
   "cell_type": "markdown",
   "id": "68b0219b-737f-4856-83db-47859ec6c072",
   "metadata": {},
   "source": [
    "- Age  \n",
    "---\n",
    "\n",
    "Same as above"
   ]
  },
  {
   "cell_type": "code",
   "execution_count": 7,
   "id": "977ba824-e5c2-4197-a8f8-a9225a213fa3",
   "metadata": {},
   "outputs": [],
   "source": [
    "age = ['young', 'middle-aged', 'older']\n",
    "age = rng.choice(age, size=100)\n",
    "proto['age'] = age.tolist()"
   ]
  },
  {
   "cell_type": "markdown",
   "id": "df46c60a-8751-41fc-9ba2-5233b3aa2518",
   "metadata": {},
   "source": [
    "- Paid  \n",
    "___\n",
    "\n",
    "Same as above"
   ]
  },
  {
   "cell_type": "code",
   "execution_count": 8,
   "id": "c8d03103-6f41-4c3f-a27c-099a61e9f5f5",
   "metadata": {},
   "outputs": [],
   "source": [
    "paid = ['yes', 'no']\n",
    "paid = rng.choice(paid, size=100)\n",
    "proto['paid'] = paid.tolist()"
   ]
  },
  {
   "cell_type": "markdown",
   "id": "5c738da4-ea78-4004-a574-5175eaadd9b1",
   "metadata": {},
   "source": [
    "- Gender  \n",
    "___\n",
    "\n",
    "Same as above"
   ]
  },
  {
   "cell_type": "code",
   "execution_count": 9,
   "id": "8d8be626-07ff-44be-9048-27bb51d45d9e",
   "metadata": {
    "tags": []
   },
   "outputs": [],
   "source": [
    "genders = ['male', 'female']\n",
    "gender = rng.choice(genders, size=100)\n",
    "proto['gender'] = gender.tolist()"
   ]
  },
  {
   "cell_type": "markdown",
   "id": "2cbc5efa-2fa9-441a-984b-16cad1c168c2",
   "metadata": {},
   "source": [
    "- Repertoire  \n",
    "___\n",
    "\n",
    "I'm going to set 1500 as the `loc` (mean) and create a normally distributed array of 100 values. To get something that looks anyway close to reality I've set the `scale` (standard deviation) to 600."
   ]
  },
  {
   "cell_type": "code",
   "execution_count": 10,
   "id": "bc4bd2b8-451c-498a-bbe7-3024d1640f93",
   "metadata": {},
   "outputs": [
    {
     "data": {
      "text/plain": [
       "array([1117, 2186,  515,  711, 1193, 1440, 1422,  661, 1616, 1422, 1712,\n",
       "        850, 1646, 1632, 1103, 1368, 1166, 2313, -371,  631,  476, 1273,\n",
       "       1092, 1253, 1931,  520,  992, 1366,  778, 1721, 1697, 1073,  437,\n",
       "       2460, 1782, 1754, 1543, 1495, 1998, 1490, 1121, 1925, 1535, 1036,\n",
       "        956, 2199, 1878, 2685, 1184, 1053, 1742, 2327, 1858, 1759, 2632,\n",
       "       1053,  751, 1053, 1309, 1724, 2113, 1743, 2413, 1003, 2643, 1012,\n",
       "       2202,  937, 1705, 1530, 1810, 1950, 1372, 1459, 1643,  716, 1061,\n",
       "        525, 1503, 2833, 1944,  980, 1075, 2085, 1215,  534,  886,  867,\n",
       "        887, 1905, 1542,  606, 1176,  817,  774,  595, 2548, 1315, 1845,\n",
       "       2021])"
      ]
     },
     "execution_count": 10,
     "metadata": {},
     "output_type": "execute_result"
    }
   ],
   "source": [
    "# create and array of 100 values with a mean of 1500 and SD of 600\n",
    "repertoire = rng.normal(loc=1500, scale=600, size = 100)\n",
    "\n",
    "# convert to integers\n",
    "repertoire = repertoire.astype(int)\n",
    "\n",
    "# have a look\n",
    "repertoire"
   ]
  },
  {
   "cell_type": "code",
   "execution_count": 11,
   "id": "f6c1ef3c-abc1-4a54-ab6d-cbed1e0d61f4",
   "metadata": {},
   "outputs": [],
   "source": [
    "# add to dataframe\n",
    "proto['repertoire'] = repertoire.tolist()"
   ]
  },
  {
   "cell_type": "markdown",
   "id": "d7689bf5-f5f0-4bc4-a330-df01c2aea75c",
   "metadata": {},
   "source": [
    "- Drink  \n",
    "___\n",
    "\n",
    "Same as above"
   ]
  },
  {
   "cell_type": "code",
   "execution_count": 12,
   "id": "9342b920-0494-496d-b1c7-b8e561790a0f",
   "metadata": {},
   "outputs": [],
   "source": [
    "# create a list of drinks\n",
    "drinks = ['beamish', 'guinness', 'murphys', 'other_draft', 'craft_beers', 'red_wine', 'shorts/cocktails', \n",
    "          'cider', 'non-alco']\n",
    "drinks = rng.choice(drinks, size=100)\n",
    "proto['drink'] = drinks.tolist()"
   ]
  },
  {
   "cell_type": "markdown",
   "id": "d2b87d92-7615-4207-a1b8-0a67f0447207",
   "metadata": {},
   "source": [
    "<br>\n",
    "\n",
    "So let's have a look!"
   ]
  },
  {
   "cell_type": "code",
   "execution_count": 13,
   "id": "a68739c3-c72b-4869-acea-be4cbfd3cc90",
   "metadata": {},
   "outputs": [
    {
     "data": {
      "text/html": [
       "<div>\n",
       "<style scoped>\n",
       "    .dataframe tbody tr th:only-of-type {\n",
       "        vertical-align: middle;\n",
       "    }\n",
       "\n",
       "    .dataframe tbody tr th {\n",
       "        vertical-align: top;\n",
       "    }\n",
       "\n",
       "    .dataframe thead th {\n",
       "        text-align: right;\n",
       "    }\n",
       "</style>\n",
       "<table border=\"1\" class=\"dataframe\">\n",
       "  <thead>\n",
       "    <tr style=\"text-align: right;\">\n",
       "      <th></th>\n",
       "      <th>musician</th>\n",
       "      <th>instrument</th>\n",
       "      <th>genre</th>\n",
       "      <th>ability</th>\n",
       "      <th>age</th>\n",
       "      <th>paid</th>\n",
       "      <th>gender</th>\n",
       "      <th>repertoire</th>\n",
       "      <th>drink</th>\n",
       "    </tr>\n",
       "  </thead>\n",
       "  <tbody>\n",
       "    <tr>\n",
       "      <th>0</th>\n",
       "      <td>0</td>\n",
       "      <td>bass</td>\n",
       "      <td>old_time</td>\n",
       "      <td>good</td>\n",
       "      <td>older</td>\n",
       "      <td>yes</td>\n",
       "      <td>female</td>\n",
       "      <td>1117</td>\n",
       "      <td>guinness</td>\n",
       "    </tr>\n",
       "    <tr>\n",
       "      <th>1</th>\n",
       "      <td>1</td>\n",
       "      <td>accordion</td>\n",
       "      <td>old_time</td>\n",
       "      <td>good</td>\n",
       "      <td>older</td>\n",
       "      <td>no</td>\n",
       "      <td>male</td>\n",
       "      <td>2186</td>\n",
       "      <td>red_wine</td>\n",
       "    </tr>\n",
       "    <tr>\n",
       "      <th>2</th>\n",
       "      <td>2</td>\n",
       "      <td>banjo</td>\n",
       "      <td>bluegrass</td>\n",
       "      <td>good</td>\n",
       "      <td>middle-aged</td>\n",
       "      <td>no</td>\n",
       "      <td>male</td>\n",
       "      <td>515</td>\n",
       "      <td>craft_beers</td>\n",
       "    </tr>\n",
       "    <tr>\n",
       "      <th>3</th>\n",
       "      <td>3</td>\n",
       "      <td>flute</td>\n",
       "      <td>ITM</td>\n",
       "      <td>good</td>\n",
       "      <td>older</td>\n",
       "      <td>yes</td>\n",
       "      <td>male</td>\n",
       "      <td>711</td>\n",
       "      <td>craft_beers</td>\n",
       "    </tr>\n",
       "    <tr>\n",
       "      <th>4</th>\n",
       "      <td>4</td>\n",
       "      <td>accordion</td>\n",
       "      <td>bluegrass</td>\n",
       "      <td>really_good</td>\n",
       "      <td>middle-aged</td>\n",
       "      <td>yes</td>\n",
       "      <td>male</td>\n",
       "      <td>1193</td>\n",
       "      <td>red_wine</td>\n",
       "    </tr>\n",
       "    <tr>\n",
       "      <th>5</th>\n",
       "      <td>5</td>\n",
       "      <td>banjo</td>\n",
       "      <td>bluegrass</td>\n",
       "      <td>really_good</td>\n",
       "      <td>middle-aged</td>\n",
       "      <td>yes</td>\n",
       "      <td>male</td>\n",
       "      <td>1440</td>\n",
       "      <td>red_wine</td>\n",
       "    </tr>\n",
       "    <tr>\n",
       "      <th>6</th>\n",
       "      <td>6</td>\n",
       "      <td>mandolin</td>\n",
       "      <td>ITM</td>\n",
       "      <td>good</td>\n",
       "      <td>middle-aged</td>\n",
       "      <td>no</td>\n",
       "      <td>male</td>\n",
       "      <td>1422</td>\n",
       "      <td>cider</td>\n",
       "    </tr>\n",
       "    <tr>\n",
       "      <th>7</th>\n",
       "      <td>7</td>\n",
       "      <td>bass</td>\n",
       "      <td>ITM</td>\n",
       "      <td>good</td>\n",
       "      <td>young</td>\n",
       "      <td>yes</td>\n",
       "      <td>female</td>\n",
       "      <td>661</td>\n",
       "      <td>guinness</td>\n",
       "    </tr>\n",
       "    <tr>\n",
       "      <th>8</th>\n",
       "      <td>8</td>\n",
       "      <td>keyboard</td>\n",
       "      <td>old_time</td>\n",
       "      <td>good</td>\n",
       "      <td>young</td>\n",
       "      <td>no</td>\n",
       "      <td>male</td>\n",
       "      <td>1616</td>\n",
       "      <td>red_wine</td>\n",
       "    </tr>\n",
       "    <tr>\n",
       "      <th>9</th>\n",
       "      <td>9</td>\n",
       "      <td>uilleann_pipes</td>\n",
       "      <td>old_time</td>\n",
       "      <td>really_good</td>\n",
       "      <td>middle-aged</td>\n",
       "      <td>no</td>\n",
       "      <td>male</td>\n",
       "      <td>1422</td>\n",
       "      <td>shorts/cocktails</td>\n",
       "    </tr>\n",
       "  </tbody>\n",
       "</table>\n",
       "</div>"
      ],
      "text/plain": [
       "   musician      instrument      genre      ability          age paid  gender  \\\n",
       "0         0            bass   old_time         good        older  yes  female   \n",
       "1         1       accordion   old_time         good        older   no    male   \n",
       "2         2           banjo  bluegrass         good  middle-aged   no    male   \n",
       "3         3           flute        ITM         good        older  yes    male   \n",
       "4         4       accordion  bluegrass  really_good  middle-aged  yes    male   \n",
       "5         5           banjo  bluegrass  really_good  middle-aged  yes    male   \n",
       "6         6        mandolin        ITM         good  middle-aged   no    male   \n",
       "7         7            bass        ITM         good        young  yes  female   \n",
       "8         8        keyboard   old_time         good        young   no    male   \n",
       "9         9  uilleann_pipes   old_time  really_good  middle-aged   no    male   \n",
       "\n",
       "   repertoire             drink  \n",
       "0        1117          guinness  \n",
       "1        2186          red_wine  \n",
       "2         515       craft_beers  \n",
       "3         711       craft_beers  \n",
       "4        1193          red_wine  \n",
       "5        1440          red_wine  \n",
       "6        1422             cider  \n",
       "7         661          guinness  \n",
       "8        1616          red_wine  \n",
       "9        1422  shorts/cocktails  "
      ]
     },
     "execution_count": 13,
     "metadata": {},
     "output_type": "execute_result"
    }
   ],
   "source": [
    "proto.head(10)"
   ]
  },
  {
   "cell_type": "markdown",
   "id": "83159535-d540-4363-8094-ef92759abd43",
   "metadata": {},
   "source": [
    "It looks good! But obviously it's completely random data that has little basis in reality and none of the variables have any relationship with each other. I'll have to look at each of the variables in a lot more detail and find ways of simulating more accurate data.  \n",
    "We'll save the dataframe to file just to compare later"
   ]
  },
  {
   "cell_type": "code",
   "execution_count": 14,
   "id": "821ae129-f3ac-4214-a0a1-986413e7c28e",
   "metadata": {},
   "outputs": [],
   "source": [
    "# save to csv\n",
    "proto.to_csv('data/the_session_prototype.csv')"
   ]
  },
  {
   "cell_type": "markdown",
   "id": "577573ff-0ce0-4acd-91ca-1d84823423c5",
   "metadata": {},
   "source": [
    "<br>\n",
    "\n",
    "---\n",
    "#### **The players**  \n",
    "---\n",
    "\n",
    "We'll decide that the month is January* so that's 30 days (not including New Year's Day 😁) and 30 sessions. The range for the amount of musicians at any particular session is usually 3-10, but can be more (not less). The datatype would obviously have to be integer. This value could also serve as the index as each attendee (or more correctly attendence as in reality a lot of people will atend on multiple occasions) will be unique.\n",
    "\n",
    "I'm going to create an array of 30 values between 3 and 10 to represent attendance each night, and then add them up to calculate total attendence for the month. We're using `numpy.random` to create the array of integers.\n",
    "\n",
    "\\* this can be changed by the viewer for a different month or a longer period of time  \n",
    "\\** the viewer can change or remove the seed (above) to give a different result each time"
   ]
  },
  {
   "cell_type": "code",
   "execution_count": 15,
   "id": "c16098b0-11ac-4a33-9b6a-244a00c62047",
   "metadata": {},
   "outputs": [
    {
     "data": {
      "text/plain": [
       "array([ 9,  6,  3,  6,  9,  5,  7,  9, 10,  4,  3,  9,  9,  7,  4,  5,  7,\n",
       "       10,  3, 10,  9, 10,  6,  3,  9,  6,  6, 10,  7,  3])"
      ]
     },
     "execution_count": 15,
     "metadata": {},
     "output_type": "execute_result"
    }
   ],
   "source": [
    "# create an array of 30 numbers between 3 and 11 (non-inclusive)\n",
    "x = rng.integers(3, 11, 30)\n",
    "x"
   ]
  },
  {
   "cell_type": "markdown",
   "id": "3497a9da-d8aa-431a-9efb-9de00403de3c",
   "metadata": {},
   "source": [
    "It's hard to judge anything from that but we can create a `barplot` with `seaborn` to get a better idea."
   ]
  },
  {
   "cell_type": "code",
   "execution_count": 16,
   "id": "b771d16b-0383-4b5c-a2ea-702e40c4588a",
   "metadata": {},
   "outputs": [
    {
     "data": {
      "image/png": "[encoded data removed]",
      "text/plain": [
       "<Figure size 1080x720 with 1 Axes>"
      ]
     },
     "metadata": {},
     "output_type": "display_data"
    }
   ],
   "source": [
    "# add up the frequency of each unique value\n",
    "unique, counts = np.unique(x, return_counts=True)\n",
    "\n",
    "# set title and labels\n",
    "plt.title(\"\\nBreakdown of attendence numbers at sessions\", size=15)\n",
    "plt.xlabel(\"attendence\", size=13)\n",
    "plt.ylabel(\"frequency\", size=13)\n",
    "\n",
    "# plots the results\n",
    "sns.barplot(x = unique, y = counts, edgecolor='k');"
   ]
  },
  {
   "cell_type": "markdown",
   "id": "c57e9aa2-0752-47a7-be37-ff1d09e19e5c",
   "metadata": {},
   "source": [
    "This doesn't reallty work as I want the average to be around 5/6 and there certainly aren't going to be that many sessions with 9/10 people. There should also be a slight possibility of more than 10 people showing up.  \n",
    "I need to find a normal distribution with a mean around 5. And with integers! And with no values below 3! The following is adapted from https://www.py4u.net/discuss/18951 and https://stackoverflow.com/questions/55806118/remove-elements-from-numpy-array-smaller-than-1."
   ]
  },
  {
   "cell_type": "code",
   "execution_count": 17,
   "id": "c0a8dab5-6129-45b7-9f6c-f7cfb56c8658",
   "metadata": {},
   "outputs": [
    {
     "name": "stdout",
     "output_type": "stream",
     "text": [
      "\n",
      "The total number of attendances at sessions in January is 146\n",
      "\n"
     ]
    },
    {
     "data": {
      "image/png": "[encoded data removed]",
      "text/plain": [
       "<Figure size 1080x720 with 1 Axes>"
      ]
     },
     "metadata": {},
     "output_type": "display_data"
    }
   ],
   "source": [
    "# sets mean, standard deviation and size of array\n",
    "muso = rng.normal(loc=5, scale=3, size=30)\n",
    "\n",
    "# rounds the values\n",
    "musoInt = np.round(muso)\n",
    "\n",
    "# removes values lower than 3\n",
    "musoInt1 = musoInt[(musoInt > 2)]\n",
    "\n",
    "# convert to integers\n",
    "musoInt1 = musoInt1.astype(int)\n",
    "# print(musoInt1)\n",
    "\n",
    "# add up the frequency of each unique value\n",
    "unique, counts = np.unique(musoInt1, return_counts=True)\n",
    "\n",
    "# sets title and labels for plot\n",
    "plt.title(\"Attendances at sessions in the month of January\", fontsize=15)\n",
    "plt.xlabel(\"Number of musicians at session\", fontsize=13)\n",
    "plt.ylabel(\"Number of sessions\", fontsize=13)\n",
    "\n",
    "# plots the results\n",
    "sns.barplot(x = unique, y = counts.astype(int), edgecolor='k')\n",
    "\n",
    "# adds up the results and converts to an int\n",
    "y = int(musoInt1.sum())\n",
    "\n",
    "print(f'\\nThe total number of attendances at sessions in January is {y}\\n')"
   ]
  },
  {
   "cell_type": "markdown",
   "id": "37d208ca-b391-4fac-9aa1-d6835214a56c",
   "metadata": {},
   "source": [
    "This looks like a lot better representation of what the breakdown of attendences might be. We now need to turn the total into the first column of the dataframe. We create an array using `numpy` with the total as the upper limit. This is then converted into a `pandas` dataframe and the first column titled 'musician'."
   ]
  },
  {
   "cell_type": "code",
   "execution_count": 18,
   "id": "9d284538-79d4-4616-a05d-66807451477a",
   "metadata": {},
   "outputs": [
    {
     "data": {
      "text/html": [
       "<div>\n",
       "<style scoped>\n",
       "    .dataframe tbody tr th:only-of-type {\n",
       "        vertical-align: middle;\n",
       "    }\n",
       "\n",
       "    .dataframe tbody tr th {\n",
       "        vertical-align: top;\n",
       "    }\n",
       "\n",
       "    .dataframe thead th {\n",
       "        text-align: right;\n",
       "    }\n",
       "</style>\n",
       "<table border=\"1\" class=\"dataframe\">\n",
       "  <thead>\n",
       "    <tr style=\"text-align: right;\">\n",
       "      <th></th>\n",
       "      <th>musician</th>\n",
       "    </tr>\n",
       "  </thead>\n",
       "  <tbody>\n",
       "    <tr>\n",
       "      <th>0</th>\n",
       "      <td>0</td>\n",
       "    </tr>\n",
       "    <tr>\n",
       "      <th>1</th>\n",
       "      <td>1</td>\n",
       "    </tr>\n",
       "    <tr>\n",
       "      <th>2</th>\n",
       "      <td>2</td>\n",
       "    </tr>\n",
       "    <tr>\n",
       "      <th>3</th>\n",
       "      <td>3</td>\n",
       "    </tr>\n",
       "    <tr>\n",
       "      <th>4</th>\n",
       "      <td>4</td>\n",
       "    </tr>\n",
       "  </tbody>\n",
       "</table>\n",
       "</div>"
      ],
      "text/plain": [
       "   musician\n",
       "0         0\n",
       "1         1\n",
       "2         2\n",
       "3         3\n",
       "4         4"
      ]
     },
     "execution_count": 18,
     "metadata": {},
     "output_type": "execute_result"
    }
   ],
   "source": [
    "# create numPy array using x as upper limit\n",
    "data = np.arange(y)\n",
    "\n",
    "# turn it into a dataframe\n",
    "df = pd.DataFrame(data, columns = ['musician'])\n",
    "\n",
    "# have a look\n",
    "df.head()"
   ]
  },
  {
   "cell_type": "markdown",
   "id": "1d5eeca1-63f8-43e2-81e0-9d7580e9922f",
   "metadata": {},
   "source": [
    "<br>\n",
    "\n",
    "---\n",
    "#### **The instruments**  \n",
    "---"
   ]
  },
  {
   "cell_type": "markdown",
   "id": "a44a1a2e-8b5b-4549-a46b-f98f116d5e86",
   "metadata": {},
   "source": [
    "![uilleann_pipes](images/uilleann_pipes.jpeg \"uilleann pipes photo by Paul Eliasberg\")"
   ]
  },
  {
   "cell_type": "markdown",
   "id": "50a3be60-8188-4a7a-adaa-5bee7260f482",
   "metadata": {},
   "source": [
    "We need to create a list of the instuments first and divide them up by genre:\n",
    "- ITM - guitar, fiddle, accordion, flute, uilleann pipes, concertina, bodhrán\n",
    "- Bluegrass - mandolin, bass, banjo, guitar, fiddle, dobro\n",
    "- Old-time - mandolin, bass, banjo, guitar, fiddle\n",
    "- Blues - guitar, drums, keyboard, bass  \n",
    "\n",
    "We can see that is there is quite a bit of crossover in the instruments. Guitar is featured in all of the genres while most of the ITM instruments are specific to that genre. I'm going to put all of the instruments in a list and use `numpy.random.choice` to create another array the same size (`y`) as the first column 'musician'. I ordered the instruments by popularity and weighted the percentage chance of returning each instrument (`p=[0.15, etc]`) accordingly so that guitar will be the most likely instrument to be returned followed by fiddle, etc. It took quite a bit of experimenting to achieve a result that looked realistic.  \n",
    "This variable doesn't need to be related to anything yet so we can assign the instruments to musicians randomly as a new column. "
   ]
  },
  {
   "cell_type": "code",
   "execution_count": 19,
   "id": "00325a80-92a5-44dc-88b4-c3132fbf0fda",
   "metadata": {},
   "outputs": [
    {
     "data": {
      "text/html": [
       "<div>\n",
       "<style scoped>\n",
       "    .dataframe tbody tr th:only-of-type {\n",
       "        vertical-align: middle;\n",
       "    }\n",
       "\n",
       "    .dataframe tbody tr th {\n",
       "        vertical-align: top;\n",
       "    }\n",
       "\n",
       "    .dataframe thead th {\n",
       "        text-align: right;\n",
       "    }\n",
       "</style>\n",
       "<table border=\"1\" class=\"dataframe\">\n",
       "  <thead>\n",
       "    <tr style=\"text-align: right;\">\n",
       "      <th></th>\n",
       "      <th>musician</th>\n",
       "      <th>instrument</th>\n",
       "    </tr>\n",
       "  </thead>\n",
       "  <tbody>\n",
       "    <tr>\n",
       "      <th>0</th>\n",
       "      <td>0</td>\n",
       "      <td>banjo</td>\n",
       "    </tr>\n",
       "    <tr>\n",
       "      <th>1</th>\n",
       "      <td>1</td>\n",
       "      <td>fiddle</td>\n",
       "    </tr>\n",
       "    <tr>\n",
       "      <th>2</th>\n",
       "      <td>2</td>\n",
       "      <td>guitar</td>\n",
       "    </tr>\n",
       "    <tr>\n",
       "      <th>3</th>\n",
       "      <td>3</td>\n",
       "      <td>bass</td>\n",
       "    </tr>\n",
       "    <tr>\n",
       "      <th>4</th>\n",
       "      <td>4</td>\n",
       "      <td>bass</td>\n",
       "    </tr>\n",
       "  </tbody>\n",
       "</table>\n",
       "</div>"
      ],
      "text/plain": [
       "   musician instrument\n",
       "0         0      banjo\n",
       "1         1     fiddle\n",
       "2         2     guitar\n",
       "3         3       bass\n",
       "4         4       bass"
      ]
     },
     "execution_count": 19,
     "metadata": {},
     "output_type": "execute_result"
    }
   ],
   "source": [
    "# create a list of instruments\n",
    "instrs = ['guitar', 'fiddle', 'accordion', 'bass', 'banjo', 'mandolin', 'drums', \n",
    "          'uilleann_pipes', 'flute', 'concertina', 'bodhrán', 'dobro', 'keyboard']\n",
    "\n",
    "# we can pass in the probability for each item\n",
    "instrs = rng.choice(instrs, p=[0.3, 0.25, 0.09, 0.09, 0.07, 0.04, 0.04, 0.03, 0.02, 0.02, 0.02,  \n",
    "                               0.015, 0.015], size=y)\n",
    "\n",
    "# adds this list as a column to the dataframe\n",
    "df['instrument'] = instrs.tolist()\n",
    "\n",
    "# have a look\n",
    "df.head()"
   ]
  },
  {
   "cell_type": "code",
   "execution_count": 20,
   "id": "9a754c86-0a34-4143-934a-2eed1c0c9028",
   "metadata": {},
   "outputs": [
    {
     "name": "stdout",
     "output_type": "stream",
     "text": [
      "<class 'pandas.core.frame.DataFrame'>\n",
      "RangeIndex: 146 entries, 0 to 145\n",
      "Data columns (total 2 columns):\n",
      " #   Column      Non-Null Count  Dtype \n",
      "---  ------      --------------  ----- \n",
      " 0   musician    146 non-null    int64 \n",
      " 1   instrument  146 non-null    object\n",
      "dtypes: int64(1), object(1)\n",
      "memory usage: 2.4+ KB\n"
     ]
    }
   ],
   "source": [
    "# prints out some info so far\n",
    "df.info()"
   ]
  },
  {
   "cell_type": "markdown",
   "id": "9e5c854b-0d8d-47ee-a081-25f105b04362",
   "metadata": {},
   "source": [
    "I'm now going to set 'musician' to be the index."
   ]
  },
  {
   "cell_type": "code",
   "execution_count": 21,
   "id": "bb3ef3e5-329d-4ac3-8068-9174e357ca4a",
   "metadata": {},
   "outputs": [
    {
     "data": {
      "text/html": [
       "<div>\n",
       "<style scoped>\n",
       "    .dataframe tbody tr th:only-of-type {\n",
       "        vertical-align: middle;\n",
       "    }\n",
       "\n",
       "    .dataframe tbody tr th {\n",
       "        vertical-align: top;\n",
       "    }\n",
       "\n",
       "    .dataframe thead th {\n",
       "        text-align: right;\n",
       "    }\n",
       "</style>\n",
       "<table border=\"1\" class=\"dataframe\">\n",
       "  <thead>\n",
       "    <tr style=\"text-align: right;\">\n",
       "      <th></th>\n",
       "      <th>instrument</th>\n",
       "    </tr>\n",
       "    <tr>\n",
       "      <th>musician</th>\n",
       "      <th></th>\n",
       "    </tr>\n",
       "  </thead>\n",
       "  <tbody>\n",
       "    <tr>\n",
       "      <th>0</th>\n",
       "      <td>banjo</td>\n",
       "    </tr>\n",
       "    <tr>\n",
       "      <th>1</th>\n",
       "      <td>fiddle</td>\n",
       "    </tr>\n",
       "    <tr>\n",
       "      <th>2</th>\n",
       "      <td>guitar</td>\n",
       "    </tr>\n",
       "    <tr>\n",
       "      <th>3</th>\n",
       "      <td>bass</td>\n",
       "    </tr>\n",
       "    <tr>\n",
       "      <th>4</th>\n",
       "      <td>bass</td>\n",
       "    </tr>\n",
       "  </tbody>\n",
       "</table>\n",
       "</div>"
      ],
      "text/plain": [
       "         instrument\n",
       "musician           \n",
       "0             banjo\n",
       "1            fiddle\n",
       "2            guitar\n",
       "3              bass\n",
       "4              bass"
      ]
     },
     "execution_count": 21,
     "metadata": {},
     "output_type": "execute_result"
    }
   ],
   "source": [
    "# set index\n",
    "df.set_index(\"musician\", inplace = True)\n",
    "\n",
    "# have a look\n",
    "df.head()"
   ]
  },
  {
   "cell_type": "markdown",
   "id": "9ca729ea-62a1-4eed-9e22-969b004d0ded",
   "metadata": {},
   "source": [
    "We'll just take a look at the breakdown to make sure it looks ok."
   ]
  },
  {
   "cell_type": "code",
   "execution_count": 22,
   "id": "a05b1be3-8719-4876-8989-e6ca5509bedc",
   "metadata": {},
   "outputs": [
    {
     "data": {
      "text/plain": [
       "guitar            46\n",
       "fiddle            32\n",
       "accordion         25\n",
       "banjo             14\n",
       "bass              10\n",
       "uilleann_pipes     5\n",
       "mandolin           4\n",
       "drums              3\n",
       "dobro              2\n",
       "keyboard           2\n",
       "concertina         2\n",
       "flute              1\n",
       "Name: instrument, dtype: int64"
      ]
     },
     "execution_count": 22,
     "metadata": {},
     "output_type": "execute_result"
    }
   ],
   "source": [
    "df[\"instrument\"].value_counts()"
   ]
  },
  {
   "cell_type": "markdown",
   "id": "097feacf-f694-4fdc-a36d-25d039dc3ef2",
   "metadata": {},
   "source": [
    "We can view this information in a pie chart."
   ]
  },
  {
   "cell_type": "code",
   "execution_count": 23,
   "id": "7798f34d-9985-415a-afac-17773987c855",
   "metadata": {},
   "outputs": [
    {
     "data": {
      "image/png": "[encoded data removed]",
      "text/plain": [
       "<Figure size 1296x936 with 1 Axes>"
      ]
     },
     "metadata": {},
     "output_type": "display_data"
    }
   ],
   "source": [
    "# create a variable for value counts\n",
    "instr=df[\"instrument\"].value_counts()\n",
    "\n",
    "# set figure size\n",
    "plt.rcParams[\"figure.figsize\"] = (18,13)\n",
    "\n",
    "# set explode (wedges set out from main pie)\n",
    "myExplode = [0.1, 0.1, 0, 0.1, 0.1, 0, 0, 0, 0, 0, 0, 0]\n",
    "\n",
    "# create pie chart with various parameters\n",
    "ax = instr.plot(kind='pie', autopct='%1.0f%%', shadow=True, explode = myExplode, textprops={'fontsize': 12})\n",
    "\n",
    "# set title\n",
    "ax.set_title(\"\\nDistribution of instruments\", size=20);"
   ]
  },
  {
   "cell_type": "markdown",
   "id": "07b7d886-8264-422b-9974-a545bc82322c",
   "metadata": {},
   "source": [
    "Looks convincing enough!"
   ]
  },
  {
   "cell_type": "markdown",
   "id": "de178a06-e897-4096-ba2e-6a5f7c867618",
   "metadata": {},
   "source": [
    "<br>\n",
    "\n",
    "---\n",
    "#### **The genre**  \n",
    "---\n",
    "\n",
    "This is where things get a little more interesting! There are 4 main genres represented in the sessions - ITM, bluegrass, old-time American, and blues. The ITM sessions are 4 nights a week while the other genres have 1 night each. Some instruments are played at all sessions (guitar), while some are particular to a genre (accordion and ITM).\n",
    "\n",
    "After a lot of experimentation I came up with the following solution!  \n",
    "Matching the genre to instrument for some instruments was easy in that all the accordions and uilleann pipers played in the ITM sessions. The following code sorts that:\n",
    "```\n",
    "df.loc[df['instrument'] == 'accordion', 'genre'] = 'ITM'  \n",
    "```\n",
    "The guitar and the fiddle were a bit more tricky in that they played in sessions of different genres.  I first of all saved the count for each instrument that played in multiple genres. I used the `pandas.count` method and converted the result to integer using `astype(int)`"
   ]
  },
  {
   "cell_type": "code",
   "execution_count": 24,
   "id": "acc4ff6d-bd2a-4112-874d-0976aa130c22",
   "metadata": {},
   "outputs": [],
   "source": [
    "# isolate guitar in 'instrument column'\n",
    "noGuitars = df[df['instrument']=='guitar']\n",
    "\n",
    "# count and convert to int\n",
    "noGuitars = noGuitars.count().astype(int)\n",
    "\n",
    "noFiddles = df[df['instrument']=='fiddle']\n",
    "noFiddles = noFiddles.count().astype(int)\n",
    "\n",
    "noBanjos = df[df['instrument']=='banjo']\n",
    "noBanjos = noBanjos.count().astype(int)\n",
    "\n",
    "noMandolins = df[df['instrument']=='mandolin']\n",
    "noMandolins = noMandolins.count().astype(int)\n",
    "\n",
    "noBasses = df[df['instrument']=='bass']\n",
    "noBasses = noBasses.count().astype(int)"
   ]
  },
  {
   "cell_type": "markdown",
   "id": "9a23d3a6-3013-414f-a16b-accef4232ed0",
   "metadata": {},
   "source": [
    "I then needed to create variables of lists for each genre based on a particular instrument, i,e, mandolin only plays bluegrass and old-time."
   ]
  },
  {
   "cell_type": "code",
   "execution_count": 25,
   "id": "b47613a0-fe4e-4eb8-881d-a3956bc5fe3d",
   "metadata": {
    "tags": []
   },
   "outputs": [],
   "source": [
    "# guitar\n",
    "genre1 = ['bluegrass', 'ITM', 'old-time', 'blues']\n",
    "\n",
    "# bass\n",
    "genre2 = ['bluegrass', 'old-time', 'blues']\n",
    "\n",
    "# banjo\n",
    "genre3 = ['bluegrass', 'ITM', 'old-time']\n",
    "\n",
    "# mandolin\n",
    "genre4 = ['bluegrass', 'old-time']\n",
    "\n",
    "# fiddle\n",
    "genre5 = ['ITM', 'bluegrass', 'old-time']"
   ]
  },
  {
   "cell_type": "markdown",
   "id": "d77b3e56-b79b-4fb0-af6b-83cfd2fc90f8",
   "metadata": {},
   "source": [
    "This is where I spent the most time!!! I used `random.choices` and `pandas.Series` to create arrays for each of the problematic instruments. I weighted the output to reflect what I though was appropriate and I had to specify the length of the array. I couldn't give a simple integer here (as the number will change if the code is run again without a seed), so I had to convert the `noGuitars` variable to an integer. This `pandas` series is then converted to a numpy array ready to be added to the dataframe."
   ]
  },
  {
   "cell_type": "code",
   "execution_count": 26,
   "id": "f6a5c9cd-5ec0-42e0-a3e8-e9b6e0a92ff9",
   "metadata": {
    "scrolled": true,
    "tags": []
   },
   "outputs": [],
   "source": [
    "# create a random pandas series for guitar\n",
    "guitar = pd.Series(random.choices(genre1, weights=[1, 1, 1, 2], k=int(noGuitars)))\n",
    "# converts to numpy array\n",
    "guitar1 = guitar.to_numpy()\n",
    "\n",
    "bass = pd.Series(random.choices(genre2, weights=[1, 1, 1], k=int(noBasses)))\n",
    "bass1 = bass.to_numpy()\n",
    "\n",
    "banjo = pd.Series(random.choices(genre3, weights=[2, 1, 2], k=int(noBanjos)))\n",
    "banjo1 = banjo.to_numpy()\n",
    "\n",
    "mandolin = pd.Series(random.choices(genre4, weights=[1, 1], k=int(noMandolins)))\n",
    "mandolin1 = mandolin.to_numpy()\n",
    "\n",
    "fiddle = pd.Series(random.choices(genre5, weights=[2, 1, 1], k=int(noFiddles)))\n",
    "fiddle1 = fiddle.to_numpy()"
   ]
  },
  {
   "cell_type": "markdown",
   "id": "a3f3600b-9684-4c42-a302-bebef73294da",
   "metadata": {},
   "source": [
    "The following code creates a new column entitled 'genre' and specifies what genre each musician plays based on their instrument."
   ]
  },
  {
   "cell_type": "code",
   "execution_count": 27,
   "id": "18adb2df-41d5-4dff-82a7-889c0ed70a9a",
   "metadata": {},
   "outputs": [
    {
     "data": {
      "text/html": [
       "<div>\n",
       "<style scoped>\n",
       "    .dataframe tbody tr th:only-of-type {\n",
       "        vertical-align: middle;\n",
       "    }\n",
       "\n",
       "    .dataframe tbody tr th {\n",
       "        vertical-align: top;\n",
       "    }\n",
       "\n",
       "    .dataframe thead th {\n",
       "        text-align: right;\n",
       "    }\n",
       "</style>\n",
       "<table border=\"1\" class=\"dataframe\">\n",
       "  <thead>\n",
       "    <tr style=\"text-align: right;\">\n",
       "      <th></th>\n",
       "      <th>instrument</th>\n",
       "      <th>genre</th>\n",
       "    </tr>\n",
       "    <tr>\n",
       "      <th>musician</th>\n",
       "      <th></th>\n",
       "      <th></th>\n",
       "    </tr>\n",
       "  </thead>\n",
       "  <tbody>\n",
       "    <tr>\n",
       "      <th>0</th>\n",
       "      <td>banjo</td>\n",
       "      <td>bluegrass</td>\n",
       "    </tr>\n",
       "    <tr>\n",
       "      <th>1</th>\n",
       "      <td>fiddle</td>\n",
       "      <td>old-time</td>\n",
       "    </tr>\n",
       "    <tr>\n",
       "      <th>2</th>\n",
       "      <td>guitar</td>\n",
       "      <td>bluegrass</td>\n",
       "    </tr>\n",
       "    <tr>\n",
       "      <th>3</th>\n",
       "      <td>bass</td>\n",
       "      <td>old-time</td>\n",
       "    </tr>\n",
       "    <tr>\n",
       "      <th>4</th>\n",
       "      <td>bass</td>\n",
       "      <td>bluegrass</td>\n",
       "    </tr>\n",
       "    <tr>\n",
       "      <th>5</th>\n",
       "      <td>dobro</td>\n",
       "      <td>bluegrass</td>\n",
       "    </tr>\n",
       "    <tr>\n",
       "      <th>6</th>\n",
       "      <td>guitar</td>\n",
       "      <td>blues</td>\n",
       "    </tr>\n",
       "    <tr>\n",
       "      <th>7</th>\n",
       "      <td>guitar</td>\n",
       "      <td>bluegrass</td>\n",
       "    </tr>\n",
       "    <tr>\n",
       "      <th>8</th>\n",
       "      <td>mandolin</td>\n",
       "      <td>old-time</td>\n",
       "    </tr>\n",
       "    <tr>\n",
       "      <th>9</th>\n",
       "      <td>guitar</td>\n",
       "      <td>old-time</td>\n",
       "    </tr>\n",
       "  </tbody>\n",
       "</table>\n",
       "</div>"
      ],
      "text/plain": [
       "         instrument      genre\n",
       "musician                      \n",
       "0             banjo  bluegrass\n",
       "1            fiddle   old-time\n",
       "2            guitar  bluegrass\n",
       "3              bass   old-time\n",
       "4              bass  bluegrass\n",
       "5             dobro  bluegrass\n",
       "6            guitar      blues\n",
       "7            guitar  bluegrass\n",
       "8          mandolin   old-time\n",
       "9            guitar   old-time"
      ]
     },
     "execution_count": 27,
     "metadata": {},
     "output_type": "execute_result"
    }
   ],
   "source": [
    "# where instrument equals accordion, genre equals ITM, etc\n",
    "df.loc[df['instrument'] == 'accordion', 'genre'] = 'ITM'  \n",
    "df.loc[df['instrument'] == 'concertina', 'genre'] = 'ITM'  \n",
    "df.loc[df['instrument'] == 'guitar', 'genre'] = guitar1\n",
    "df.loc[df['instrument'] == 'bass', 'genre'] = bass1  \n",
    "df.loc[df['instrument'] == 'mandolin', 'genre'] = mandolin1  \n",
    "df.loc[df['instrument'] == 'banjo', 'genre'] = banjo1\n",
    "df.loc[df['instrument'] == 'uilleann_pipes', 'genre'] = 'ITM'  \n",
    "df.loc[df['instrument'] == 'flute', 'genre'] = 'ITM'  \n",
    "df.loc[df['instrument'] == 'bodhrán', 'genre'] = 'ITM'\n",
    "df.loc[df['instrument'] == 'keyboard', 'genre'] = 'blues'\n",
    "df.loc[df['instrument'] == 'drums', 'genre'] = 'blues'\n",
    "df.loc[df['instrument'] == 'fiddle', 'genre'] = fiddle1\n",
    "df.loc[df['instrument'] == 'dobro', 'genre'] = 'bluegrass'\n",
    "\n",
    "# have a look\n",
    "df.head(10)"
   ]
  },
  {
   "cell_type": "markdown",
   "id": "29d03275-402a-4de7-ab75-8c8d20a69662",
   "metadata": {},
   "source": [
    "Seems fine!"
   ]
  },
  {
   "cell_type": "markdown",
   "id": "51d663b6-c259-4097-a8f7-d71559f4511c",
   "metadata": {},
   "source": [
    "<br>\n",
    "\n",
    "---\n",
    "#### **Ability**   \n",
    "---\n",
    "\n",
    "We're going to go with a binary approach here - intermediate or advanced as in reality there are no beginners at these sessions. Ability isn't dependent on anything else - there are good and bad (less good!) in all genres, and age-groups, and each genre is performed to a similar level.  \n",
    "We're using a similar method to above with `random.choice` and `pandas.Series`. We're assuming that half of the musicians are 'decent' and the other half are 'legends' so this will be a bit simpler."
   ]
  },
  {
   "cell_type": "code",
   "execution_count": 28,
   "id": "92514733-be3b-4a11-a6ef-1c4fc947b3f1",
   "metadata": {},
   "outputs": [],
   "source": [
    "# create a list of ramdom choices for decent and legend\n",
    "ability = pd.Series(random.choices(['decent','legend'], weights=[1, 1], k=len(df)))"
   ]
  },
  {
   "cell_type": "code",
   "execution_count": 29,
   "id": "b7f6a2ee-73b6-4c1f-ae86-6df4ea752aed",
   "metadata": {},
   "outputs": [
    {
     "data": {
      "text/html": [
       "<div>\n",
       "<style scoped>\n",
       "    .dataframe tbody tr th:only-of-type {\n",
       "        vertical-align: middle;\n",
       "    }\n",
       "\n",
       "    .dataframe tbody tr th {\n",
       "        vertical-align: top;\n",
       "    }\n",
       "\n",
       "    .dataframe thead th {\n",
       "        text-align: right;\n",
       "    }\n",
       "</style>\n",
       "<table border=\"1\" class=\"dataframe\">\n",
       "  <thead>\n",
       "    <tr style=\"text-align: right;\">\n",
       "      <th></th>\n",
       "      <th>instrument</th>\n",
       "      <th>genre</th>\n",
       "      <th>ability</th>\n",
       "    </tr>\n",
       "    <tr>\n",
       "      <th>musician</th>\n",
       "      <th></th>\n",
       "      <th></th>\n",
       "      <th></th>\n",
       "    </tr>\n",
       "  </thead>\n",
       "  <tbody>\n",
       "    <tr>\n",
       "      <th>0</th>\n",
       "      <td>banjo</td>\n",
       "      <td>bluegrass</td>\n",
       "      <td>legend</td>\n",
       "    </tr>\n",
       "    <tr>\n",
       "      <th>1</th>\n",
       "      <td>fiddle</td>\n",
       "      <td>old-time</td>\n",
       "      <td>decent</td>\n",
       "    </tr>\n",
       "    <tr>\n",
       "      <th>2</th>\n",
       "      <td>guitar</td>\n",
       "      <td>bluegrass</td>\n",
       "      <td>decent</td>\n",
       "    </tr>\n",
       "    <tr>\n",
       "      <th>3</th>\n",
       "      <td>bass</td>\n",
       "      <td>old-time</td>\n",
       "      <td>decent</td>\n",
       "    </tr>\n",
       "    <tr>\n",
       "      <th>4</th>\n",
       "      <td>bass</td>\n",
       "      <td>bluegrass</td>\n",
       "      <td>legend</td>\n",
       "    </tr>\n",
       "    <tr>\n",
       "      <th>5</th>\n",
       "      <td>dobro</td>\n",
       "      <td>bluegrass</td>\n",
       "      <td>decent</td>\n",
       "    </tr>\n",
       "    <tr>\n",
       "      <th>6</th>\n",
       "      <td>guitar</td>\n",
       "      <td>blues</td>\n",
       "      <td>decent</td>\n",
       "    </tr>\n",
       "    <tr>\n",
       "      <th>7</th>\n",
       "      <td>guitar</td>\n",
       "      <td>bluegrass</td>\n",
       "      <td>decent</td>\n",
       "    </tr>\n",
       "    <tr>\n",
       "      <th>8</th>\n",
       "      <td>mandolin</td>\n",
       "      <td>old-time</td>\n",
       "      <td>decent</td>\n",
       "    </tr>\n",
       "    <tr>\n",
       "      <th>9</th>\n",
       "      <td>guitar</td>\n",
       "      <td>old-time</td>\n",
       "      <td>decent</td>\n",
       "    </tr>\n",
       "  </tbody>\n",
       "</table>\n",
       "</div>"
      ],
      "text/plain": [
       "         instrument      genre ability\n",
       "musician                              \n",
       "0             banjo  bluegrass  legend\n",
       "1            fiddle   old-time  decent\n",
       "2            guitar  bluegrass  decent\n",
       "3              bass   old-time  decent\n",
       "4              bass  bluegrass  legend\n",
       "5             dobro  bluegrass  decent\n",
       "6            guitar      blues  decent\n",
       "7            guitar  bluegrass  decent\n",
       "8          mandolin   old-time  decent\n",
       "9            guitar   old-time  decent"
      ]
     },
     "execution_count": 29,
     "metadata": {},
     "output_type": "execute_result"
    }
   ],
   "source": [
    "# add new column to table\n",
    "df['ability'] = ability.tolist()\n",
    "\n",
    "# have a look\n",
    "df.head(10)"
   ]
  },
  {
   "cell_type": "markdown",
   "id": "1ad8d7c7-27e5-409b-9e0a-08e57fcaddea",
   "metadata": {},
   "source": [
    "<br>\n",
    "\n",
    "---\n",
    "#### **Age**  \n",
    "---\n",
    "\n",
    "I had thought about actual ages here, but it would be completely random and difficult to produce anything very convincing. So I decided to break it into age brackets - I've given them names but they could equally have been numeric ranges.\n",
    "We're going to have 3 age-groups - 'whizz kids', 'grown-ups', and 'old-heads'. The breakdown is going to be skewed towards the outer 2 ranges. Data type will be string."
   ]
  },
  {
   "cell_type": "code",
   "execution_count": 30,
   "id": "69a76964-011b-49fd-b42a-ce7b1a851acf",
   "metadata": {},
   "outputs": [],
   "source": [
    "# create the age_group variable\n",
    "age_group = ['whizz_kid', 'grown-up', 'old-head']"
   ]
  },
  {
   "cell_type": "code",
   "execution_count": 31,
   "id": "08519b51-7b6c-47ad-ae5e-e4f8a11275e5",
   "metadata": {},
   "outputs": [],
   "source": [
    "# create new list\n",
    "age_group = rng.choice(age_group, p=[0.4, 0.2, 0.4], size=y)"
   ]
  },
  {
   "cell_type": "code",
   "execution_count": 32,
   "id": "0bd5c66c-8665-472b-a853-74b3f3dbc092",
   "metadata": {},
   "outputs": [
    {
     "data": {
      "text/html": [
       "<div>\n",
       "<style scoped>\n",
       "    .dataframe tbody tr th:only-of-type {\n",
       "        vertical-align: middle;\n",
       "    }\n",
       "\n",
       "    .dataframe tbody tr th {\n",
       "        vertical-align: top;\n",
       "    }\n",
       "\n",
       "    .dataframe thead th {\n",
       "        text-align: right;\n",
       "    }\n",
       "</style>\n",
       "<table border=\"1\" class=\"dataframe\">\n",
       "  <thead>\n",
       "    <tr style=\"text-align: right;\">\n",
       "      <th></th>\n",
       "      <th>instrument</th>\n",
       "      <th>genre</th>\n",
       "      <th>ability</th>\n",
       "      <th>age_group</th>\n",
       "    </tr>\n",
       "    <tr>\n",
       "      <th>musician</th>\n",
       "      <th></th>\n",
       "      <th></th>\n",
       "      <th></th>\n",
       "      <th></th>\n",
       "    </tr>\n",
       "  </thead>\n",
       "  <tbody>\n",
       "    <tr>\n",
       "      <th>0</th>\n",
       "      <td>banjo</td>\n",
       "      <td>bluegrass</td>\n",
       "      <td>legend</td>\n",
       "      <td>old-head</td>\n",
       "    </tr>\n",
       "    <tr>\n",
       "      <th>1</th>\n",
       "      <td>fiddle</td>\n",
       "      <td>old-time</td>\n",
       "      <td>decent</td>\n",
       "      <td>whizz_kid</td>\n",
       "    </tr>\n",
       "    <tr>\n",
       "      <th>2</th>\n",
       "      <td>guitar</td>\n",
       "      <td>bluegrass</td>\n",
       "      <td>decent</td>\n",
       "      <td>grown-up</td>\n",
       "    </tr>\n",
       "    <tr>\n",
       "      <th>3</th>\n",
       "      <td>bass</td>\n",
       "      <td>old-time</td>\n",
       "      <td>decent</td>\n",
       "      <td>whizz_kid</td>\n",
       "    </tr>\n",
       "    <tr>\n",
       "      <th>4</th>\n",
       "      <td>bass</td>\n",
       "      <td>bluegrass</td>\n",
       "      <td>legend</td>\n",
       "      <td>whizz_kid</td>\n",
       "    </tr>\n",
       "    <tr>\n",
       "      <th>5</th>\n",
       "      <td>dobro</td>\n",
       "      <td>bluegrass</td>\n",
       "      <td>decent</td>\n",
       "      <td>old-head</td>\n",
       "    </tr>\n",
       "    <tr>\n",
       "      <th>6</th>\n",
       "      <td>guitar</td>\n",
       "      <td>blues</td>\n",
       "      <td>decent</td>\n",
       "      <td>whizz_kid</td>\n",
       "    </tr>\n",
       "    <tr>\n",
       "      <th>7</th>\n",
       "      <td>guitar</td>\n",
       "      <td>bluegrass</td>\n",
       "      <td>decent</td>\n",
       "      <td>old-head</td>\n",
       "    </tr>\n",
       "    <tr>\n",
       "      <th>8</th>\n",
       "      <td>mandolin</td>\n",
       "      <td>old-time</td>\n",
       "      <td>decent</td>\n",
       "      <td>grown-up</td>\n",
       "    </tr>\n",
       "    <tr>\n",
       "      <th>9</th>\n",
       "      <td>guitar</td>\n",
       "      <td>old-time</td>\n",
       "      <td>decent</td>\n",
       "      <td>grown-up</td>\n",
       "    </tr>\n",
       "  </tbody>\n",
       "</table>\n",
       "</div>"
      ],
      "text/plain": [
       "         instrument      genre ability  age_group\n",
       "musician                                         \n",
       "0             banjo  bluegrass  legend   old-head\n",
       "1            fiddle   old-time  decent  whizz_kid\n",
       "2            guitar  bluegrass  decent   grown-up\n",
       "3              bass   old-time  decent  whizz_kid\n",
       "4              bass  bluegrass  legend  whizz_kid\n",
       "5             dobro  bluegrass  decent   old-head\n",
       "6            guitar      blues  decent  whizz_kid\n",
       "7            guitar  bluegrass  decent   old-head\n",
       "8          mandolin   old-time  decent   grown-up\n",
       "9            guitar   old-time  decent   grown-up"
      ]
     },
     "execution_count": 32,
     "metadata": {},
     "output_type": "execute_result"
    }
   ],
   "source": [
    "# add new column to dataframe\n",
    "df['age_group'] = age_group.tolist()\n",
    "\n",
    "# have a look\n",
    "df.head(10)"
   ]
  },
  {
   "cell_type": "markdown",
   "id": "ff1acd04-f40b-4673-a811-64f035e606bf",
   "metadata": {},
   "source": [
    "<br>\n",
    "\n",
    "---\n",
    "#### **Paid**  \n",
    "---\n",
    "\n",
    "There are at least 3 musicians getting paid each night, one of whom is always a guitar player. There are 30 sessions, so I need to pick 90 at random to get paid of which 30 need to be guitar players! There are only going to be 30 paid guitar players in total as there wouldn't be two guitarists getting paid on the same night, so I'll extract a random sample of 30 guitar players. For the remaining 60 I'm going to choose the better ability musicians and 'old-heads'. \n",
    "\n",
    "First we check how many guitarists we have in total:"
   ]
  },
  {
   "cell_type": "code",
   "execution_count": 33,
   "id": "b9a29092-1e4f-4895-9332-48a4142344ed",
   "metadata": {},
   "outputs": [
    {
     "data": {
      "text/plain": [
       "instrument    46\n",
       "genre         46\n",
       "ability       46\n",
       "age_group     46\n",
       "dtype: int64"
      ]
     },
     "execution_count": 33,
     "metadata": {},
     "output_type": "execute_result"
    }
   ],
   "source": [
    "# how many guitar players\n",
    "df[df['instrument']=='guitar'].count()"
   ]
  },
  {
   "cell_type": "markdown",
   "id": "bd409d5d-ee60-4d61-a52b-687ba0ea0881",
   "metadata": {},
   "source": [
    "We need to choose 30 of those to get paid. we use `.sample()` method for this and create a new dataframe with the result."
   ]
  },
  {
   "cell_type": "code",
   "execution_count": 34,
   "id": "96afae95-9f3f-4722-9e93-37ad519b5483",
   "metadata": {},
   "outputs": [],
   "source": [
    "# choose 30 guitarists and save in a new dataframe\n",
    "df1 = df[df['instrument']=='guitar'].sample(n = 30)\n",
    "\n",
    "# create new column with paid guitarists\n",
    "df1['paid'] = 'yes'"
   ]
  },
  {
   "cell_type": "markdown",
   "id": "515f2d0f-d79e-478e-8fff-f0b9ad18e884",
   "metadata": {},
   "source": [
    "We need to choose around 60 non-guitarists to get paid. We have a preference for legends and old-heads."
   ]
  },
  {
   "cell_type": "code",
   "execution_count": 35,
   "id": "9b8b3c14-bb09-404e-8fa9-b387c98324f5",
   "metadata": {
    "tags": []
   },
   "outputs": [
    {
     "name": "stdout",
     "output_type": "stream",
     "text": [
      "<class 'pandas.core.frame.DataFrame'>\n",
      "Int64Index: 66 entries, 0 to 145\n",
      "Data columns (total 4 columns):\n",
      " #   Column      Non-Null Count  Dtype \n",
      "---  ------      --------------  ----- \n",
      " 0   instrument  66 non-null     object\n",
      " 1   genre       66 non-null     object\n",
      " 2   ability     66 non-null     object\n",
      " 3   age_group   66 non-null     object\n",
      "dtypes: object(4)\n",
      "memory usage: 2.6+ KB\n"
     ]
    }
   ],
   "source": [
    "# create a new dataframe with just the non-guitarists\n",
    "df2 = df[df['instrument']!='guitar']\n",
    "\n",
    "# filter to leave only legends and old-heads\n",
    "df2 = df2[(df2['ability']=='legend') | (df2['age_group']=='old-head')]\n",
    "\n",
    "# have a look at the overview\n",
    "df2.info()"
   ]
  },
  {
   "cell_type": "markdown",
   "id": "8718b931-38ab-43f6-9c28-49adf658419c",
   "metadata": {},
   "source": [
    "Looks like we have enough to make this work so we label all of these musicians as 'paid'. It doesn't matter if we have slightly more than 60 as some nights there can be more than 3 people getting paid."
   ]
  },
  {
   "cell_type": "code",
   "execution_count": 36,
   "id": "ac420a52-3bc5-401f-ba8a-acb57c0f75ba",
   "metadata": {},
   "outputs": [],
   "source": [
    "# create a new column with paid and fill with 'yes'\n",
    "df2['paid'] = 'yes'"
   ]
  },
  {
   "cell_type": "markdown",
   "id": "1c724960-f360-4b26-b33b-da590540b2b1",
   "metadata": {},
   "source": [
    "We revisit the original dataframe and create a new column 'paid' and fill it with NaN values."
   ]
  },
  {
   "cell_type": "code",
   "execution_count": 37,
   "id": "c2b8b721-8a4f-4344-9b0e-c9da3362d9cb",
   "metadata": {
    "tags": []
   },
   "outputs": [],
   "source": [
    "# fill in the paid column with Nan values\n",
    "df['paid'] = np.nan"
   ]
  },
  {
   "cell_type": "markdown",
   "id": "785ff7c5-5138-4f5b-87e6-70fd7152c8e7",
   "metadata": {},
   "source": [
    "We then concatenate the 3 dataframes."
   ]
  },
  {
   "cell_type": "code",
   "execution_count": 38,
   "id": "8f40e8b6-b55d-4f76-88f4-9e7705fedfde",
   "metadata": {
    "tags": []
   },
   "outputs": [],
   "source": [
    "# combine the 3 dataframes\n",
    "dfNew = pd.concat([df, df1, df2], axis=0)"
   ]
  },
  {
   "cell_type": "markdown",
   "id": "ca29a055-8028-4e2e-bddb-44430eb1609e",
   "metadata": {},
   "source": [
    "Sort the order."
   ]
  },
  {
   "cell_type": "code",
   "execution_count": 39,
   "id": "6b541d49-5c27-491e-b976-2f9804c95050",
   "metadata": {},
   "outputs": [],
   "source": [
    "# sort the dataframe\n",
    "df = dfNew.sort_values(by=['musician', 'paid'])"
   ]
  },
  {
   "cell_type": "markdown",
   "id": "1785b58f-3464-4be7-bfad-15324c091908",
   "metadata": {},
   "source": [
    "Drop the duplicated rows, keeping the first."
   ]
  },
  {
   "cell_type": "code",
   "execution_count": 40,
   "id": "6761fda3-847f-4a8a-bd19-2ccef09afad1",
   "metadata": {},
   "outputs": [],
   "source": [
    "# drop duplicated rows\n",
    "df = df[~df.index.duplicated(keep='first')]"
   ]
  },
  {
   "cell_type": "markdown",
   "id": "2ff4bb32-c8f7-4217-99f7-3f25f087f224",
   "metadata": {},
   "source": [
    "Then fill in at the remaining `NaN` values with 'no'."
   ]
  },
  {
   "cell_type": "code",
   "execution_count": 41,
   "id": "65efb123-caa1-46fb-a745-6669c80c52f1",
   "metadata": {},
   "outputs": [],
   "source": [
    "# fill in Nan values with 'no'\n",
    "df = df.fillna('no')"
   ]
  },
  {
   "cell_type": "markdown",
   "id": "a50a220b-a29e-4792-a0b4-1516263d0dcd",
   "metadata": {},
   "source": [
    "We have a look at the value counts of paid and non-paid just to check."
   ]
  },
  {
   "cell_type": "code",
   "execution_count": 42,
   "id": "ce324252-a1c1-412e-b9ed-08cb410016cd",
   "metadata": {
    "tags": []
   },
   "outputs": [
    {
     "data": {
      "text/plain": [
       "yes    96\n",
       "no     50\n",
       "Name: paid, dtype: int64"
      ]
     },
     "execution_count": 42,
     "metadata": {},
     "output_type": "execute_result"
    }
   ],
   "source": [
    "# have a look at quantities of paid and non-paid\n",
    "df['paid'].value_counts()"
   ]
  },
  {
   "cell_type": "markdown",
   "id": "fbe65fde-e5d8-4e1f-8b37-d7e83456bb55",
   "metadata": {},
   "source": [
    "All good! And then a look at the newly updated dataframe."
   ]
  },
  {
   "cell_type": "code",
   "execution_count": 43,
   "id": "4c8cb125-2071-48ae-8909-e8aeb5cce1a7",
   "metadata": {},
   "outputs": [
    {
     "data": {
      "text/html": [
       "<div>\n",
       "<style scoped>\n",
       "    .dataframe tbody tr th:only-of-type {\n",
       "        vertical-align: middle;\n",
       "    }\n",
       "\n",
       "    .dataframe tbody tr th {\n",
       "        vertical-align: top;\n",
       "    }\n",
       "\n",
       "    .dataframe thead th {\n",
       "        text-align: right;\n",
       "    }\n",
       "</style>\n",
       "<table border=\"1\" class=\"dataframe\">\n",
       "  <thead>\n",
       "    <tr style=\"text-align: right;\">\n",
       "      <th></th>\n",
       "      <th>instrument</th>\n",
       "      <th>genre</th>\n",
       "      <th>ability</th>\n",
       "      <th>age_group</th>\n",
       "      <th>paid</th>\n",
       "    </tr>\n",
       "    <tr>\n",
       "      <th>musician</th>\n",
       "      <th></th>\n",
       "      <th></th>\n",
       "      <th></th>\n",
       "      <th></th>\n",
       "      <th></th>\n",
       "    </tr>\n",
       "  </thead>\n",
       "  <tbody>\n",
       "    <tr>\n",
       "      <th>0</th>\n",
       "      <td>banjo</td>\n",
       "      <td>bluegrass</td>\n",
       "      <td>legend</td>\n",
       "      <td>old-head</td>\n",
       "      <td>yes</td>\n",
       "    </tr>\n",
       "    <tr>\n",
       "      <th>1</th>\n",
       "      <td>fiddle</td>\n",
       "      <td>old-time</td>\n",
       "      <td>decent</td>\n",
       "      <td>whizz_kid</td>\n",
       "      <td>no</td>\n",
       "    </tr>\n",
       "    <tr>\n",
       "      <th>2</th>\n",
       "      <td>guitar</td>\n",
       "      <td>bluegrass</td>\n",
       "      <td>decent</td>\n",
       "      <td>grown-up</td>\n",
       "      <td>yes</td>\n",
       "    </tr>\n",
       "    <tr>\n",
       "      <th>3</th>\n",
       "      <td>bass</td>\n",
       "      <td>old-time</td>\n",
       "      <td>decent</td>\n",
       "      <td>whizz_kid</td>\n",
       "      <td>no</td>\n",
       "    </tr>\n",
       "    <tr>\n",
       "      <th>4</th>\n",
       "      <td>bass</td>\n",
       "      <td>bluegrass</td>\n",
       "      <td>legend</td>\n",
       "      <td>whizz_kid</td>\n",
       "      <td>yes</td>\n",
       "    </tr>\n",
       "  </tbody>\n",
       "</table>\n",
       "</div>"
      ],
      "text/plain": [
       "         instrument      genre ability  age_group paid\n",
       "musician                                              \n",
       "0             banjo  bluegrass  legend   old-head  yes\n",
       "1            fiddle   old-time  decent  whizz_kid   no\n",
       "2            guitar  bluegrass  decent   grown-up  yes\n",
       "3              bass   old-time  decent  whizz_kid   no\n",
       "4              bass  bluegrass  legend  whizz_kid  yes"
      ]
     },
     "execution_count": 43,
     "metadata": {},
     "output_type": "execute_result"
    }
   ],
   "source": [
    "# have a look\n",
    "df.head()"
   ]
  },
  {
   "cell_type": "markdown",
   "id": "74a57462-c4f7-4adc-826e-621bb94c684a",
   "metadata": {},
   "source": [
    "All OK!"
   ]
  },
  {
   "cell_type": "markdown",
   "id": "3bce4549-c240-4a82-bb50-c1d227943659",
   "metadata": {},
   "source": [
    "<br>\n",
    "\n",
    "---\n",
    "#### **Gender**  \n",
    "---\n",
    "\n",
    "Unfortunately the gender is way off the charts in this place! Maybe 20% women max! I can use the same code as for ability above and just skew it towards men. I'll also include 'other' - according to https://en.wikipedia.org/wiki/Intersex#Population_figures this makes up 0.02% to 0.05% of the world's population."
   ]
  },
  {
   "cell_type": "code",
   "execution_count": 44,
   "id": "83562784-3a10-480b-acd9-2f30ec72d1b1",
   "metadata": {},
   "outputs": [
    {
     "data": {
      "text/html": [
       "<div>\n",
       "<style scoped>\n",
       "    .dataframe tbody tr th:only-of-type {\n",
       "        vertical-align: middle;\n",
       "    }\n",
       "\n",
       "    .dataframe tbody tr th {\n",
       "        vertical-align: top;\n",
       "    }\n",
       "\n",
       "    .dataframe thead th {\n",
       "        text-align: right;\n",
       "    }\n",
       "</style>\n",
       "<table border=\"1\" class=\"dataframe\">\n",
       "  <thead>\n",
       "    <tr style=\"text-align: right;\">\n",
       "      <th></th>\n",
       "      <th>instrument</th>\n",
       "      <th>genre</th>\n",
       "      <th>ability</th>\n",
       "      <th>age_group</th>\n",
       "      <th>paid</th>\n",
       "      <th>gender</th>\n",
       "    </tr>\n",
       "    <tr>\n",
       "      <th>musician</th>\n",
       "      <th></th>\n",
       "      <th></th>\n",
       "      <th></th>\n",
       "      <th></th>\n",
       "      <th></th>\n",
       "      <th></th>\n",
       "    </tr>\n",
       "  </thead>\n",
       "  <tbody>\n",
       "    <tr>\n",
       "      <th>0</th>\n",
       "      <td>banjo</td>\n",
       "      <td>bluegrass</td>\n",
       "      <td>legend</td>\n",
       "      <td>old-head</td>\n",
       "      <td>yes</td>\n",
       "      <td>male</td>\n",
       "    </tr>\n",
       "    <tr>\n",
       "      <th>1</th>\n",
       "      <td>fiddle</td>\n",
       "      <td>old-time</td>\n",
       "      <td>decent</td>\n",
       "      <td>whizz_kid</td>\n",
       "      <td>no</td>\n",
       "      <td>male</td>\n",
       "    </tr>\n",
       "    <tr>\n",
       "      <th>2</th>\n",
       "      <td>guitar</td>\n",
       "      <td>bluegrass</td>\n",
       "      <td>decent</td>\n",
       "      <td>grown-up</td>\n",
       "      <td>yes</td>\n",
       "      <td>female</td>\n",
       "    </tr>\n",
       "    <tr>\n",
       "      <th>3</th>\n",
       "      <td>bass</td>\n",
       "      <td>old-time</td>\n",
       "      <td>decent</td>\n",
       "      <td>whizz_kid</td>\n",
       "      <td>no</td>\n",
       "      <td>male</td>\n",
       "    </tr>\n",
       "    <tr>\n",
       "      <th>4</th>\n",
       "      <td>bass</td>\n",
       "      <td>bluegrass</td>\n",
       "      <td>legend</td>\n",
       "      <td>whizz_kid</td>\n",
       "      <td>yes</td>\n",
       "      <td>male</td>\n",
       "    </tr>\n",
       "  </tbody>\n",
       "</table>\n",
       "</div>"
      ],
      "text/plain": [
       "         instrument      genre ability  age_group paid  gender\n",
       "musician                                                      \n",
       "0             banjo  bluegrass  legend   old-head  yes    male\n",
       "1            fiddle   old-time  decent  whizz_kid   no    male\n",
       "2            guitar  bluegrass  decent   grown-up  yes  female\n",
       "3              bass   old-time  decent  whizz_kid   no    male\n",
       "4              bass  bluegrass  legend  whizz_kid  yes    male"
      ]
     },
     "execution_count": 44,
     "metadata": {},
     "output_type": "execute_result"
    }
   ],
   "source": [
    "# create a list of genders\n",
    "genders = ['male', 'female', 'other']\n",
    "\n",
    "# choose a random list of genders\n",
    "gender = rng.choice(genders, y, p=[0.765, 0.2, 0.035])\n",
    "\n",
    "# create new gender column\n",
    "df['gender'] = gender.tolist()\n",
    "\n",
    "# have a look\n",
    "df.head()"
   ]
  },
  {
   "cell_type": "markdown",
   "id": "1541529e-6de5-4f0c-b0d2-c7acda3ad57d",
   "metadata": {},
   "source": [
    "<br>\n",
    "\n",
    "---\n",
    "#### **Repertoire**\n",
    "---\n",
    "\n",
    "The code I used earlier in the notebook gave me a good spread of numbers which I'd like to maintain, but it needs to be related to some of the other variables. The older and better musicians will know more tunes, younger and less able will know less tunes, and genres other than ITM will also have a much smaller repertoire.\n",
    "I will use code related to the 'paid' column code above and create separate dataframes for each of these subgroups and then concatenate them together. So the groups will be:\n",
    "1. ITM, old-head and legend - very big repertoire (1500 tunes average)\n",
    "2. ITM, whizz-kid and decent - considerably less (400 average)\n",
    "3. ITM, grown-up - somewhere inbetween (800 average)\n",
    "4. ITM, old-head, and decent - somewhere inbetween (700 average)\n",
    "5. ITM, whizz-kid, and legend - somewhere inbetween (600 average)\n",
    "6. Other genres old-head - much less than ITM (300 average)\n",
    "7. all others - less again (100 average)"
   ]
  },
  {
   "cell_type": "code",
   "execution_count": 45,
   "id": "5cd4f83c-7478-4142-a007-53bab99503cd",
   "metadata": {},
   "outputs": [],
   "source": [
    "# isolate groups\n",
    "# old-head, ITM and legend\n",
    "group1 = df[df['age_group']=='old-head']\n",
    "group1 = group1[group1['genre']=='ITM']\n",
    "group1 = group1[group1['ability']=='legend']"
   ]
  },
  {
   "cell_type": "code",
   "execution_count": 46,
   "id": "24e58555-9acb-4eb1-bb08-12baec291fbd",
   "metadata": {},
   "outputs": [],
   "source": [
    "# ITM, whizz-kid and decent\n",
    "group2 = df[df['age_group']=='whizz_kid']\n",
    "group2 = group2[group2['genre']=='ITM']\n",
    "group2 = group2[group2['ability']=='decent']"
   ]
  },
  {
   "cell_type": "code",
   "execution_count": 47,
   "id": "c25d75fc-ae31-4a29-9fb3-1297439721d1",
   "metadata": {},
   "outputs": [],
   "source": [
    "# # ITM grown-ups\n",
    "group3 = df[df['genre']=='ITM']\n",
    "group3 = group3[group3['age_group']=='grown-up']"
   ]
  },
  {
   "cell_type": "code",
   "execution_count": 48,
   "id": "919a8d6a-611e-4d63-918e-85a672c7551b",
   "metadata": {},
   "outputs": [],
   "source": [
    "# Other genres old-head\n",
    "group4 = df[df['genre']!='ITM']\n",
    "group4 = group4[group4['age_group']=='old-head']"
   ]
  },
  {
   "cell_type": "code",
   "execution_count": 49,
   "id": "3270434d-13ef-4c09-b611-d48f1cd6266a",
   "metadata": {},
   "outputs": [],
   "source": [
    "# Other genres not old-head\n",
    "group5 = df[df['genre']!='ITM']\n",
    "group5 = group5[group5['age_group']!='old-head']"
   ]
  },
  {
   "cell_type": "code",
   "execution_count": 50,
   "id": "b14bc447-cf57-4a75-ae3c-3ea56d553a51",
   "metadata": {},
   "outputs": [],
   "source": [
    "# old-head, ITM and decent\n",
    "group6 = df[df['age_group']=='old-head']\n",
    "group6 = group6[group6['genre']=='ITM']\n",
    "group6 = group6[group6['ability']=='decent']"
   ]
  },
  {
   "cell_type": "code",
   "execution_count": 51,
   "id": "8b189271-c16e-4bd5-a6c7-2b7de8db426e",
   "metadata": {},
   "outputs": [],
   "source": [
    "# ITM, whizz_kid, legend\n",
    "group7 = df[df['age_group']=='whizz_kid']\n",
    "group7 = group7[group7['genre']=='ITM']\n",
    "group7 = group7[group7['ability']=='legend']"
   ]
  },
  {
   "cell_type": "markdown",
   "id": "c3faf881-45a3-4b1b-ac51-5e3f1d92a882",
   "metadata": {},
   "source": [
    "<br>\n",
    "\n",
    "So for group 1 (ITM, old-head and legend), I will use the parameters as above."
   ]
  },
  {
   "cell_type": "code",
   "execution_count": 52,
   "id": "285dff32-51b7-4956-a7bf-75a91b1c23d2",
   "metadata": {},
   "outputs": [],
   "source": [
    "# get size of group1\n",
    "x = group1['instrument'].count()"
   ]
  },
  {
   "cell_type": "code",
   "execution_count": 53,
   "id": "f732771a-c3b3-4fbf-9909-40a8068be026",
   "metadata": {
    "tags": []
   },
   "outputs": [],
   "source": [
    "# normally distributed array\n",
    "repertoire1 = rng.normal(loc=1500, scale=600, size = x)\n",
    "\n",
    "# convert to int\n",
    "repertoire1 = repertoire1.astype(int)\n",
    "\n",
    "# convert to list and add to dataframe as new column\n",
    "group1['repertoire'] = repertoire1.tolist()\n",
    "\n",
    "# uncomment to have a look\n",
    "# group1.head()"
   ]
  },
  {
   "cell_type": "markdown",
   "id": "1d3aa739-fe40-44fe-b924-8560f55b5ced",
   "metadata": {},
   "source": [
    "<br>\n",
    "\n",
    "For group 2 (ITM, whizz_kid and decent), I will change the parameters to a much lower `loc` and `scale`."
   ]
  },
  {
   "cell_type": "code",
   "execution_count": 54,
   "id": "49ab8b9d-f038-43ce-90e9-f5f41b5402ac",
   "metadata": {},
   "outputs": [],
   "source": [
    "# get size of group2\n",
    "x = group2['instrument'].count()\n",
    "\n",
    "# normally distributed array\n",
    "repertoire1 = rng.normal(loc=400, scale=200, size = x)\n",
    "\n",
    "# convert to int\n",
    "repertoire1 = repertoire1.astype(int)\n",
    "\n",
    "# convert to list and add to dataframe as new column\n",
    "group2['repertoire'] = repertoire1.tolist()\n",
    "\n",
    "# uncomment to have a look\n",
    "# group2.head()"
   ]
  },
  {
   "cell_type": "markdown",
   "id": "5ece34d2-e996-4e24-82e3-3542fac25204",
   "metadata": {},
   "source": [
    "Group 3"
   ]
  },
  {
   "cell_type": "code",
   "execution_count": 55,
   "id": "9f19faf1-3a50-4cfd-a894-41a0e8b6273e",
   "metadata": {},
   "outputs": [],
   "source": [
    "# get size of group3\n",
    "x = group3['instrument'].count()\n",
    "\n",
    "# normally distributed array\n",
    "repertoire1 = rng.normal(loc=800, scale=100, size = x)\n",
    "\n",
    "# convert to int\n",
    "repertoire1 = repertoire1.astype(int)\n",
    "\n",
    "# convert to list and add to dataframe as new column\n",
    "group3['repertoire'] = repertoire1.tolist()\n",
    "\n",
    "# uncomment to have a look\n",
    "# group3.head()"
   ]
  },
  {
   "cell_type": "markdown",
   "id": "1bb87d3a-d59b-475b-b8ca-85a6a888cb47",
   "metadata": {},
   "source": [
    "Group 4"
   ]
  },
  {
   "cell_type": "code",
   "execution_count": 56,
   "id": "5cd4d727-b8b4-4037-9651-e105eb711807",
   "metadata": {},
   "outputs": [],
   "source": [
    "# get size of group4\n",
    "x = group4['instrument'].count()\n",
    "\n",
    "# normally distributed array\n",
    "repertoire1 = rng.normal(loc=300, scale=50, size = x)\n",
    "\n",
    "# convert to int\n",
    "repertoire1 = repertoire1.astype(int)\n",
    "\n",
    "# convert to list and add to dataframe as new column\n",
    "group4['repertoire'] = repertoire1.tolist()\n",
    "\n",
    "# uncomment to have a look\n",
    "# group4.head()"
   ]
  },
  {
   "cell_type": "markdown",
   "id": "3a2066ba-30a3-47c4-b73b-25401bb77d04",
   "metadata": {},
   "source": [
    "Group 5"
   ]
  },
  {
   "cell_type": "code",
   "execution_count": 57,
   "id": "65ec0ff7-02c4-4792-933b-7acd07a3d5dc",
   "metadata": {},
   "outputs": [],
   "source": [
    "# get size of group5\n",
    "x = group5['instrument'].count()\n",
    "\n",
    "# normally distributed array\n",
    "repertoire1 = rng.normal(loc=100, scale=10, size = x)\n",
    "\n",
    "# convert to int\n",
    "repertoire1 = repertoire1.astype(int)\n",
    "\n",
    "# convert to list and add to dataframe as new column\n",
    "group5['repertoire'] = repertoire1.tolist()\n",
    "\n",
    "# uncomment to have a look\n",
    "# group5.head()"
   ]
  },
  {
   "cell_type": "markdown",
   "id": "365a3b24-a607-4bdd-8489-6598179f7855",
   "metadata": {},
   "source": [
    "Group 6"
   ]
  },
  {
   "cell_type": "code",
   "execution_count": 58,
   "id": "d2a4b5f3-780a-479c-80db-269164175743",
   "metadata": {},
   "outputs": [],
   "source": [
    "# get size of group6\n",
    "x = group6['instrument'].count()\n",
    "\n",
    "# normally distributed array\n",
    "repertoire1 = rng.normal(loc=700, scale=100, size = x)\n",
    "\n",
    "# convert to int\n",
    "repertoire1 = repertoire1.astype(int)\n",
    "\n",
    "# convert to list and add to dataframe as new column\n",
    "group6['repertoire'] = repertoire1.tolist()\n",
    "\n",
    "# uncomment to have a look\n",
    "# group6.head()"
   ]
  },
  {
   "cell_type": "markdown",
   "id": "43e2f567-8722-4d5c-99cb-b180e4c6d768",
   "metadata": {},
   "source": [
    "Group 7"
   ]
  },
  {
   "cell_type": "code",
   "execution_count": 59,
   "id": "07529831-95a0-40bc-b4a6-723ba932a5d7",
   "metadata": {},
   "outputs": [],
   "source": [
    "# get size of group7\n",
    "x = group7['instrument'].count()\n",
    "\n",
    "# normally distributed array\n",
    "repertoire1 = rng.normal(loc=600, scale=80, size = x)\n",
    "\n",
    "# convert to int\n",
    "repertoire1 = repertoire1.astype(int)\n",
    "\n",
    "# convert to list and add to dataframe as new column\n",
    "group7['repertoire'] = repertoire1.tolist()\n",
    "\n",
    "# uncomment to have a look\n",
    "# group7.head()"
   ]
  },
  {
   "cell_type": "markdown",
   "id": "c589f87a-d7f2-49bc-bb87-a9537f040d21",
   "metadata": {},
   "source": [
    "We'll create a new column in the original dataframe and fill it with zeros. We then concatenate all of the newly created dataframes together, `sort` it, and then delete the duplicated rows with zeros."
   ]
  },
  {
   "cell_type": "code",
   "execution_count": 60,
   "id": "f1851fcd-4cbf-4526-ba80-6dc2b5390139",
   "metadata": {},
   "outputs": [],
   "source": [
    "# create new column in original dataframe and fill with zeros\n",
    "df['repertoire'] = 0"
   ]
  },
  {
   "cell_type": "code",
   "execution_count": 61,
   "id": "86ab63bf-edef-48a3-926b-edfa72f9dae8",
   "metadata": {},
   "outputs": [],
   "source": [
    "# combine the dataframes\n",
    "dfNew = pd.concat([df, group1, group2, group3, group4, group5, group6, group7], axis=0)"
   ]
  },
  {
   "cell_type": "code",
   "execution_count": 62,
   "id": "3cc1124f-732f-4d43-a654-482c65efbd12",
   "metadata": {},
   "outputs": [
    {
     "data": {
      "text/html": [
       "<div>\n",
       "<style scoped>\n",
       "    .dataframe tbody tr th:only-of-type {\n",
       "        vertical-align: middle;\n",
       "    }\n",
       "\n",
       "    .dataframe tbody tr th {\n",
       "        vertical-align: top;\n",
       "    }\n",
       "\n",
       "    .dataframe thead th {\n",
       "        text-align: right;\n",
       "    }\n",
       "</style>\n",
       "<table border=\"1\" class=\"dataframe\">\n",
       "  <thead>\n",
       "    <tr style=\"text-align: right;\">\n",
       "      <th></th>\n",
       "      <th>instrument</th>\n",
       "      <th>genre</th>\n",
       "      <th>ability</th>\n",
       "      <th>age_group</th>\n",
       "      <th>paid</th>\n",
       "      <th>gender</th>\n",
       "      <th>repertoire</th>\n",
       "    </tr>\n",
       "    <tr>\n",
       "      <th>musician</th>\n",
       "      <th></th>\n",
       "      <th></th>\n",
       "      <th></th>\n",
       "      <th></th>\n",
       "      <th></th>\n",
       "      <th></th>\n",
       "      <th></th>\n",
       "    </tr>\n",
       "  </thead>\n",
       "  <tbody>\n",
       "    <tr>\n",
       "      <th>0</th>\n",
       "      <td>banjo</td>\n",
       "      <td>bluegrass</td>\n",
       "      <td>legend</td>\n",
       "      <td>old-head</td>\n",
       "      <td>yes</td>\n",
       "      <td>male</td>\n",
       "      <td>0</td>\n",
       "    </tr>\n",
       "    <tr>\n",
       "      <th>0</th>\n",
       "      <td>banjo</td>\n",
       "      <td>bluegrass</td>\n",
       "      <td>legend</td>\n",
       "      <td>old-head</td>\n",
       "      <td>yes</td>\n",
       "      <td>male</td>\n",
       "      <td>329</td>\n",
       "    </tr>\n",
       "    <tr>\n",
       "      <th>1</th>\n",
       "      <td>fiddle</td>\n",
       "      <td>old-time</td>\n",
       "      <td>decent</td>\n",
       "      <td>whizz_kid</td>\n",
       "      <td>no</td>\n",
       "      <td>male</td>\n",
       "      <td>0</td>\n",
       "    </tr>\n",
       "    <tr>\n",
       "      <th>1</th>\n",
       "      <td>fiddle</td>\n",
       "      <td>old-time</td>\n",
       "      <td>decent</td>\n",
       "      <td>whizz_kid</td>\n",
       "      <td>no</td>\n",
       "      <td>male</td>\n",
       "      <td>110</td>\n",
       "    </tr>\n",
       "    <tr>\n",
       "      <th>2</th>\n",
       "      <td>guitar</td>\n",
       "      <td>bluegrass</td>\n",
       "      <td>decent</td>\n",
       "      <td>grown-up</td>\n",
       "      <td>yes</td>\n",
       "      <td>female</td>\n",
       "      <td>0</td>\n",
       "    </tr>\n",
       "  </tbody>\n",
       "</table>\n",
       "</div>"
      ],
      "text/plain": [
       "         instrument      genre ability  age_group paid  gender  repertoire\n",
       "musician                                                                  \n",
       "0             banjo  bluegrass  legend   old-head  yes    male           0\n",
       "0             banjo  bluegrass  legend   old-head  yes    male         329\n",
       "1            fiddle   old-time  decent  whizz_kid   no    male           0\n",
       "1            fiddle   old-time  decent  whizz_kid   no    male         110\n",
       "2            guitar  bluegrass  decent   grown-up  yes  female           0"
      ]
     },
     "execution_count": 62,
     "metadata": {},
     "output_type": "execute_result"
    }
   ],
   "source": [
    "# sort the dataframe\n",
    "df = dfNew.sort_values(by=['musician', 'repertoire'])\n",
    "\n",
    "# have a look\n",
    "df.head()"
   ]
  },
  {
   "cell_type": "code",
   "execution_count": 63,
   "id": "bd310d7c-326f-4ccd-a0e3-493794613671",
   "metadata": {},
   "outputs": [
    {
     "data": {
      "text/html": [
       "<div>\n",
       "<style scoped>\n",
       "    .dataframe tbody tr th:only-of-type {\n",
       "        vertical-align: middle;\n",
       "    }\n",
       "\n",
       "    .dataframe tbody tr th {\n",
       "        vertical-align: top;\n",
       "    }\n",
       "\n",
       "    .dataframe thead th {\n",
       "        text-align: right;\n",
       "    }\n",
       "</style>\n",
       "<table border=\"1\" class=\"dataframe\">\n",
       "  <thead>\n",
       "    <tr style=\"text-align: right;\">\n",
       "      <th></th>\n",
       "      <th>instrument</th>\n",
       "      <th>genre</th>\n",
       "      <th>ability</th>\n",
       "      <th>age_group</th>\n",
       "      <th>paid</th>\n",
       "      <th>gender</th>\n",
       "      <th>repertoire</th>\n",
       "    </tr>\n",
       "    <tr>\n",
       "      <th>musician</th>\n",
       "      <th></th>\n",
       "      <th></th>\n",
       "      <th></th>\n",
       "      <th></th>\n",
       "      <th></th>\n",
       "      <th></th>\n",
       "      <th></th>\n",
       "    </tr>\n",
       "  </thead>\n",
       "  <tbody>\n",
       "    <tr>\n",
       "      <th>0</th>\n",
       "      <td>banjo</td>\n",
       "      <td>bluegrass</td>\n",
       "      <td>legend</td>\n",
       "      <td>old-head</td>\n",
       "      <td>yes</td>\n",
       "      <td>male</td>\n",
       "      <td>329</td>\n",
       "    </tr>\n",
       "    <tr>\n",
       "      <th>1</th>\n",
       "      <td>fiddle</td>\n",
       "      <td>old-time</td>\n",
       "      <td>decent</td>\n",
       "      <td>whizz_kid</td>\n",
       "      <td>no</td>\n",
       "      <td>male</td>\n",
       "      <td>110</td>\n",
       "    </tr>\n",
       "    <tr>\n",
       "      <th>2</th>\n",
       "      <td>guitar</td>\n",
       "      <td>bluegrass</td>\n",
       "      <td>decent</td>\n",
       "      <td>grown-up</td>\n",
       "      <td>yes</td>\n",
       "      <td>female</td>\n",
       "      <td>112</td>\n",
       "    </tr>\n",
       "    <tr>\n",
       "      <th>3</th>\n",
       "      <td>bass</td>\n",
       "      <td>old-time</td>\n",
       "      <td>decent</td>\n",
       "      <td>whizz_kid</td>\n",
       "      <td>no</td>\n",
       "      <td>male</td>\n",
       "      <td>116</td>\n",
       "    </tr>\n",
       "    <tr>\n",
       "      <th>4</th>\n",
       "      <td>bass</td>\n",
       "      <td>bluegrass</td>\n",
       "      <td>legend</td>\n",
       "      <td>whizz_kid</td>\n",
       "      <td>yes</td>\n",
       "      <td>male</td>\n",
       "      <td>102</td>\n",
       "    </tr>\n",
       "  </tbody>\n",
       "</table>\n",
       "</div>"
      ],
      "text/plain": [
       "         instrument      genre ability  age_group paid  gender  repertoire\n",
       "musician                                                                  \n",
       "0             banjo  bluegrass  legend   old-head  yes    male         329\n",
       "1            fiddle   old-time  decent  whizz_kid   no    male         110\n",
       "2            guitar  bluegrass  decent   grown-up  yes  female         112\n",
       "3              bass   old-time  decent  whizz_kid   no    male         116\n",
       "4              bass  bluegrass  legend  whizz_kid  yes    male         102"
      ]
     },
     "execution_count": 63,
     "metadata": {},
     "output_type": "execute_result"
    }
   ],
   "source": [
    "# drop duplicated rows\n",
    "df = df[~df.index.duplicated(keep='last')]\n",
    "\n",
    "# have a look\n",
    "df.head()"
   ]
  },
  {
   "cell_type": "markdown",
   "id": "6a45d75f-65d5-4d99-8887-58158141f7b4",
   "metadata": {},
   "source": [
    "<br>\n",
    "\n",
    "---\n",
    "#### **Drink**  \n",
    "---"
   ]
  },
  {
   "cell_type": "markdown",
   "id": "16274397-498f-4a1a-a76a-28b4e350d29e",
   "metadata": {},
   "source": [
    "![Beamish_pint](images/Beamish_pints.jpeg)"
   ]
  },
  {
   "cell_type": "markdown",
   "id": "cbd0ece4-7833-425d-a350-bc5538eeb321",
   "metadata": {},
   "source": [
    "This is just a bit of fun and uses plenty of sweeping generalisations!  \n",
    "Some possibilities are:\n",
    "- Old (Cork!) musicians drink beamish and whiskey\n",
    "- Trad musicians in general favour guinness.\n",
    "- Younger musicians drink craft beer and non-alcoholic alternatives.\n",
    "- Women prefer.... dangerous territory!\n",
    "- Blues musicians drink budweiser and Jack Daniels\n",
    "- Paid musicians drink alcohol because it's generally free!\n",
    "- Old-time/bluegrass musicians drink moonshine!\n",
    "\n",
    "I'm just going to create 5 relatively sensible groups and then divide the rest up randomly:\n",
    "1. Older ITM musicians - beamish\n",
    "2. Bluegrass banjo players - red wine\n",
    "3. Young blues musicians - craft beer\n",
    "4. Middle-aged legend ITM musicians - murphys\n",
    "5. Young male ITM musicians - guinness"
   ]
  },
  {
   "cell_type": "code",
   "execution_count": 64,
   "id": "768e5904-3504-47f6-af52-dd40729f2ae0",
   "metadata": {},
   "outputs": [],
   "source": [
    "# isolate groups\n",
    "# oldies\n",
    "noOldies = df[df['age_group']=='old-head']\n",
    "\n",
    "# old traddies\n",
    "oldTraddies = noOldies[noOldies['genre']=='ITM']\n",
    "\n",
    "bluegrass = df[df['genre']=='bluegrass']\n",
    "blueBanjos = bluegrass[bluegrass['instrument']=='banjo']\n",
    "\n",
    "noYoungies = df[df['age_group']=='whizz_kid']\n",
    "youngBlues = noYoungies[noYoungies['genre']=='blues']\n",
    "                        \n",
    "middlies = df[df['age_group']=='grown-up']\n",
    "middleLegend = middlies[middlies['ability']=='legend']\n",
    "middleITMLegend = middleLegend[middleLegend['genre']=='ITM']                "
   ]
  },
  {
   "cell_type": "code",
   "execution_count": 65,
   "id": "e86cb8db-ce7f-44f8-bc31-601ed332ca29",
   "metadata": {},
   "outputs": [],
   "source": [
    "# create a list of drinks\n",
    "drinks = ['beamish', 'guinness', 'murphys', 'other_draft', 'craft_beers', 'red_wine', 'shorts/cocktails', \n",
    "          'cider', 'non-alco']"
   ]
  },
  {
   "cell_type": "code",
   "execution_count": 66,
   "id": "48df5d04-6240-4870-bf3e-760d79fef81a",
   "metadata": {},
   "outputs": [
    {
     "data": {
      "text/html": [
       "<div>\n",
       "<style scoped>\n",
       "    .dataframe tbody tr th:only-of-type {\n",
       "        vertical-align: middle;\n",
       "    }\n",
       "\n",
       "    .dataframe tbody tr th {\n",
       "        vertical-align: top;\n",
       "    }\n",
       "\n",
       "    .dataframe thead th {\n",
       "        text-align: right;\n",
       "    }\n",
       "</style>\n",
       "<table border=\"1\" class=\"dataframe\">\n",
       "  <thead>\n",
       "    <tr style=\"text-align: right;\">\n",
       "      <th></th>\n",
       "      <th>instrument</th>\n",
       "      <th>genre</th>\n",
       "      <th>ability</th>\n",
       "      <th>age_group</th>\n",
       "      <th>paid</th>\n",
       "      <th>gender</th>\n",
       "      <th>repertoire</th>\n",
       "      <th>drink_of_choice</th>\n",
       "    </tr>\n",
       "    <tr>\n",
       "      <th>musician</th>\n",
       "      <th></th>\n",
       "      <th></th>\n",
       "      <th></th>\n",
       "      <th></th>\n",
       "      <th></th>\n",
       "      <th></th>\n",
       "      <th></th>\n",
       "      <th></th>\n",
       "    </tr>\n",
       "  </thead>\n",
       "  <tbody>\n",
       "    <tr>\n",
       "      <th>0</th>\n",
       "      <td>banjo</td>\n",
       "      <td>bluegrass</td>\n",
       "      <td>legend</td>\n",
       "      <td>old-head</td>\n",
       "      <td>yes</td>\n",
       "      <td>male</td>\n",
       "      <td>329</td>\n",
       "      <td>red_wine</td>\n",
       "    </tr>\n",
       "    <tr>\n",
       "      <th>1</th>\n",
       "      <td>fiddle</td>\n",
       "      <td>old-time</td>\n",
       "      <td>decent</td>\n",
       "      <td>whizz_kid</td>\n",
       "      <td>no</td>\n",
       "      <td>male</td>\n",
       "      <td>110</td>\n",
       "      <td>NaN</td>\n",
       "    </tr>\n",
       "    <tr>\n",
       "      <th>2</th>\n",
       "      <td>guitar</td>\n",
       "      <td>bluegrass</td>\n",
       "      <td>decent</td>\n",
       "      <td>grown-up</td>\n",
       "      <td>yes</td>\n",
       "      <td>female</td>\n",
       "      <td>112</td>\n",
       "      <td>NaN</td>\n",
       "    </tr>\n",
       "    <tr>\n",
       "      <th>3</th>\n",
       "      <td>bass</td>\n",
       "      <td>old-time</td>\n",
       "      <td>decent</td>\n",
       "      <td>whizz_kid</td>\n",
       "      <td>no</td>\n",
       "      <td>male</td>\n",
       "      <td>116</td>\n",
       "      <td>NaN</td>\n",
       "    </tr>\n",
       "    <tr>\n",
       "      <th>4</th>\n",
       "      <td>bass</td>\n",
       "      <td>bluegrass</td>\n",
       "      <td>legend</td>\n",
       "      <td>whizz_kid</td>\n",
       "      <td>yes</td>\n",
       "      <td>male</td>\n",
       "      <td>102</td>\n",
       "      <td>NaN</td>\n",
       "    </tr>\n",
       "  </tbody>\n",
       "</table>\n",
       "</div>"
      ],
      "text/plain": [
       "         instrument      genre ability  age_group paid  gender  repertoire  \\\n",
       "musician                                                                     \n",
       "0             banjo  bluegrass  legend   old-head  yes    male         329   \n",
       "1            fiddle   old-time  decent  whizz_kid   no    male         110   \n",
       "2            guitar  bluegrass  decent   grown-up  yes  female         112   \n",
       "3              bass   old-time  decent  whizz_kid   no    male         116   \n",
       "4              bass  bluegrass  legend  whizz_kid  yes    male         102   \n",
       "\n",
       "         drink_of_choice  \n",
       "musician                  \n",
       "0               red_wine  \n",
       "1                    NaN  \n",
       "2                    NaN  \n",
       "3                    NaN  \n",
       "4                    NaN  "
      ]
     },
     "execution_count": 66,
     "metadata": {},
     "output_type": "execute_result"
    }
   ],
   "source": [
    "# where age_group equals old-head, genre equals ITM, etc\n",
    "df.loc[(df['age_group'] == 'old-head') & (df['genre'] == 'ITM'), 'drink_of_choice'] = 'beamish' \n",
    "df.loc[(df['genre'] == 'bluegrass') & (df['instrument'] == 'banjo'), 'drink_of_choice'] = 'red_wine' \n",
    "df.loc[(df['age_group'] == 'whizz_kid') & (df['genre'] == 'blues'), 'drink_of_choice'] = 'craft_beer' \n",
    "df.loc[(df['age_group'] == 'grown-up') & (df['genre'] == 'ITM')\n",
    "       & (df['ability'] == 'legend'), 'drink_of_choice'] = 'murphys' \n",
    "df.loc[(df['age_group'] == 'whizz_kid') & (df['genre'] == 'ITM') & (df['gender'] == 'male')\n",
    "       , 'drink_of_choice'] = 'guinness' \n",
    "\n",
    "# have a look\n",
    "df.head()"
   ]
  },
  {
   "cell_type": "markdown",
   "id": "1445a720-5bbb-4192-9ba2-369b9579e583",
   "metadata": {},
   "source": [
    "We need now to fill in the `NaN` values. I'm going to do this with a random selection from the `drinks` list."
   ]
  },
  {
   "cell_type": "code",
   "execution_count": 67,
   "id": "c8bcc1e4-a975-44aa-beb4-ed5d6d2bc48d",
   "metadata": {},
   "outputs": [
    {
     "data": {
      "text/html": [
       "<div>\n",
       "<style scoped>\n",
       "    .dataframe tbody tr th:only-of-type {\n",
       "        vertical-align: middle;\n",
       "    }\n",
       "\n",
       "    .dataframe tbody tr th {\n",
       "        vertical-align: top;\n",
       "    }\n",
       "\n",
       "    .dataframe thead th {\n",
       "        text-align: right;\n",
       "    }\n",
       "</style>\n",
       "<table border=\"1\" class=\"dataframe\">\n",
       "  <thead>\n",
       "    <tr style=\"text-align: right;\">\n",
       "      <th></th>\n",
       "      <th>instrument</th>\n",
       "      <th>genre</th>\n",
       "      <th>ability</th>\n",
       "      <th>age_group</th>\n",
       "      <th>paid</th>\n",
       "      <th>gender</th>\n",
       "      <th>repertoire</th>\n",
       "      <th>drink_of_choice</th>\n",
       "    </tr>\n",
       "    <tr>\n",
       "      <th>musician</th>\n",
       "      <th></th>\n",
       "      <th></th>\n",
       "      <th></th>\n",
       "      <th></th>\n",
       "      <th></th>\n",
       "      <th></th>\n",
       "      <th></th>\n",
       "      <th></th>\n",
       "    </tr>\n",
       "  </thead>\n",
       "  <tbody>\n",
       "    <tr>\n",
       "      <th>0</th>\n",
       "      <td>banjo</td>\n",
       "      <td>bluegrass</td>\n",
       "      <td>legend</td>\n",
       "      <td>old-head</td>\n",
       "      <td>yes</td>\n",
       "      <td>male</td>\n",
       "      <td>329</td>\n",
       "      <td>red_wine</td>\n",
       "    </tr>\n",
       "    <tr>\n",
       "      <th>1</th>\n",
       "      <td>fiddle</td>\n",
       "      <td>old-time</td>\n",
       "      <td>decent</td>\n",
       "      <td>whizz_kid</td>\n",
       "      <td>no</td>\n",
       "      <td>male</td>\n",
       "      <td>110</td>\n",
       "      <td>craft_beers</td>\n",
       "    </tr>\n",
       "    <tr>\n",
       "      <th>2</th>\n",
       "      <td>guitar</td>\n",
       "      <td>bluegrass</td>\n",
       "      <td>decent</td>\n",
       "      <td>grown-up</td>\n",
       "      <td>yes</td>\n",
       "      <td>female</td>\n",
       "      <td>112</td>\n",
       "      <td>guinness</td>\n",
       "    </tr>\n",
       "    <tr>\n",
       "      <th>3</th>\n",
       "      <td>bass</td>\n",
       "      <td>old-time</td>\n",
       "      <td>decent</td>\n",
       "      <td>whizz_kid</td>\n",
       "      <td>no</td>\n",
       "      <td>male</td>\n",
       "      <td>116</td>\n",
       "      <td>cider</td>\n",
       "    </tr>\n",
       "    <tr>\n",
       "      <th>4</th>\n",
       "      <td>bass</td>\n",
       "      <td>bluegrass</td>\n",
       "      <td>legend</td>\n",
       "      <td>whizz_kid</td>\n",
       "      <td>yes</td>\n",
       "      <td>male</td>\n",
       "      <td>102</td>\n",
       "      <td>guinness</td>\n",
       "    </tr>\n",
       "  </tbody>\n",
       "</table>\n",
       "</div>"
      ],
      "text/plain": [
       "         instrument      genre ability  age_group paid  gender  repertoire  \\\n",
       "musician                                                                     \n",
       "0             banjo  bluegrass  legend   old-head  yes    male         329   \n",
       "1            fiddle   old-time  decent  whizz_kid   no    male         110   \n",
       "2            guitar  bluegrass  decent   grown-up  yes  female         112   \n",
       "3              bass   old-time  decent  whizz_kid   no    male         116   \n",
       "4              bass  bluegrass  legend  whizz_kid  yes    male         102   \n",
       "\n",
       "         drink_of_choice  \n",
       "musician                  \n",
       "0               red_wine  \n",
       "1            craft_beers  \n",
       "2               guinness  \n",
       "3                  cider  \n",
       "4               guinness  "
      ]
     },
     "execution_count": 67,
     "metadata": {},
     "output_type": "execute_result"
    }
   ],
   "source": [
    "# fill the NaN values with a random choice from the drinks list\n",
    "df['drink_of_choice'] = df['drink_of_choice'].fillna(pd.Series(np.random.choice(drinks, size=len(df.index))))\n",
    "\n",
    "df.head()"
   ]
  },
  {
   "cell_type": "markdown",
   "id": "74bf2263-6623-4702-90b9-8dd0a1ccc558",
   "metadata": {},
   "source": [
    "We can take a look at the breakdown."
   ]
  },
  {
   "cell_type": "code",
   "execution_count": 68,
   "id": "11cefc4c-9291-4925-ab78-ba20cb7f5092",
   "metadata": {},
   "outputs": [
    {
     "data": {
      "text/plain": [
       "beamish             38\n",
       "guinness            23\n",
       "murphys             18\n",
       "red_wine            15\n",
       "other_draft         14\n",
       "shorts/cocktails    10\n",
       "non-alco            10\n",
       "craft_beers          7\n",
       "craft_beer           7\n",
       "cider                4\n",
       "Name: drink_of_choice, dtype: int64"
      ]
     },
     "execution_count": 68,
     "metadata": {},
     "output_type": "execute_result"
    }
   ],
   "source": [
    "# totals for each drink\n",
    "df['drink_of_choice'].value_counts()"
   ]
  },
  {
   "cell_type": "markdown",
   "id": "f466a315-9425-48e6-a6cd-4bb06961d5c8",
   "metadata": {},
   "source": [
    "And then visualise that on a horizontal bar plot."
   ]
  },
  {
   "cell_type": "code",
   "execution_count": 69,
   "id": "8996e989-55e0-474c-947e-798ff1df2843",
   "metadata": {},
   "outputs": [
    {
     "data": {
      "image/png": "[encoded data removed]",
      "text/plain": [
       "<Figure size 1080x720 with 1 Axes>"
      ]
     },
     "metadata": {},
     "output_type": "display_data"
    }
   ],
   "source": [
    "# set size and style\n",
    "plt.rcParams[\"figure.figsize\"] = (15,10)\n",
    "plt.style.use('bmh')\n",
    "\n",
    "# set title and x label\n",
    "plt.title(\"\\nPopularity of drinks favoured by musicians\", size=18)\n",
    "plt.xlabel(\"Number of musicians\", size=15)\n",
    "\n",
    "# create the plot\n",
    "df['drink_of_choice'].value_counts().sort_values().plot(kind='barh', fontsize=15, edgecolor='k', linewidth=2);"
   ]
  },
  {
   "cell_type": "markdown",
   "id": "24444106-2614-436f-99dc-45b11452ea4b",
   "metadata": {},
   "source": [
    "We save the final version to file!"
   ]
  },
  {
   "cell_type": "code",
   "execution_count": 70,
   "id": "68a331a9-63d6-4223-9b70-d4b9ac4f12d0",
   "metadata": {},
   "outputs": [],
   "source": [
    "# save final csv file\n",
    "df.to_csv('data/the_session_final.csv')"
   ]
  },
  {
   "cell_type": "markdown",
   "id": "d9b1db51-0d5a-4fe3-8e85-9a1f72389257",
   "metadata": {},
   "source": [
    "<br>\n",
    "\n",
    "---\n",
    "### The final dataset! \n",
    "---"
   ]
  },
  {
   "cell_type": "code",
   "execution_count": 71,
   "id": "ff4a4e9a-2191-4c51-84df-6f471a95d38e",
   "metadata": {},
   "outputs": [
    {
     "data": {
      "text/html": [
       "<div>\n",
       "<style scoped>\n",
       "    .dataframe tbody tr th:only-of-type {\n",
       "        vertical-align: middle;\n",
       "    }\n",
       "\n",
       "    .dataframe tbody tr th {\n",
       "        vertical-align: top;\n",
       "    }\n",
       "\n",
       "    .dataframe thead th {\n",
       "        text-align: right;\n",
       "    }\n",
       "</style>\n",
       "<table border=\"1\" class=\"dataframe\">\n",
       "  <thead>\n",
       "    <tr style=\"text-align: right;\">\n",
       "      <th></th>\n",
       "      <th>instrument</th>\n",
       "      <th>genre</th>\n",
       "      <th>ability</th>\n",
       "      <th>age_group</th>\n",
       "      <th>paid</th>\n",
       "      <th>gender</th>\n",
       "      <th>repertoire</th>\n",
       "      <th>drink_of_choice</th>\n",
       "    </tr>\n",
       "    <tr>\n",
       "      <th>musician</th>\n",
       "      <th></th>\n",
       "      <th></th>\n",
       "      <th></th>\n",
       "      <th></th>\n",
       "      <th></th>\n",
       "      <th></th>\n",
       "      <th></th>\n",
       "      <th></th>\n",
       "    </tr>\n",
       "  </thead>\n",
       "  <tbody>\n",
       "    <tr>\n",
       "      <th>0</th>\n",
       "      <td>banjo</td>\n",
       "      <td>bluegrass</td>\n",
       "      <td>legend</td>\n",
       "      <td>old-head</td>\n",
       "      <td>yes</td>\n",
       "      <td>male</td>\n",
       "      <td>329</td>\n",
       "      <td>red_wine</td>\n",
       "    </tr>\n",
       "    <tr>\n",
       "      <th>1</th>\n",
       "      <td>fiddle</td>\n",
       "      <td>old-time</td>\n",
       "      <td>decent</td>\n",
       "      <td>whizz_kid</td>\n",
       "      <td>no</td>\n",
       "      <td>male</td>\n",
       "      <td>110</td>\n",
       "      <td>craft_beers</td>\n",
       "    </tr>\n",
       "    <tr>\n",
       "      <th>2</th>\n",
       "      <td>guitar</td>\n",
       "      <td>bluegrass</td>\n",
       "      <td>decent</td>\n",
       "      <td>grown-up</td>\n",
       "      <td>yes</td>\n",
       "      <td>female</td>\n",
       "      <td>112</td>\n",
       "      <td>guinness</td>\n",
       "    </tr>\n",
       "    <tr>\n",
       "      <th>3</th>\n",
       "      <td>bass</td>\n",
       "      <td>old-time</td>\n",
       "      <td>decent</td>\n",
       "      <td>whizz_kid</td>\n",
       "      <td>no</td>\n",
       "      <td>male</td>\n",
       "      <td>116</td>\n",
       "      <td>cider</td>\n",
       "    </tr>\n",
       "    <tr>\n",
       "      <th>4</th>\n",
       "      <td>bass</td>\n",
       "      <td>bluegrass</td>\n",
       "      <td>legend</td>\n",
       "      <td>whizz_kid</td>\n",
       "      <td>yes</td>\n",
       "      <td>male</td>\n",
       "      <td>102</td>\n",
       "      <td>guinness</td>\n",
       "    </tr>\n",
       "    <tr>\n",
       "      <th>5</th>\n",
       "      <td>dobro</td>\n",
       "      <td>bluegrass</td>\n",
       "      <td>decent</td>\n",
       "      <td>old-head</td>\n",
       "      <td>yes</td>\n",
       "      <td>female</td>\n",
       "      <td>313</td>\n",
       "      <td>craft_beers</td>\n",
       "    </tr>\n",
       "    <tr>\n",
       "      <th>6</th>\n",
       "      <td>guitar</td>\n",
       "      <td>blues</td>\n",
       "      <td>decent</td>\n",
       "      <td>whizz_kid</td>\n",
       "      <td>yes</td>\n",
       "      <td>male</td>\n",
       "      <td>102</td>\n",
       "      <td>craft_beer</td>\n",
       "    </tr>\n",
       "    <tr>\n",
       "      <th>7</th>\n",
       "      <td>guitar</td>\n",
       "      <td>bluegrass</td>\n",
       "      <td>decent</td>\n",
       "      <td>old-head</td>\n",
       "      <td>no</td>\n",
       "      <td>male</td>\n",
       "      <td>324</td>\n",
       "      <td>shorts/cocktails</td>\n",
       "    </tr>\n",
       "    <tr>\n",
       "      <th>8</th>\n",
       "      <td>mandolin</td>\n",
       "      <td>old-time</td>\n",
       "      <td>decent</td>\n",
       "      <td>grown-up</td>\n",
       "      <td>no</td>\n",
       "      <td>male</td>\n",
       "      <td>93</td>\n",
       "      <td>red_wine</td>\n",
       "    </tr>\n",
       "    <tr>\n",
       "      <th>9</th>\n",
       "      <td>guitar</td>\n",
       "      <td>old-time</td>\n",
       "      <td>decent</td>\n",
       "      <td>grown-up</td>\n",
       "      <td>no</td>\n",
       "      <td>male</td>\n",
       "      <td>105</td>\n",
       "      <td>beamish</td>\n",
       "    </tr>\n",
       "    <tr>\n",
       "      <th>10</th>\n",
       "      <td>uilleann_pipes</td>\n",
       "      <td>ITM</td>\n",
       "      <td>decent</td>\n",
       "      <td>old-head</td>\n",
       "      <td>yes</td>\n",
       "      <td>male</td>\n",
       "      <td>818</td>\n",
       "      <td>beamish</td>\n",
       "    </tr>\n",
       "    <tr>\n",
       "      <th>11</th>\n",
       "      <td>accordion</td>\n",
       "      <td>ITM</td>\n",
       "      <td>legend</td>\n",
       "      <td>old-head</td>\n",
       "      <td>yes</td>\n",
       "      <td>male</td>\n",
       "      <td>1164</td>\n",
       "      <td>beamish</td>\n",
       "    </tr>\n",
       "    <tr>\n",
       "      <th>12</th>\n",
       "      <td>accordion</td>\n",
       "      <td>ITM</td>\n",
       "      <td>legend</td>\n",
       "      <td>grown-up</td>\n",
       "      <td>yes</td>\n",
       "      <td>female</td>\n",
       "      <td>831</td>\n",
       "      <td>murphys</td>\n",
       "    </tr>\n",
       "    <tr>\n",
       "      <th>13</th>\n",
       "      <td>guitar</td>\n",
       "      <td>blues</td>\n",
       "      <td>legend</td>\n",
       "      <td>old-head</td>\n",
       "      <td>yes</td>\n",
       "      <td>female</td>\n",
       "      <td>274</td>\n",
       "      <td>other_draft</td>\n",
       "    </tr>\n",
       "    <tr>\n",
       "      <th>14</th>\n",
       "      <td>accordion</td>\n",
       "      <td>ITM</td>\n",
       "      <td>decent</td>\n",
       "      <td>whizz_kid</td>\n",
       "      <td>no</td>\n",
       "      <td>male</td>\n",
       "      <td>404</td>\n",
       "      <td>guinness</td>\n",
       "    </tr>\n",
       "    <tr>\n",
       "      <th>15</th>\n",
       "      <td>drums</td>\n",
       "      <td>blues</td>\n",
       "      <td>legend</td>\n",
       "      <td>whizz_kid</td>\n",
       "      <td>yes</td>\n",
       "      <td>male</td>\n",
       "      <td>97</td>\n",
       "      <td>craft_beer</td>\n",
       "    </tr>\n",
       "    <tr>\n",
       "      <th>16</th>\n",
       "      <td>keyboard</td>\n",
       "      <td>blues</td>\n",
       "      <td>decent</td>\n",
       "      <td>old-head</td>\n",
       "      <td>yes</td>\n",
       "      <td>male</td>\n",
       "      <td>200</td>\n",
       "      <td>other_draft</td>\n",
       "    </tr>\n",
       "    <tr>\n",
       "      <th>17</th>\n",
       "      <td>fiddle</td>\n",
       "      <td>bluegrass</td>\n",
       "      <td>legend</td>\n",
       "      <td>grown-up</td>\n",
       "      <td>yes</td>\n",
       "      <td>male</td>\n",
       "      <td>88</td>\n",
       "      <td>murphys</td>\n",
       "    </tr>\n",
       "    <tr>\n",
       "      <th>18</th>\n",
       "      <td>guitar</td>\n",
       "      <td>blues</td>\n",
       "      <td>legend</td>\n",
       "      <td>grown-up</td>\n",
       "      <td>yes</td>\n",
       "      <td>male</td>\n",
       "      <td>112</td>\n",
       "      <td>murphys</td>\n",
       "    </tr>\n",
       "    <tr>\n",
       "      <th>19</th>\n",
       "      <td>uilleann_pipes</td>\n",
       "      <td>ITM</td>\n",
       "      <td>legend</td>\n",
       "      <td>whizz_kid</td>\n",
       "      <td>yes</td>\n",
       "      <td>male</td>\n",
       "      <td>727</td>\n",
       "      <td>guinness</td>\n",
       "    </tr>\n",
       "  </tbody>\n",
       "</table>\n",
       "</div>"
      ],
      "text/plain": [
       "              instrument      genre ability  age_group paid  gender  \\\n",
       "musician                                                              \n",
       "0                  banjo  bluegrass  legend   old-head  yes    male   \n",
       "1                 fiddle   old-time  decent  whizz_kid   no    male   \n",
       "2                 guitar  bluegrass  decent   grown-up  yes  female   \n",
       "3                   bass   old-time  decent  whizz_kid   no    male   \n",
       "4                   bass  bluegrass  legend  whizz_kid  yes    male   \n",
       "5                  dobro  bluegrass  decent   old-head  yes  female   \n",
       "6                 guitar      blues  decent  whizz_kid  yes    male   \n",
       "7                 guitar  bluegrass  decent   old-head   no    male   \n",
       "8               mandolin   old-time  decent   grown-up   no    male   \n",
       "9                 guitar   old-time  decent   grown-up   no    male   \n",
       "10        uilleann_pipes        ITM  decent   old-head  yes    male   \n",
       "11             accordion        ITM  legend   old-head  yes    male   \n",
       "12             accordion        ITM  legend   grown-up  yes  female   \n",
       "13                guitar      blues  legend   old-head  yes  female   \n",
       "14             accordion        ITM  decent  whizz_kid   no    male   \n",
       "15                 drums      blues  legend  whizz_kid  yes    male   \n",
       "16              keyboard      blues  decent   old-head  yes    male   \n",
       "17                fiddle  bluegrass  legend   grown-up  yes    male   \n",
       "18                guitar      blues  legend   grown-up  yes    male   \n",
       "19        uilleann_pipes        ITM  legend  whizz_kid  yes    male   \n",
       "\n",
       "          repertoire   drink_of_choice  \n",
       "musician                                \n",
       "0                329          red_wine  \n",
       "1                110       craft_beers  \n",
       "2                112          guinness  \n",
       "3                116             cider  \n",
       "4                102          guinness  \n",
       "5                313       craft_beers  \n",
       "6                102        craft_beer  \n",
       "7                324  shorts/cocktails  \n",
       "8                 93          red_wine  \n",
       "9                105           beamish  \n",
       "10               818           beamish  \n",
       "11              1164           beamish  \n",
       "12               831           murphys  \n",
       "13               274       other_draft  \n",
       "14               404          guinness  \n",
       "15                97        craft_beer  \n",
       "16               200       other_draft  \n",
       "17                88           murphys  \n",
       "18               112           murphys  \n",
       "19               727          guinness  "
      ]
     },
     "execution_count": 71,
     "metadata": {},
     "output_type": "execute_result"
    }
   ],
   "source": [
    "# have a look\n",
    "df.head(20)"
   ]
  },
  {
   "cell_type": "markdown",
   "id": "39fccb51-6791-4fcc-808a-a525461d347b",
   "metadata": {},
   "source": [
    "<br>\n",
    "\n",
    "This is just the first 20 rows of the dataframe but it looks fairly accurate to me! It would be interesting to undertake an actual study and record the same information over a month and see how close I got. In the meantime it has provided a bit of fun to whoever I have shown it to! 😁  \n",
    "A full version of the final dataset can be viewed in the data folder - `data/the_session_final.csv`."
   ]
  },
  {
   "cell_type": "markdown",
   "id": "88330b45-f8a6-4fe9-9207-c19fdcee1dcb",
   "metadata": {},
   "source": [
    "<br>\n",
    "\n",
    "___\n",
    "### References\n",
    "___\n",
    "\n",
    "[Different ways to create Pandas Dataframe - www.geeksforgeeks.org](https://www.geeksforgeeks.org/different-ways-to-create-pandas-dataframe/)\n",
    "\n",
    "[How to Add a Numpy Array to a Pandas DataFrame - www.statology.org](https://www.statology.org/add-numpy-array-to-pandas-dataframe/)\n",
    "\n",
    "[How to generate a random normal distribution of integers - www.py4u.net](https://www.py4u.net/discuss/18951)\n",
    "\n",
    "[Seaborn Bar Plot - stackabuse.com](https://stackabuse.com/seaborn-bar-plot-tutorial-and-examples/)\n",
    "\n",
    "[Plotting with categorical data - seaborn.pydata.org](http://seaborn.pydata.org/tutorial/categorical.html?highlight=bar%20plot)\n",
    "\n",
    "[numpy: most efficient frequency counts for unique values in an array - stackoverflow.com](https://stackoverflow.com/questions/10741346/numpy-most-efficient-frequency-counts-for-unique-values-in-an-array)\n",
    "\n",
    "[Add a Column to a Pandas DataFrame Based on an If-Else Condition - www.dataquest.io](https://www.dataquest.io/blog/tutorial-add-column-pandas-dataframe-based-on-if-else-condition/)\n",
    "\n",
    "[Insert a new column in pandas with random string values - stackoverflow.com](https://stackoverflow.com/questions/65982695/insert-a-new-column-in-pandas-with-random-string-values)\n",
    "\n",
    "[pandas.Series.to_numpy - pandas.pydata.org](https://pandas.pydata.org/pandas-docs/version/0.24.0rc1/api/generated/pandas.Series.to_numpy.html)\n",
    "\n",
    "[Python Random choices() Method - www.w3schools.com](https://www.w3schools.com/python/ref_random_choices.asp)\n",
    "\n",
    "[How to convert a list into a pandas DataFrame in Python - www.kite.com](https://www.kite.com/python/answers/how-to-convert-a-list-into-a-pandas-dataframe-in-python)\n",
    "\n",
    "[5 ways to apply an IF condition in Pandas DataFrame - datatofish.com](https://datatofish.com/if-condition-in-pandas-dataframe/)\n",
    "\n",
    "[How can I randomly select an item from a list? - stackoverflow.com](https://stackoverflow.com/questions/306400/how-can-i-randomly-select-an-item-from-a-list)\n",
    "\n",
    "[How to count the NaN values in a column in pandas DataFrame - stackoverflow.com](https://stackoverflow.com/questions/26266362/how-to-count-the-nan-values-in-a-column-in-pandas-dataframe)\n",
    "\n",
    "[Complete list of github markdown emoji markup - gist.github.com](https://gist.github.com/rxaviers/7360908)\n",
    "\n",
    "[How to Create Pie Chart from Pandas DataFrame - www.statology.org](https://www.statology.org/pandas-pie-chart/)\n",
    "\n",
    "[Centering Text in IPython notebook markdown/heading cells? - stackoverflow.com](https://stackoverflow.com/questions/18575012/centering-text-in-ipython-notebook-markdown-heading-cells)\n",
    "\n",
    "[Remove elements from numpy array smaller than 1 - stackoverflow.com](https://stackoverflow.com/questions/55806118/remove-elements-from-numpy-array-smaller-than-1)"
   ]
  },
  {
   "cell_type": "markdown",
   "id": "c79f4c2d-4338-4892-a9d0-ae570d640091",
   "metadata": {},
   "source": [
    "<br>\n",
    "\n",
    "---\n",
    "## THE END\n",
    "---"
   ]
  }
 ],
 "metadata": {
  "kernelspec": {
   "display_name": "Python 3 (ipykernel)",
   "language": "python",
   "name": "python3"
  },
  "language_info": {
   "codemirror_mode": {
    "name": "ipython",
    "version": 3
   },
   "file_extension": ".py",
   "mimetype": "text/x-python",
   "name": "python",
   "nbconvert_exporter": "python",
   "pygments_lexer": "ipython3",
   "version": "3.9.7"
  }
 },
 "nbformat": 4,
 "nbformat_minor": 5
}
